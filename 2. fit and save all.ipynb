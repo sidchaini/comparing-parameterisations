{
 "cells": [
  {
   "cell_type": "code",
   "execution_count": 1,
   "id": "596b9846",
   "metadata": {},
   "outputs": [],
   "source": [
    "import numpy as np\n",
    "np.random.seed(42)\n",
    "np.set_printoptions(suppress=True)\n",
    "from scipy.optimize import least_squares, curve_fit\n",
    "from matplotlib import pylab as plt\n",
    "import pandas as pd\n",
    "import glob\n",
    "import time\n",
    "from tqdm.notebook import tqdm\n",
    "import os\n",
    "\n",
    "import warnings\n",
    "from scipy.optimize import OptimizeWarning\n",
    "warnings.simplefilter(\"error\", OptimizeWarning)\n",
    "\n",
    "# import seaborn as sns\n",
    "# sns.set()"
   ]
  },
  {
   "cell_type": "markdown",
   "id": "fddeb436-c42f-4df8-b93d-2436d8a46c9d",
   "metadata": {},
   "source": [
    "## Defining Individual Functions for Each Parameterisation"
   ]
  },
  {
   "cell_type": "markdown",
   "id": "13f4e983-b434-49f7-adda-ad811da28793",
   "metadata": {},
   "source": [
    "### 1. Bazin - Old"
   ]
  },
  {
   "cell_type": "code",
   "execution_count": 2,
   "id": "ed52b4d2-d737-423f-9bd9-2795f2a0899f",
   "metadata": {},
   "outputs": [],
   "source": [
    "bazinfeatures = [\"a\", \"b\", \"t0\", \"tfall\", \"trise\"]\n",
    "\n",
    "def oldbazin(time, a, b, t0, tfall, trise):\n",
    "    with np.errstate(over='ignore', invalid='ignore'):\n",
    "        X = np.exp(-(time - t0) / tfall) / (1 + np.exp((time - t0) / trise))\n",
    "        return a * X + b\n",
    "    \n",
    "def errfunc_oldbazin(params, time, flux, fluxerr):\n",
    "    return abs(flux - oldbazin(time, *params))\n",
    "\n",
    "def fit_scipy_oldbazin(time, flux, fluxerr):\n",
    "    flux = np.asarray(flux)\n",
    "    t0 = time[flux.argmax()] - time[0]\n",
    "    guess = [0, 0, t0, 40, -5]\n",
    "\n",
    "    result = least_squares(errfunc_oldbazin, guess, args=(time, flux, fluxerr), method='lm')\n",
    "\n",
    "    return result.x"
   ]
  },
  {
   "cell_type": "markdown",
   "id": "eb86c84e-4f12-4113-99d0-802440723faf",
   "metadata": {},
   "source": [
    "### 2. Bazin - New"
   ]
  },
  {
   "cell_type": "code",
   "execution_count": 3,
   "id": "375cf85a-8bdd-484f-9cc9-03b6496f81f4",
   "metadata": {},
   "outputs": [],
   "source": [
    "bazinfeatures = [\"a\", \"b\", \"t0\", \"tfall\", \"trise\"]\n",
    "\n",
    "def bazin(time, a, b, t0, tfall, trise):\n",
    "    with np.errstate(over='ignore', invalid='ignore'):\n",
    "        X = np.exp(-(time - t0) / tfall) / (1 + np.exp(-(time - t0) / trise))\n",
    "        return a * X + b\n",
    "\n",
    "def bazinr(time, a, b, t0, tfall, r):\n",
    "    trise = tfall/r\n",
    "    return bazin(time, a, b, t0, tfall, trise)\n",
    "    \n",
    "def errfunc_bazin(params, time, flux, fluxerr):\n",
    "    return abs(flux - bazinr(time, *params)) / fluxerr\n",
    "\n",
    "def fit_scipy_bazin(time, flux, fluxerr):\n",
    "    flux = np.asarray(flux)\n",
    "    imax = flux.argmax()\n",
    "    flux_max = flux[imax]\n",
    "    \n",
    "    # Parameter guess\n",
    "    a_guess = 2*flux_max\n",
    "    b_guess = 0\n",
    "    t0_guess = time[imax]\n",
    "    \n",
    "    tfall_guess = time[imax-2:imax+2].std()/2\n",
    "    if np.isnan(tfall_guess):\n",
    "        tfall_guess = time[imax-1:imax+1].std()/2\n",
    "        if np.isnan(tfall_guess):\n",
    "            tfall_guess=50\n",
    "    if tfall_guess<1:\n",
    "        tfall_guess=50\n",
    "\n",
    "    r_guess = 2\n",
    "\n",
    "    guess = [a_guess,b_guess,t0_guess,tfall_guess,r_guess]\n",
    "\n",
    "    # Parameter bounds\n",
    "    a_bounds = [1.e-3, np.inf]\n",
    "    b_bounds = [-np.inf, np.inf]\n",
    "    t0_bounds = [-0.5*time.max(), 1.5*time.max()]\n",
    "    tfall_bounds = [1.e-3, np.inf]\n",
    "    r_bounds = [1, np.inf]\n",
    "    \n",
    "    bounds = [[a_bounds[0], b_bounds[0], t0_bounds[0], tfall_bounds[0], r_bounds[0]],\n",
    "              [a_bounds[1], b_bounds[1], t0_bounds[1], tfall_bounds[1], r_bounds[1]]]\n",
    "    \n",
    "    result = least_squares(errfunc_bazin, guess, args=(time, flux, fluxerr), method='trf', loss='linear',bounds=bounds)\n",
    "    \n",
    "    a_fit,b_fit,t0_fit,tfall_fit,r_fit = result.x\n",
    "    trise_fit = tfall_fit/r_fit\n",
    "    final_result = np.array([a_fit,b_fit,t0_fit,tfall_fit,trise_fit])\n",
    "    \n",
    "    return final_result"
   ]
  },
  {
   "cell_type": "markdown",
   "id": "0c7899b5-0017-44d0-9b3f-b80470fa33d6",
   "metadata": {},
   "source": [
    "### 3. FRED"
   ]
  },
  {
   "cell_type": "code",
   "execution_count": 4,
   "id": "5ef67b72-bd9f-4581-8c5f-090141e03e85",
   "metadata": {},
   "outputs": [],
   "source": [
    "fredfeatures = [\"tm\", \"r\", \"d\", \"Fm\", \"b\"]\n",
    "\n",
    "def fred(time, tm, r, d, Fm, b):\n",
    "    t0 = 0 # No trigger time in our case and timestamps are arbitrary, so t0 = 0\n",
    "    x = (time+t0)/(tm+t0)\n",
    "    val = Fm * (x)**r * ((d)/(d+r) + (r)/(d+r) * (x)**(r+1) )**(-(r+d)/(r+1)) + b\n",
    "    return val\n",
    "\n",
    "def errfunc_fred(params, time, flux, fluxerr):\n",
    "    return abs(flux - fred(time, *params))/ fluxerr\n",
    "\n",
    "\n",
    "def fit_scipy_fred(time, flux, fluxerr):\n",
    "    flux = np.asarray(flux)\n",
    "    imax = flux.argmax()\n",
    "    flux_max = flux[imax]\n",
    "    \n",
    "    tm_bounds = [-0.5*time.max(), 1.5*time.max()]\n",
    "    r_bounds = [1.e-3,np.inf]\n",
    "    d_bounds = [1.e-3,np.inf]\n",
    "    Fm_bounds = [-np.inf,np.inf]\n",
    "    b_bounds = [-np.inf,np.inf]\n",
    "    \n",
    "    # Parameter guess\n",
    "    tm_guess = time[imax]\n",
    "    r_guess = 30\n",
    "    d_guess = 30\n",
    "    Fm_guess = flux_max\n",
    "    b_guess = time[0]\n",
    "    \n",
    "    guess = [tm_guess, r_guess, d_guess, Fm_guess, b_guess]\n",
    "\n",
    "    result = least_squares(errfunc_fred, guess, args=(time, flux, fluxerr), method='trf', loss='linear',\\\n",
    "                                  bounds=([tm_bounds[0], r_bounds[0], d_bounds[0], Fm_bounds[0], b_bounds[0]],\n",
    "                                          [tm_bounds[1], r_bounds[1], d_bounds[1], Fm_bounds[1], b_bounds[1]])\n",
    "                          )\n",
    "    \n",
    "    return result.x"
   ]
  },
  {
   "cell_type": "markdown",
   "id": "56bfd5d6-389b-4807-b159-930a4eb9a6ea",
   "metadata": {},
   "source": [
    "### 4. Karpenka"
   ]
  },
  {
   "cell_type": "code",
   "execution_count": 5,
   "id": "dde6961e-209d-4759-b0de-bbb9c4414ec7",
   "metadata": {},
   "outputs": [],
   "source": [
    "karpenkafeatures = [\"a\", \"b\", \"t0\", \"tfall\", \"trise\", \"t1\", \"c\"]\n",
    "\n",
    "def karpenka(time, a, b, t0, tfall, trise, t1, c):\n",
    "    val = a*(1+b*(time-t1)**2)* (np.exp(-(time-t0)/tfall))/(1+np.exp(-(time-t0)/trise))\n",
    "    return val + c\n",
    "\n",
    "def karpenkar(time, a, b, t0, tfall, r, t1, c):\n",
    "    trise = tfall/r\n",
    "    return karpenka(time, a, b, t0, tfall, trise, t1, c)\n",
    "\n",
    "def errfunc_karpenka(params, time, flux, fluxerr):\n",
    "    return abs(flux - karpenkar(time, *params)) / fluxerr\n",
    "\n",
    "def fit_scipy_karpenka(time, flux, fluxerr):\n",
    "    flux = np.asarray(flux)\n",
    "    imax = flux.argmax()\n",
    "    flux_max = flux[imax]\n",
    "    \n",
    "    # Parameter guess\n",
    "    a_guess = 2*flux_max\n",
    "    b_guess = 0\n",
    "    t0_guess = time[imax]\n",
    "    t1_guess = time[imax]\n",
    "    c_guess = 0\n",
    "    \n",
    "    tfall_guess = time[imax-2:imax+2].std()/2\n",
    "    if np.isnan(tfall_guess):\n",
    "        tfall_guess = time[imax-1:imax+1].std()/2\n",
    "        if np.isnan(tfall_guess):\n",
    "            tfall_guess=50\n",
    "    if tfall_guess<1:\n",
    "        tfall_guess=50\n",
    "\n",
    "    r_guess = 2\n",
    "\n",
    "    guess = [a_guess,b_guess,t0_guess,tfall_guess,r_guess,t1_guess,c_guess]\n",
    "\n",
    "    # Parameter bounds\n",
    "    a_bounds = [1.e-3, np.inf]\n",
    "    b_bounds = [-np.inf, np.inf]\n",
    "    t0_bounds = [-0.5*time.max(), 1.5*time.max()]\n",
    "    t1_bounds = [-0.5*time.max(), 1.5*time.max()]\n",
    "    tfall_bounds = [1.e-3, np.inf]\n",
    "    r_bounds = [1, np.inf]\n",
    "    c_bounds = [-np.inf, np.inf]\n",
    "    \n",
    "    bounds = [[a_bounds[0], b_bounds[0], t0_bounds[0], tfall_bounds[0], r_bounds[0], t1_bounds[0], c_bounds[0]],\n",
    "              [a_bounds[1], b_bounds[1], t0_bounds[1], tfall_bounds[1], r_bounds[1], t1_bounds[1], c_bounds[1]]]\n",
    "    \n",
    "    result = least_squares(errfunc_karpenka, guess, args=(time, flux, fluxerr), method='trf', loss='linear',bounds=bounds)\n",
    "    \n",
    "    a_fit,b_fit,t0_fit,tfall_fit,r_fit,t1_fit,c_fit = result.x\n",
    "    trise_fit = tfall_fit/r_fit\n",
    "    final_result = np.array([a_fit,b_fit,t0_fit,tfall_fit,trise_fit,t1_fit,c_fit])\n",
    "    \n",
    "    return final_result"
   ]
  },
  {
   "cell_type": "markdown",
   "id": "2f0bd57b-e619-4219-ad7c-1b3478f8a254",
   "metadata": {},
   "source": [
    "### 5. Villar"
   ]
  },
  {
   "cell_type": "code",
   "execution_count": 6,
   "id": "f1bb9806-ec8e-469d-9b05-ef7e8d1ef717",
   "metadata": {},
   "outputs": [],
   "source": [
    "villarfeatures = [\"a\", \"beta\", \"t0\", \"gamma\", \"t_fall\", \"t_rise\"]\n",
    "\n",
    "def villarupper(time,a,beta,t0,t1,tfall,trise):\n",
    "    val = (a + beta*(time-t0))/(1+np.exp(-(time-t0)/trise))\n",
    "    return val\n",
    "\n",
    "def villarlower(time,a,beta,t0,t1,tfall,trise):\n",
    "    val = ((a+beta*(t1-t0))*np.exp(-(time-t1)/tfall))/(1+np.exp(-(time-t0)/trise))\n",
    "    return val\n",
    "\n",
    "def villar(time,a,beta,t0,gamma,tfall,trise):\n",
    "    t1 = t0 + gamma\n",
    "    val = np.piecewise(time, [time < t1, time >= t1], [lambda time: villarupper(time,a,beta,t0,t1,tfall,trise), lambda time: villarlower(time,a,beta,t0,t1,tfall,trise)])\n",
    "    return val\n",
    "\n",
    "def errfunc_villar(params, time, flux, fluxerr):\n",
    "    return abs(flux - villar(time, *params))/ fluxerr\n",
    "\n",
    "def fit_scipy_villar(time, flux, fluxerr):\n",
    "    flux = np.asarray(flux)\n",
    "    imax = flux.argmax()\n",
    "    t0 = time[imax]\n",
    "    max_flux = flux[imax]\n",
    "    if max_flux>0:\n",
    "        a_bounds = [max_flux / 3.0, max_flux * 3.0]\n",
    "    else:\n",
    "        a_bounds = [-np.inf, np.inf]\n",
    "    beta_bounds = [0.0, 1.0]\n",
    "    t0_bounds = [-0.5*time.max(), 1.5*time.max()]\n",
    "    gamma_bounds = [1.0, 100.0]\n",
    "    tfall_bounds = [1.0, 100.0]\n",
    "    trise_bounds = [1.0, 100.0]\n",
    "\n",
    "    \n",
    "    a_guess = np.clip(1.5 * max_flux, a_bounds[0], a_bounds[1])\n",
    "    beta_guess = 0\n",
    "    t0_guess = np.clip(time[imax] * 2.0 / 3.0, t0_bounds[0], t0_bounds[1])\n",
    "    gamma_guess = np.clip(time[imax], gamma_bounds[0], gamma_bounds[1])\n",
    "    tfall_guess = 50\n",
    "    trise_guess = 45\n",
    "    \n",
    "    guess = [a_guess, beta_guess, t0_guess, gamma_guess, tfall_guess, trise_guess]\n",
    "    \n",
    "    result = least_squares(errfunc_villar, guess, args=(time, flux, fluxerr), method='trf', loss='linear',\\\n",
    "                                  bounds=([a_bounds[0], beta_bounds[0], t0_bounds[0], gamma_bounds[0], tfall_bounds[0], trise_bounds[0]],\n",
    "                                         [a_bounds[1], beta_bounds[1], t0_bounds[1], gamma_bounds[1], tfall_bounds[1], trise_bounds[1]])\n",
    "                          )\n",
    "    return result.x\n"
   ]
  },
  {
   "cell_type": "markdown",
   "id": "d599abb1-09d0-44ba-b58f-de242fe9f3d8",
   "metadata": {},
   "source": [
    "### 6. ALERCE v1"
   ]
  },
  {
   "cell_type": "code",
   "execution_count": 7,
   "id": "6069e286-25a4-4004-8a64-13b5d12e2a39",
   "metadata": {
    "tags": []
   },
   "outputs": [],
   "source": [
    "alercev1features = [\"a\", \"beta\", \"t0\", \"gamma\", \"t_fall\", \"t_rise\"]\n",
    "\n",
    "def upperfn(time,a,beta,t0,t1,tfall,trise):\n",
    "    val = (a*(1 - beta*(time-t0)/(t1-t0)))/(1+np.exp(-(time-t0)/trise))\n",
    "    return val\n",
    "def lowerfn(time,a,beta,t0,t1,tfall,trise):\n",
    "    val = (a*(1-beta)*np.exp(-(time-t1)/tfall))/(1+np.exp(-(time-t0)/trise))\n",
    "    return val\n",
    "def alercev1(time,a,beta,t0,gamma,tfall,trise):\n",
    "    t1 = t0 + gamma\n",
    "    val = np.piecewise(time, [time < t1, time >= t1], [lambda time: upperfn(time,a,beta,t0,t1,tfall,trise), lambda time: lowerfn(time,a,beta,t0,t1,tfall,trise)])\n",
    "    return val\n",
    "\n",
    "def errfunc_alercev1(params, time, flux, fluxerr):\n",
    "    return abs(flux - alercev1(time, *params))/ fluxerr\n",
    "\n",
    "def fit_scipy_alercev1(time, flux, fluxerr):\n",
    "    flux = np.asarray(flux)\n",
    "    imax = flux.argmax()\n",
    "    t0 = time[imax]\n",
    "    max_flux = flux[imax]\n",
    "    if max_flux>0:\n",
    "        a_bounds = [max_flux / 3.0, max_flux * 3.0]\n",
    "    else:\n",
    "        a_bounds = [-np.inf, np.inf]\n",
    "    beta_bounds = [0.0, 1.0]\n",
    "    t0_bounds = [-0.5*time.max(), 1.5*time.max()]\n",
    "    gamma_bounds = [1.0, 100.0]\n",
    "    tfall_bounds = [1.0, 100.0]\n",
    "    trise_bounds = [1.0, 100.0]\n",
    "\n",
    "    \n",
    "    a_guess = np.clip(1.5 * max_flux, a_bounds[0], a_bounds[1])\n",
    "    beta_guess = 0\n",
    "    t0_guess = np.clip(time[imax] * 2.0 / 3.0, t0_bounds[0], t0_bounds[1])\n",
    "    gamma_guess = np.clip(time[imax], gamma_bounds[0], gamma_bounds[1])\n",
    "    tfall_guess = 50\n",
    "    trise_guess = 45\n",
    "    \n",
    "    guess = [a_guess, beta_guess, t0_guess, gamma_guess, tfall_guess, trise_guess]\n",
    "    \n",
    "    result = least_squares(errfunc_alercev1, guess, args=(time, flux, fluxerr), method='trf', loss='linear',\\\n",
    "                                  bounds=([a_bounds[0], beta_bounds[0], t0_bounds[0], gamma_bounds[0], tfall_bounds[0], trise_bounds[0]],\n",
    "                                         [a_bounds[1], beta_bounds[1], t0_bounds[1], gamma_bounds[1], tfall_bounds[1], trise_bounds[1]])\n",
    "                          )\n",
    "    return result.x\n"
   ]
  },
  {
   "cell_type": "markdown",
   "id": "2344100d-ae13-43d2-93b1-bc2b230879e2",
   "metadata": {},
   "source": [
    "### 7. Sánchez-Sáez (ALERCE v2)\n",
    "(NOTE: 3 Different implementations were tried for this earlier [here](https://github.com/siddharthchaini/comparing-parameterisations/blob/a2310de1b68eb47b38d671d70aadbcc839aad7af/2.%20fit%20and%20save%20all.ipynb). The following is the implementation that performed the best."
   ]
  },
  {
   "cell_type": "code",
   "execution_count": 8,
   "id": "dadabf8d-3fb5-4300-af20-e03ef4f40aeb",
   "metadata": {},
   "outputs": [],
   "source": [
    "alercev2features = [\"A\", \"t0\", \"gamma\", \"beta\", \"t_rise\", \"t_fall\"]\n",
    "\n",
    "def alercev2(times, A, t0, gamma, beta, t_rise, t_fall):\n",
    "    sigmoid_factor = 1.0 / 3.0\n",
    "    t1 = t0 + gamma\n",
    "\n",
    "    sigmoid = 1.0 / (1.0 + np.exp(-sigmoid_factor * (times - t1)))\n",
    "    den = 1 + np.exp(-(times - t0) / t_rise)\n",
    "    flux = ((1 - beta) * np.exp(-(times - t1) / t_fall)\n",
    "            * sigmoid\n",
    "            + (1. - beta * (times - t0) / gamma)\n",
    "            * (1 - sigmoid)) * A / den\n",
    "    return flux\n",
    "\n",
    "def fit_scipy_alercev2(times, fluxpsf, obs_errors):\n",
    "    '''\n",
    "    Adapted from:\n",
    "    https://github.com/alercebroker/lc_classifier/blob/main/lc_classifier/features/extractors/sn_parametric_model_computer.py#L113\n",
    "    '''\n",
    "    # Parameter bounds\n",
    "    argmax_fluxpsf = np.argmax(fluxpsf)\n",
    "    max_fluxpsf = fluxpsf[argmax_fluxpsf]\n",
    "    A_bounds = [max_fluxpsf / 5, max_fluxpsf * 5]\n",
    "    t0_bounds = [-0.5*times.max(), times.max()]\n",
    "    gamma_bounds = [1.0, 50]  # (1,50/100)\n",
    "    beta_bounds = [0.0, 1.0]\n",
    "    trise_bounds = [1.0, 100.0]\n",
    "    tfall_bounds = [1.0, 100.0]\n",
    "    \n",
    "    \n",
    "    # Parameter guess\n",
    "    A_guess = np.clip(1.5 * max_fluxpsf, A_bounds[0], A_bounds[1])\n",
    "    t0_guess = np.clip(times[argmax_fluxpsf] * 2.0 / 3.0, t0_bounds[0], t0_bounds[1])\n",
    "    gamma_guess = np.clip(times[argmax_fluxpsf], gamma_bounds[0], gamma_bounds[1])\n",
    "#     gamma_guess = 50\n",
    "    beta_guess = 0\n",
    "    trise_guess = np.clip(times[argmax_fluxpsf] / 2.0, trise_bounds[0], trise_bounds[1])\n",
    "#     print(f\"trise_gess = np.clip({times[argmax_fluxpsf] / 2.0},{trise_bounds[0]},{trise_bounds[1]})\")\n",
    "#     trise_guess = 45\n",
    "    tfall_guess = 40\n",
    "        \n",
    "    p0 = [A_guess, t0_guess, gamma_guess,\n",
    "          beta_guess, trise_guess, tfall_guess]\n",
    "    # get parameters\n",
    "    try:\n",
    "        pout, pcov = curve_fit(\n",
    "            f=alercev2,\n",
    "            xdata=times,\n",
    "            ydata=fluxpsf,\n",
    "            p0=p0,\n",
    "            sigma=5+obs_errors,\n",
    "            bounds=[[A_bounds[0], t0_bounds[0], gamma_bounds[0], beta_bounds[0], trise_bounds[0], tfall_bounds[0]],\n",
    "                    [A_bounds[1], t0_bounds[1], gamma_bounds[1], beta_bounds[1], trise_bounds[1], tfall_bounds[1]]],\n",
    "            ftol=1e-8,\n",
    "            # verbose=2\n",
    "        )\n",
    "    except (ValueError, RuntimeError, OptimizeWarning):\n",
    "        try:\n",
    "            # print('First fit of SPM failed. Attempting second fit.')\n",
    "            pout, pcov = curve_fit(\n",
    "                f=alercev2,\n",
    "                xdata=times,\n",
    "                ydata=fluxpsf,\n",
    "                p0=p0,\n",
    "                sigma=5+obs_errors,\n",
    "                bounds=[[A_bounds[0], t0_bounds[0], gamma_bounds[0], beta_bounds[0], trise_bounds[0], tfall_bounds[0]],\n",
    "                        [A_bounds[1], t0_bounds[1], gamma_bounds[1], beta_bounds[1], trise_bounds[1], tfall_bounds[1]]],\n",
    "                ftol=0.1,\n",
    "                # verbose=2\n",
    "            )\n",
    "        except (ValueError, RuntimeError, OptimizeWarning):\n",
    "            # print('Two fits of SPM failed. Returning NaN.')\n",
    "            pout = np.array([np.nan, np.nan, np.nan, np.nan, np.nan, np.nan])    \n",
    "    return pout\n"
   ]
  },
  {
   "cell_type": "markdown",
   "id": "8c432431-f603-4483-a4aa-13f83d6a5fd9",
   "metadata": {},
   "source": [
    "***"
   ]
  },
  {
   "cell_type": "markdown",
   "id": "3319418e-980a-4fe9-ba3f-f4f80666b304",
   "metadata": {},
   "source": [
    "## Running and saving all fits"
   ]
  },
  {
   "cell_type": "code",
   "execution_count": 9,
   "id": "b64951f2-f779-4c50-a5ee-a4a50d0d3ff7",
   "metadata": {},
   "outputs": [],
   "source": [
    "filels = glob.glob(\"csv_data/*.csv\")"
   ]
  },
  {
   "cell_type": "code",
   "execution_count": 10,
   "id": "8e7dee94-d6f9-40d5-8401-bc79e957c270",
   "metadata": {},
   "outputs": [],
   "source": [
    "def runfit(fit_scipy, featurename, csvname):\n",
    "    \n",
    "    failedfits = 0\n",
    "\n",
    "    datalist = []\n",
    "\n",
    "    for file in tqdm(filels):\n",
    "        d = pd.read_csv(file)\n",
    "        obid = int(file.split(\"/\")[-1].split(\"_\")[0])\n",
    "        obclass = file.split(\"_\")[-1].replace(\".csv\",\"\")\n",
    "        timels = []\n",
    "        featurels = []\n",
    "        for filt in \"ugrizY\":\n",
    "            band = d['band']==filt \n",
    "            t = np.array(d[band]['mjd'])\n",
    "            t = t-t[0]\n",
    "            f = np.array(d[band]['flux'])\n",
    "            fe = np.array(d[band]['fluxerr'])\n",
    "\n",
    "            try:\n",
    "                timestart = time.time()\n",
    "                params_list = list(fit_scipy(t, f, fe))\n",
    "                timestop = time.time()\n",
    "                tottime = timestop-timestart\n",
    "            except Exception as e:\n",
    "#                 print(e)\n",
    "                failedfits += 1\n",
    "                params_list = [np.nan for x in featurename]\n",
    "                tottime = np.nan\n",
    "            featurels = featurels + params_list\n",
    "            timels.append(tottime)\n",
    "        timetaken = np.mean([x for x in timels if x == x])\n",
    "\n",
    "        datalist.append([obid,obclass,timetaken]+featurels)\n",
    "\n",
    "    collist = []\n",
    "    for fil in \"ugrizY\":\n",
    "        for f in featurename:\n",
    "            collist.append(f\"{f}_{fil}\")\n",
    "\n",
    "    df = pd.DataFrame(data=datalist,columns=[\"objid\",\"objclass\",\"timetaken\"]+collist)\n",
    "\n",
    "    if not os.path.isdir(\"saved_fits/\"):\n",
    "        os.mkdir(\"saved_fits/\")\n",
    "    \n",
    "    df.to_csv(f\"saved_fits/{csvname}.csv\",index=False)\n",
    "\n",
    "    print(f\"Failed fitting {failedfits}/{len(filels)*6} light curves\")"
   ]
  },
  {
   "cell_type": "code",
   "execution_count": 11,
   "id": "7c573c27-78e2-47a8-a9e0-90d246981244",
   "metadata": {
    "tags": []
   },
   "outputs": [
    {
     "data": {
      "application/vnd.jupyter.widget-view+json": {
       "model_id": "882c9b77e3f840d3bf74f26ba95f6c32",
       "version_major": 2,
       "version_minor": 0
      },
      "text/plain": [
       "  0%|          | 0/480 [00:00<?, ?it/s]"
      ]
     },
     "metadata": {},
     "output_type": "display_data"
    },
    {
     "name": "stdout",
     "output_type": "stream",
     "text": [
      "Failed fitting 0/2880 light curves\n"
     ]
    }
   ],
   "source": [
    "runfit(fit_scipy = fit_scipy_oldbazin, featurename=bazinfeatures, csvname=\"oldbazin\")"
   ]
  },
  {
   "cell_type": "code",
   "execution_count": 12,
   "id": "2e9b8c55-3977-4784-bd06-1339bd3585bf",
   "metadata": {},
   "outputs": [
    {
     "data": {
      "application/vnd.jupyter.widget-view+json": {
       "model_id": "e1c7f0cfa76a4d9aaeea4dc26c5d86e1",
       "version_major": 2,
       "version_minor": 0
      },
      "text/plain": [
       "  0%|          | 0/480 [00:00<?, ?it/s]"
      ]
     },
     "metadata": {},
     "output_type": "display_data"
    },
    {
     "name": "stderr",
     "output_type": "stream",
     "text": [
      "/home/sidchaini/resspect_work/.venvs/newresspect/lib/python3.8/site-packages/numpy/core/_methods.py:233: RuntimeWarning: Degrees of freedom <= 0 for slice\n",
      "  ret = _var(a, axis=axis, dtype=dtype, out=out, ddof=ddof,\n",
      "/home/sidchaini/resspect_work/.venvs/newresspect/lib/python3.8/site-packages/numpy/core/_methods.py:194: RuntimeWarning: invalid value encountered in true_divide\n",
      "  arrmean = um.true_divide(\n",
      "/home/sidchaini/resspect_work/.venvs/newresspect/lib/python3.8/site-packages/numpy/core/_methods.py:226: RuntimeWarning: invalid value encountered in double_scalars\n",
      "  ret = ret.dtype.type(ret / rcount)\n",
      "/home/sidchaini/resspect_work/.venvs/newresspect/lib/python3.8/site-packages/numpy/core/fromnumeric.py:3372: RuntimeWarning: Mean of empty slice.\n",
      "  return _methods._mean(a, axis=axis, dtype=dtype,\n",
      "/home/sidchaini/resspect_work/.venvs/newresspect/lib/python3.8/site-packages/numpy/core/_methods.py:170: RuntimeWarning: invalid value encountered in double_scalars\n",
      "  ret = ret.dtype.type(ret / rcount)\n"
     ]
    },
    {
     "name": "stdout",
     "output_type": "stream",
     "text": [
      "Failed fitting 44/2880 light curves\n"
     ]
    }
   ],
   "source": [
    "runfit(fit_scipy = fit_scipy_bazin, featurename=bazinfeatures, csvname=\"bazin\")"
   ]
  },
  {
   "cell_type": "code",
   "execution_count": 13,
   "id": "9a6342a7-c929-4134-952b-00b9cd350d99",
   "metadata": {},
   "outputs": [
    {
     "data": {
      "application/vnd.jupyter.widget-view+json": {
       "model_id": "9825fc7ff1474079ab46d468343d67e5",
       "version_major": 2,
       "version_minor": 0
      },
      "text/plain": [
       "  0%|          | 0/480 [00:00<?, ?it/s]"
      ]
     },
     "metadata": {},
     "output_type": "display_data"
    },
    {
     "name": "stderr",
     "output_type": "stream",
     "text": [
      "<ipython-input-4-df6b65c3b3bb>:6: RuntimeWarning: invalid value encountered in power\n",
      "  val = Fm * (x)**r * ((d)/(d+r) + (r)/(d+r) * (x)**(r+1) )**(-(r+d)/(r+1)) + b\n",
      "<ipython-input-4-df6b65c3b3bb>:6: RuntimeWarning: overflow encountered in power\n",
      "  val = Fm * (x)**r * ((d)/(d+r) + (r)/(d+r) * (x)**(r+1) )**(-(r+d)/(r+1)) + b\n",
      "<ipython-input-4-df6b65c3b3bb>:6: RuntimeWarning: invalid value encountered in multiply\n",
      "  val = Fm * (x)**r * ((d)/(d+r) + (r)/(d+r) * (x)**(r+1) )**(-(r+d)/(r+1)) + b\n",
      "<ipython-input-4-df6b65c3b3bb>:6: RuntimeWarning: overflow encountered in multiply\n",
      "  val = Fm * (x)**r * ((d)/(d+r) + (r)/(d+r) * (x)**(r+1) )**(-(r+d)/(r+1)) + b\n",
      "<ipython-input-4-df6b65c3b3bb>:5: RuntimeWarning: divide by zero encountered in true_divide\n",
      "  x = (time+t0)/(tm+t0)\n",
      "<ipython-input-4-df6b65c3b3bb>:5: RuntimeWarning: invalid value encountered in true_divide\n",
      "  x = (time+t0)/(tm+t0)\n"
     ]
    },
    {
     "name": "stdout",
     "output_type": "stream",
     "text": [
      "Failed fitting 119/2880 light curves\n"
     ]
    }
   ],
   "source": [
    "runfit(fit_scipy = fit_scipy_fred, featurename=fredfeatures, csvname=\"fred\")"
   ]
  },
  {
   "cell_type": "code",
   "execution_count": 14,
   "id": "88bd2c91-70f2-40b6-9df9-685638cb9f35",
   "metadata": {},
   "outputs": [
    {
     "data": {
      "application/vnd.jupyter.widget-view+json": {
       "model_id": "ca5a72da3ae64eb4b354cd0202e914fa",
       "version_major": 2,
       "version_minor": 0
      },
      "text/plain": [
       "  0%|          | 0/480 [00:00<?, ?it/s]"
      ]
     },
     "metadata": {},
     "output_type": "display_data"
    },
    {
     "name": "stderr",
     "output_type": "stream",
     "text": [
      "<ipython-input-5-ab26e66df35f>:4: RuntimeWarning: overflow encountered in exp\n",
      "  val = a*(1+b*(time-t1)**2)* (np.exp(-(time-t0)/tfall))/(1+np.exp(-(time-t0)/trise))\n",
      "<ipython-input-5-ab26e66df35f>:4: RuntimeWarning: invalid value encountered in true_divide\n",
      "  val = a*(1+b*(time-t1)**2)* (np.exp(-(time-t0)/tfall))/(1+np.exp(-(time-t0)/trise))\n",
      "<ipython-input-5-ab26e66df35f>:4: RuntimeWarning: overflow encountered in multiply\n",
      "  val = a*(1+b*(time-t1)**2)* (np.exp(-(time-t0)/tfall))/(1+np.exp(-(time-t0)/trise))\n",
      "/home/sidchaini/resspect_work/.venvs/newresspect/lib/python3.8/site-packages/scipy/optimize/_lsq/trf.py:289: RuntimeWarning: invalid value encountered in multiply\n",
      "  diag_h = g * dv * scale\n"
     ]
    },
    {
     "name": "stdout",
     "output_type": "stream",
     "text": [
      "Failed fitting 45/2880 light curves\n"
     ]
    }
   ],
   "source": [
    "runfit(fit_scipy = fit_scipy_karpenka, featurename=karpenkafeatures, csvname=\"karpenka\")"
   ]
  },
  {
   "cell_type": "code",
   "execution_count": 15,
   "id": "24909565-d517-4e8a-9c4c-4ba363e63454",
   "metadata": {},
   "outputs": [
    {
     "data": {
      "application/vnd.jupyter.widget-view+json": {
       "model_id": "a0cc77f59aa946738866fc405d213031",
       "version_major": 2,
       "version_minor": 0
      },
      "text/plain": [
       "  0%|          | 0/480 [00:00<?, ?it/s]"
      ]
     },
     "metadata": {},
     "output_type": "display_data"
    },
    {
     "name": "stderr",
     "output_type": "stream",
     "text": [
      "<ipython-input-6-9194220cc274>:4: RuntimeWarning: overflow encountered in exp\n",
      "  val = (a + beta*(time-t0))/(1+np.exp(-(time-t0)/trise))\n"
     ]
    },
    {
     "name": "stdout",
     "output_type": "stream",
     "text": [
      "Failed fitting 0/2880 light curves\n"
     ]
    }
   ],
   "source": [
    "runfit(fit_scipy = fit_scipy_villar, featurename=villarfeatures, csvname=\"villar\")"
   ]
  },
  {
   "cell_type": "code",
   "execution_count": 16,
   "id": "c091b4ad-5c46-4cce-8e1d-9ca51fffebda",
   "metadata": {},
   "outputs": [
    {
     "data": {
      "application/vnd.jupyter.widget-view+json": {
       "model_id": "b3591601622f468db8a9bb19a90c13c5",
       "version_major": 2,
       "version_minor": 0
      },
      "text/plain": [
       "  0%|          | 0/480 [00:00<?, ?it/s]"
      ]
     },
     "metadata": {},
     "output_type": "display_data"
    },
    {
     "name": "stderr",
     "output_type": "stream",
     "text": [
      "<ipython-input-7-0d6f4f6fa3e7>:4: RuntimeWarning: overflow encountered in exp\n",
      "  val = (a*(1 - beta*(time-t0)/(t1-t0)))/(1+np.exp(-(time-t0)/trise))\n"
     ]
    },
    {
     "name": "stdout",
     "output_type": "stream",
     "text": [
      "Failed fitting 0/2880 light curves\n"
     ]
    }
   ],
   "source": [
    "runfit(fit_scipy = fit_scipy_alercev1, featurename=alercev1features, csvname=\"alercev1\")"
   ]
  },
  {
   "cell_type": "code",
   "execution_count": 17,
   "id": "fbe6d362-f0fd-4599-b384-69dc7bdc480e",
   "metadata": {},
   "outputs": [
    {
     "data": {
      "application/vnd.jupyter.widget-view+json": {
       "model_id": "41ba4102b7e34fefa9e8ceb007c07395",
       "version_major": 2,
       "version_minor": 0
      },
      "text/plain": [
       "  0%|          | 0/480 [00:00<?, ?it/s]"
      ]
     },
     "metadata": {},
     "output_type": "display_data"
    },
    {
     "name": "stderr",
     "output_type": "stream",
     "text": [
      "<ipython-input-8-865e3de9db72>:8: RuntimeWarning: overflow encountered in exp\n",
      "  den = 1 + np.exp(-(times - t0) / t_rise)\n",
      "<ipython-input-8-865e3de9db72>:9: RuntimeWarning: overflow encountered in exp\n",
      "  flux = ((1 - beta) * np.exp(-(times - t1) / t_fall)\n",
      "/home/sidchaini/resspect_work/.venvs/newresspect/lib/python3.8/site-packages/scipy/optimize/_lsq/common.py:234: RuntimeWarning: overflow encountered in double_scalars\n",
      "  ratio = actual_reduction / predicted_reduction\n",
      "<ipython-input-8-865e3de9db72>:9: RuntimeWarning: invalid value encountered in true_divide\n",
      "  flux = ((1 - beta) * np.exp(-(times - t1) / t_fall)\n"
     ]
    },
    {
     "name": "stdout",
     "output_type": "stream",
     "text": [
      "Failed fitting 0/2880 light curves\n"
     ]
    }
   ],
   "source": [
    "runfit(fit_scipy = fit_scipy_alercev2, featurename=alercev2features, csvname=\"alercev2\")"
   ]
  },
  {
   "cell_type": "code",
   "execution_count": 21,
   "id": "a977b1dd",
   "metadata": {},
   "outputs": [],
   "source": [
    "# # PLOT ALL EXAMPLE\n",
    "\n",
    "# d = pd.read_csv('/home/sidchaini/resspect_work/comparing parameterisations/csv_data/40369050_TDE.csv')\n",
    "\n",
    "# fig, axs = plt.subplots(2, 3, sharex=True, sharey=True, figsize=(15,10))\n",
    "# count=0\n",
    "# for filt in \"ugrizY\":\n",
    "#     band = d['band']==filt \n",
    "#     t = np.array(d[band]['mjd'])\n",
    "#     t = t-t[0]\n",
    "#     f = np.array(d[band]['flux'])\n",
    "#     fe = np.array(d[band]['fluxerr'])\n",
    "#     params_fred = fit_scipy_fred(t, f, fe)\n",
    "#     params_bazin = fit_scipy_bazin(t, f, fe)\n",
    "#     params_alercev1myguess = fit_scipy_alercev1myguess(t, f, fe)\n",
    "#     params_alercev1alerceguess = fit_scipy_alercev1alerceguess(t, f, fe)\n",
    "#     params_alercev1withjohannr = fit_scipy_alercev1withjohannr(t, f, fe)\n",
    "#     params_alercev2 = fit_scipy_alercev2(t, f, fe)\n",
    "#     x = np.arange(t.min(), t.max(),0.001)\n",
    "#     i = int(count/3)\n",
    "#     j = int(count % 3)\n",
    "#     axs[i,j].errorbar(t, f, fe, fmt='.')\n",
    "#     axs[i,j].plot(x, fred(x, *params_fred),label=\"fred\")\n",
    "#     axs[i,j].plot(x, bazin(x, *params_bazin),label=\"bazin\")\n",
    "#     axs[i,j].plot(x, alercev1myguess(x, *params_alercev1myguess),label=\"alercev1myguess\")\n",
    "#     axs[i,j].plot(x, alercev1alerceguess(x, *params_alercev1alerceguess),label=\"alercev1alerceguess\")\n",
    "#     axs[i,j].plot(x, alercev1withjohannr(x, *params_alercev1withjohannr),label=\"alercev1withjohannr\")\n",
    "#     axs[i,j].plot(x, alercev2(x, *params_alercev2),label=\"alercev2\")\n",
    "#     axs[i,j].set_title(filt)\n",
    "#     count+=1\n",
    "# handles, labels = axs[i,j].get_legend_handles_labels()\n",
    "# fig.legend(handles, labels, loc='center right')"
   ]
  }
 ],
 "metadata": {
  "kernelspec": {
   "display_name": "Python 3",
   "language": "python",
   "name": "python3"
  },
  "language_info": {
   "codemirror_mode": {
    "name": "ipython",
    "version": 3
   },
   "file_extension": ".py",
   "mimetype": "text/x-python",
   "name": "python",
   "nbconvert_exporter": "python",
   "pygments_lexer": "ipython3",
   "version": "3.8.5"
  }
 },
 "nbformat": 4,
 "nbformat_minor": 5
}
