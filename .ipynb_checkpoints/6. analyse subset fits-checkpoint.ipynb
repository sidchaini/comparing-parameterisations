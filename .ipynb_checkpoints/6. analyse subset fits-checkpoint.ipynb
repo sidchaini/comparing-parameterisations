{
 "cells": [
  {
   "cell_type": "code",
   "execution_count": 1,
   "id": "4c0c5374-08cf-4100-a7b1-a57581620461",
   "metadata": {},
   "outputs": [],
   "source": [
    "import numpy as np\n",
    "np.random.seed(42)\n",
    "import pandas as pd\n",
    "from sklearn.model_selection import cross_val_predict\n",
    "from sklearn.ensemble import RandomForestClassifier\n",
    "from sklearn import metrics\n",
    "import time\n",
    "from tqdm.notebook import tqdm\n",
    "import glob\n",
    "import matplotlib.pyplot as plt\n",
    "import seaborn as sns\n",
    "sns.set()"
   ]
  },
  {
   "cell_type": "code",
   "execution_count": 2,
   "id": "e30a9dce-6253-416e-85e9-9554b5014f78",
   "metadata": {},
   "outputs": [],
   "source": [
    "# time.sleep(1000)"
   ]
  },
  {
   "cell_type": "code",
   "execution_count": 3,
   "id": "bb0ae773-b23e-4560-9e20-4e435f14e0ff",
   "metadata": {},
   "outputs": [],
   "source": [
    "def get_metrics(y_pred, y_test, to_print=True):\n",
    "    correct_labels = np.where(y_pred==y_test)[0]\n",
    "    accuracy = metrics.accuracy_score(y_test, y_pred)\n",
    "    precision = metrics.precision_score(y_test, y_pred,average='macro')\n",
    "    recall = metrics.recall_score(y_test, y_pred,average='macro')\n",
    "    f1score = metrics.f1_score(y_test, y_pred,average='macro')\n",
    "    # rocscore = metrics.roc_auc_score(y_test, y_pred,average='micro',multi_class=\"ovo\")\n",
    "    confusion_matrix = metrics.confusion_matrix(y_test, y_pred)  \n",
    "    classification_report = metrics.classification_report(y_test, y_pred)\n",
    "\n",
    "    if to_print:\n",
    "        print(\"Identified {} correct labels out of {} labels\".format(len(correct_labels), y_test.shape[0]))\n",
    "        print(\"Accuracy:\",accuracy)\n",
    "        print(\"Precision:\",precision)\n",
    "        print(\"Recall:\",recall)\n",
    "        print(\"F1 Score:\",f1score)\n",
    "        # print(\"ROC AUC Score:\",rocscore)\n",
    "        print(\"Confusion Matrix:\\n\", confusion_matrix)\n",
    "        print(\"Classification_Report:\\n\", classification_report)\n",
    "\n",
    "#     return (correct_labels, accuracy, precision, recall, confusion_matrix, classification_report)"
   ]
  },
  {
   "cell_type": "code",
   "execution_count": 8,
   "id": "b632d8b8-0f16-4366-84d4-20ed658c6164",
   "metadata": {},
   "outputs": [],
   "source": [
    "def rfcfit(fname,objday,verbose=False):\n",
    "    \n",
    "    \n",
    "    df = pd.read_csv(f\"subset_saved_fits/{objday}_days/{fname}.csv\")\n",
    "    avgtime = df.dropna()['timetaken'].mean()\n",
    "    failedobjs = len(df) - len(df.dropna())\n",
    "    \n",
    "    if verbose:\n",
    "        print(\"*****************\")\n",
    "        print(fname)\n",
    "        print(f\"There are {failedobjs} objects for whom at least 1 passband's fit failed.\")\n",
    "        print(f\"Average time taken for 1 full object is {avgtime} seconds per object for all 6 passbands\")\n",
    "    df = df.fillna(0)\n",
    "    X = df[df.columns[3:]].values\n",
    "    y = df[\"objclass\"].values\n",
    "    \n",
    "    rfc = RandomForestClassifier(n_estimators=200,random_state=42)\n",
    "    preds = cross_val_predict(rfc, X, y, cv=10)\n",
    "    \n",
    "    get_metrics(preds,y, to_print=verbose)\n",
    "    f1score = metrics.f1_score(preds,y,average='macro')\n",
    "    \n",
    "    return avgtime, f1score, failedobjs"
   ]
  },
  {
   "cell_type": "code",
   "execution_count": 9,
   "id": "bb170825-2030-4925-850d-93a4a9b382e6",
   "metadata": {},
   "outputs": [],
   "source": [
    "allparams = [\"bazin\",\"bazinNEWMOD\",\"alercev1\"]\n",
    "paramname = [\"Bazin\",\"Bazin: With Mod for different points\",\"Alercev1: Based on Villar\"]\n",
    "columnname = [\"Parameterisation Used\",\"Average Time per Object for all 6 passbands (s)\",\n",
    "              \"Average F1 Score for RFC (n=150)\", \"Total objects (of 480) where fit failed (for ≥ 1 passband)\"]"
   ]
  },
  {
   "cell_type": "code",
   "execution_count": 10,
   "id": "4ebfa0aa-e3b0-428f-8f8d-8383fb5e7d90",
   "metadata": {},
   "outputs": [],
   "source": [
    "directoryls = glob.glob(\"subset_csv_data/*_days\")\n",
    "\n",
    "obsdaylist = []\n",
    "for directory in directoryls:\n",
    "    obsdaylist.append(int(directory.split(\"/\")[-1].split(\"_\")[0]))"
   ]
  },
  {
   "cell_type": "code",
   "execution_count": 11,
   "id": "d5ccd023-9e20-4ad5-a6db-f644fb1c3a4f",
   "metadata": {
    "tags": []
   },
   "outputs": [
    {
     "data": {
      "application/vnd.jupyter.widget-view+json": {
       "model_id": "f86f9849f013487b971c7996d6bdd92c",
       "version_major": 2,
       "version_minor": 0
      },
      "text/plain": [
       "  0%|          | 0/13 [00:00<?, ?it/s]"
      ]
     },
     "metadata": {},
     "output_type": "display_data"
    },
    {
     "name": "stdout",
     "output_type": "stream",
     "text": [
      "******************* OBSDAY = 24 *******************\n",
      "******************* OBSDAY = 179 *******************\n",
      "******************* OBSDAY = 108 *******************\n",
      "******************* OBSDAY = 37 *******************\n",
      "******************* OBSDAY = 77 *******************\n",
      "******************* OBSDAY = 64 *******************\n",
      "******************* OBSDAY = 95 *******************\n",
      "******************* OBSDAY = 83 *******************\n",
      "******************* OBSDAY = 85 *******************\n",
      "******************* OBSDAY = 59 *******************\n",
      "******************* OBSDAY = 42 *******************\n",
      "******************* OBSDAY = 111 *******************\n",
      "******************* OBSDAY = 53 *******************\n"
     ]
    }
   ],
   "source": [
    "summarylist = []\n",
    "for obsday in tqdm(obsdaylist):\n",
    "    print(f\"******************* OBSDAY = {obsday} *******************\")\n",
    "    for i, param in enumerate(allparams):\n",
    "        res = list(rfcfit(param,obsday))\n",
    "        summarylist.append([f\"{obsday}_days_{paramname[i]}\"]+res)"
   ]
  },
  {
   "cell_type": "markdown",
   "id": "1bcabb2e-e8c6-45a3-bd24-89bb5539f82c",
   "metadata": {},
   "source": [
    "# SUMMARY"
   ]
  },
  {
   "cell_type": "code",
   "execution_count": 12,
   "id": "e039fdd6-0fb0-4085-82fb-ded362c5f926",
   "metadata": {},
   "outputs": [
    {
     "data": {
      "text/html": [
       "<style  type=\"text/css\" >\n",
       "#T_7baad_row0_col0,#T_7baad_row0_col1,#T_7baad_row0_col2,#T_7baad_row0_col3,#T_7baad_row1_col0,#T_7baad_row1_col1,#T_7baad_row1_col2,#T_7baad_row1_col3,#T_7baad_row2_col0,#T_7baad_row2_col1,#T_7baad_row2_col2,#T_7baad_row2_col3,#T_7baad_row3_col0,#T_7baad_row3_col1,#T_7baad_row3_col2,#T_7baad_row3_col3,#T_7baad_row4_col0,#T_7baad_row4_col1,#T_7baad_row4_col2,#T_7baad_row4_col3,#T_7baad_row5_col0,#T_7baad_row5_col1,#T_7baad_row5_col2,#T_7baad_row5_col3,#T_7baad_row6_col0,#T_7baad_row6_col1,#T_7baad_row6_col2,#T_7baad_row6_col3,#T_7baad_row7_col0,#T_7baad_row7_col1,#T_7baad_row7_col2,#T_7baad_row7_col3,#T_7baad_row8_col0,#T_7baad_row8_col1,#T_7baad_row8_col2,#T_7baad_row8_col3,#T_7baad_row9_col0,#T_7baad_row9_col1,#T_7baad_row9_col2,#T_7baad_row9_col3,#T_7baad_row10_col0,#T_7baad_row10_col1,#T_7baad_row10_col2,#T_7baad_row10_col3,#T_7baad_row11_col0,#T_7baad_row11_col1,#T_7baad_row11_col2,#T_7baad_row11_col3,#T_7baad_row12_col0,#T_7baad_row12_col1,#T_7baad_row12_col2,#T_7baad_row12_col3,#T_7baad_row13_col0,#T_7baad_row13_col1,#T_7baad_row13_col2,#T_7baad_row13_col3,#T_7baad_row14_col0,#T_7baad_row14_col1,#T_7baad_row14_col2,#T_7baad_row14_col3,#T_7baad_row15_col0,#T_7baad_row15_col1,#T_7baad_row15_col2,#T_7baad_row15_col3,#T_7baad_row16_col0,#T_7baad_row16_col1,#T_7baad_row16_col2,#T_7baad_row16_col3,#T_7baad_row17_col0,#T_7baad_row17_col1,#T_7baad_row17_col2,#T_7baad_row17_col3,#T_7baad_row18_col0,#T_7baad_row18_col1,#T_7baad_row18_col2,#T_7baad_row18_col3,#T_7baad_row19_col0,#T_7baad_row19_col1,#T_7baad_row19_col2,#T_7baad_row19_col3,#T_7baad_row20_col0,#T_7baad_row20_col1,#T_7baad_row20_col2,#T_7baad_row20_col3,#T_7baad_row21_col0,#T_7baad_row21_col1,#T_7baad_row21_col2,#T_7baad_row21_col3,#T_7baad_row22_col0,#T_7baad_row22_col1,#T_7baad_row22_col2,#T_7baad_row22_col3,#T_7baad_row23_col0,#T_7baad_row23_col1,#T_7baad_row23_col2,#T_7baad_row23_col3,#T_7baad_row24_col0,#T_7baad_row24_col1,#T_7baad_row24_col2,#T_7baad_row24_col3,#T_7baad_row25_col0,#T_7baad_row25_col1,#T_7baad_row25_col2,#T_7baad_row25_col3,#T_7baad_row26_col0,#T_7baad_row26_col1,#T_7baad_row26_col2,#T_7baad_row26_col3,#T_7baad_row27_col0,#T_7baad_row27_col1,#T_7baad_row27_col2,#T_7baad_row27_col3,#T_7baad_row28_col0,#T_7baad_row28_col1,#T_7baad_row28_col2,#T_7baad_row28_col3,#T_7baad_row29_col0,#T_7baad_row29_col1,#T_7baad_row29_col2,#T_7baad_row29_col3,#T_7baad_row30_col0,#T_7baad_row30_col1,#T_7baad_row30_col2,#T_7baad_row30_col3,#T_7baad_row31_col0,#T_7baad_row31_col1,#T_7baad_row31_col2,#T_7baad_row31_col3,#T_7baad_row32_col0,#T_7baad_row32_col1,#T_7baad_row32_col2,#T_7baad_row32_col3,#T_7baad_row33_col0,#T_7baad_row33_col1,#T_7baad_row33_col2,#T_7baad_row33_col3,#T_7baad_row34_col0,#T_7baad_row34_col1,#T_7baad_row34_col2,#T_7baad_row34_col3,#T_7baad_row35_col0,#T_7baad_row35_col1,#T_7baad_row35_col2,#T_7baad_row35_col3,#T_7baad_row36_col0,#T_7baad_row36_col1,#T_7baad_row36_col2,#T_7baad_row36_col3,#T_7baad_row37_col0,#T_7baad_row37_col1,#T_7baad_row37_col2,#T_7baad_row37_col3,#T_7baad_row38_col0,#T_7baad_row38_col1,#T_7baad_row38_col2,#T_7baad_row38_col3{\n",
       "            align:  right;\n",
       "        }</style><table id=\"T_7baad_\" ><thead>    <tr>        <th class=\"blank level0\" ></th>        <th class=\"col_heading level0 col0\" >Parameterisation Used</th>        <th class=\"col_heading level0 col1\" >Average Time per Object for all 6 passbands (s)</th>        <th class=\"col_heading level0 col2\" >Average F1 Score for RFC (n=150)</th>        <th class=\"col_heading level0 col3\" >Total objects (of 480) where fit failed (for ≥ 1 passband)</th>    </tr></thead><tbody>\n",
       "                <tr>\n",
       "                        <th id=\"T_7baad_level0_row0\" class=\"row_heading level0 row0\" >0</th>\n",
       "                        <td id=\"T_7baad_row0_col0\" class=\"data row0 col0\" >24_days_Bazin</td>\n",
       "                        <td id=\"T_7baad_row0_col1\" class=\"data row0 col1\" >0.033503</td>\n",
       "                        <td id=\"T_7baad_row0_col2\" class=\"data row0 col2\" >0.161160</td>\n",
       "                        <td id=\"T_7baad_row0_col3\" class=\"data row0 col3\" >398</td>\n",
       "            </tr>\n",
       "            <tr>\n",
       "                        <th id=\"T_7baad_level0_row1\" class=\"row_heading level0 row1\" >1</th>\n",
       "                        <td id=\"T_7baad_row1_col0\" class=\"data row1 col0\" >24_days_Bazin: With Mod for different points</td>\n",
       "                        <td id=\"T_7baad_row1_col1\" class=\"data row1 col1\" >0.026097</td>\n",
       "                        <td id=\"T_7baad_row1_col2\" class=\"data row1 col2\" >0.179734</td>\n",
       "                        <td id=\"T_7baad_row1_col3\" class=\"data row1 col3\" >443</td>\n",
       "            </tr>\n",
       "            <tr>\n",
       "                        <th id=\"T_7baad_level0_row2\" class=\"row_heading level0 row2\" >2</th>\n",
       "                        <td id=\"T_7baad_row2_col0\" class=\"data row2 col0\" >24_days_Alercev1: Based on Villar</td>\n",
       "                        <td id=\"T_7baad_row2_col1\" class=\"data row2 col1\" >0.026399</td>\n",
       "                        <td id=\"T_7baad_row2_col2\" class=\"data row2 col2\" >0.199425</td>\n",
       "                        <td id=\"T_7baad_row2_col3\" class=\"data row2 col3\" >316</td>\n",
       "            </tr>\n",
       "            <tr>\n",
       "                        <th id=\"T_7baad_level0_row3\" class=\"row_heading level0 row3\" >3</th>\n",
       "                        <td id=\"T_7baad_row3_col0\" class=\"data row3 col0\" >179_days_Bazin</td>\n",
       "                        <td id=\"T_7baad_row3_col1\" class=\"data row3 col1\" >0.051628</td>\n",
       "                        <td id=\"T_7baad_row3_col2\" class=\"data row3 col2\" >0.285280</td>\n",
       "                        <td id=\"T_7baad_row3_col3\" class=\"data row3 col3\" >17</td>\n",
       "            </tr>\n",
       "            <tr>\n",
       "                        <th id=\"T_7baad_level0_row4\" class=\"row_heading level0 row4\" >4</th>\n",
       "                        <td id=\"T_7baad_row4_col0\" class=\"data row4 col0\" >179_days_Bazin: With Mod for different points</td>\n",
       "                        <td id=\"T_7baad_row4_col1\" class=\"data row4 col1\" >0.051196</td>\n",
       "                        <td id=\"T_7baad_row4_col2\" class=\"data row4 col2\" >0.285280</td>\n",
       "                        <td id=\"T_7baad_row4_col3\" class=\"data row4 col3\" >17</td>\n",
       "            </tr>\n",
       "            <tr>\n",
       "                        <th id=\"T_7baad_level0_row5\" class=\"row_heading level0 row5\" >5</th>\n",
       "                        <td id=\"T_7baad_row5_col0\" class=\"data row5 col0\" >179_days_Alercev1: Based on Villar</td>\n",
       "                        <td id=\"T_7baad_row5_col1\" class=\"data row5 col1\" >0.032114</td>\n",
       "                        <td id=\"T_7baad_row5_col2\" class=\"data row5 col2\" >0.287327</td>\n",
       "                        <td id=\"T_7baad_row5_col3\" class=\"data row5 col3\" >0</td>\n",
       "            </tr>\n",
       "            <tr>\n",
       "                        <th id=\"T_7baad_level0_row6\" class=\"row_heading level0 row6\" >6</th>\n",
       "                        <td id=\"T_7baad_row6_col0\" class=\"data row6 col0\" >108_days_Bazin</td>\n",
       "                        <td id=\"T_7baad_row6_col1\" class=\"data row6 col1\" >0.051884</td>\n",
       "                        <td id=\"T_7baad_row6_col2\" class=\"data row6 col2\" >0.238792</td>\n",
       "                        <td id=\"T_7baad_row6_col3\" class=\"data row6 col3\" >22</td>\n",
       "            </tr>\n",
       "            <tr>\n",
       "                        <th id=\"T_7baad_level0_row7\" class=\"row_heading level0 row7\" >7</th>\n",
       "                        <td id=\"T_7baad_row7_col0\" class=\"data row7 col0\" >108_days_Bazin: With Mod for different points</td>\n",
       "                        <td id=\"T_7baad_row7_col1\" class=\"data row7 col1\" >0.052182</td>\n",
       "                        <td id=\"T_7baad_row7_col2\" class=\"data row7 col2\" >0.238792</td>\n",
       "                        <td id=\"T_7baad_row7_col3\" class=\"data row7 col3\" >22</td>\n",
       "            </tr>\n",
       "            <tr>\n",
       "                        <th id=\"T_7baad_level0_row8\" class=\"row_heading level0 row8\" >8</th>\n",
       "                        <td id=\"T_7baad_row8_col0\" class=\"data row8 col0\" >108_days_Alercev1: Based on Villar</td>\n",
       "                        <td id=\"T_7baad_row8_col1\" class=\"data row8 col1\" >0.031576</td>\n",
       "                        <td id=\"T_7baad_row8_col2\" class=\"data row8 col2\" >0.282607</td>\n",
       "                        <td id=\"T_7baad_row8_col3\" class=\"data row8 col3\" >0</td>\n",
       "            </tr>\n",
       "            <tr>\n",
       "                        <th id=\"T_7baad_level0_row9\" class=\"row_heading level0 row9\" >9</th>\n",
       "                        <td id=\"T_7baad_row9_col0\" class=\"data row9 col0\" >37_days_Bazin</td>\n",
       "                        <td id=\"T_7baad_row9_col1\" class=\"data row9 col1\" >0.048304</td>\n",
       "                        <td id=\"T_7baad_row9_col2\" class=\"data row9 col2\" >0.176236</td>\n",
       "                        <td id=\"T_7baad_row9_col3\" class=\"data row9 col3\" >370</td>\n",
       "            </tr>\n",
       "            <tr>\n",
       "                        <th id=\"T_7baad_level0_row10\" class=\"row_heading level0 row10\" >10</th>\n",
       "                        <td id=\"T_7baad_row10_col0\" class=\"data row10 col0\" >37_days_Bazin: With Mod for different points</td>\n",
       "                        <td id=\"T_7baad_row10_col1\" class=\"data row10 col1\" >0.036236</td>\n",
       "                        <td id=\"T_7baad_row10_col2\" class=\"data row10 col2\" >0.193977</td>\n",
       "                        <td id=\"T_7baad_row10_col3\" class=\"data row10 col3\" >401</td>\n",
       "            </tr>\n",
       "            <tr>\n",
       "                        <th id=\"T_7baad_level0_row11\" class=\"row_heading level0 row11\" >11</th>\n",
       "                        <td id=\"T_7baad_row11_col0\" class=\"data row11 col0\" >37_days_Alercev1: Based on Villar</td>\n",
       "                        <td id=\"T_7baad_row11_col1\" class=\"data row11 col1\" >0.032160</td>\n",
       "                        <td id=\"T_7baad_row11_col2\" class=\"data row11 col2\" >0.212176</td>\n",
       "                        <td id=\"T_7baad_row11_col3\" class=\"data row11 col3\" >316</td>\n",
       "            </tr>\n",
       "            <tr>\n",
       "                        <th id=\"T_7baad_level0_row12\" class=\"row_heading level0 row12\" >12</th>\n",
       "                        <td id=\"T_7baad_row12_col0\" class=\"data row12 col0\" >77_days_Bazin</td>\n",
       "                        <td id=\"T_7baad_row12_col1\" class=\"data row12 col1\" >0.054425</td>\n",
       "                        <td id=\"T_7baad_row12_col2\" class=\"data row12 col2\" >0.251824</td>\n",
       "                        <td id=\"T_7baad_row12_col3\" class=\"data row12 col3\" >31</td>\n",
       "            </tr>\n",
       "            <tr>\n",
       "                        <th id=\"T_7baad_level0_row13\" class=\"row_heading level0 row13\" >13</th>\n",
       "                        <td id=\"T_7baad_row13_col0\" class=\"data row13 col0\" >77_days_Bazin: With Mod for different points</td>\n",
       "                        <td id=\"T_7baad_row13_col1\" class=\"data row13 col1\" >0.054540</td>\n",
       "                        <td id=\"T_7baad_row13_col2\" class=\"data row13 col2\" >0.251824</td>\n",
       "                        <td id=\"T_7baad_row13_col3\" class=\"data row13 col3\" >31</td>\n",
       "            </tr>\n",
       "            <tr>\n",
       "                        <th id=\"T_7baad_level0_row14\" class=\"row_heading level0 row14\" >14</th>\n",
       "                        <td id=\"T_7baad_row14_col0\" class=\"data row14 col0\" >77_days_Alercev1: Based on Villar</td>\n",
       "                        <td id=\"T_7baad_row14_col1\" class=\"data row14 col1\" >0.031447</td>\n",
       "                        <td id=\"T_7baad_row14_col2\" class=\"data row14 col2\" >0.265728</td>\n",
       "                        <td id=\"T_7baad_row14_col3\" class=\"data row14 col3\" >0</td>\n",
       "            </tr>\n",
       "            <tr>\n",
       "                        <th id=\"T_7baad_level0_row15\" class=\"row_heading level0 row15\" >15</th>\n",
       "                        <td id=\"T_7baad_row15_col0\" class=\"data row15 col0\" >64_days_Bazin</td>\n",
       "                        <td id=\"T_7baad_row15_col1\" class=\"data row15 col1\" >0.054396</td>\n",
       "                        <td id=\"T_7baad_row15_col2\" class=\"data row15 col2\" >0.249676</td>\n",
       "                        <td id=\"T_7baad_row15_col3\" class=\"data row15 col3\" >151</td>\n",
       "            </tr>\n",
       "            <tr>\n",
       "                        <th id=\"T_7baad_level0_row16\" class=\"row_heading level0 row16\" >16</th>\n",
       "                        <td id=\"T_7baad_row16_col0\" class=\"data row16 col0\" >64_days_Bazin: With Mod for different points</td>\n",
       "                        <td id=\"T_7baad_row16_col1\" class=\"data row16 col1\" >0.053470</td>\n",
       "                        <td id=\"T_7baad_row16_col2\" class=\"data row16 col2\" >0.249676</td>\n",
       "                        <td id=\"T_7baad_row16_col3\" class=\"data row16 col3\" >151</td>\n",
       "            </tr>\n",
       "            <tr>\n",
       "                        <th id=\"T_7baad_level0_row17\" class=\"row_heading level0 row17\" >17</th>\n",
       "                        <td id=\"T_7baad_row17_col0\" class=\"data row17 col0\" >64_days_Alercev1: Based on Villar</td>\n",
       "                        <td id=\"T_7baad_row17_col1\" class=\"data row17 col1\" >0.031205</td>\n",
       "                        <td id=\"T_7baad_row17_col2\" class=\"data row17 col2\" >0.278485</td>\n",
       "                        <td id=\"T_7baad_row17_col3\" class=\"data row17 col3\" >120</td>\n",
       "            </tr>\n",
       "            <tr>\n",
       "                        <th id=\"T_7baad_level0_row18\" class=\"row_heading level0 row18\" >18</th>\n",
       "                        <td id=\"T_7baad_row18_col0\" class=\"data row18 col0\" >95_days_Bazin</td>\n",
       "                        <td id=\"T_7baad_row18_col1\" class=\"data row18 col1\" >0.056532</td>\n",
       "                        <td id=\"T_7baad_row18_col2\" class=\"data row18 col2\" >0.268770</td>\n",
       "                        <td id=\"T_7baad_row18_col3\" class=\"data row18 col3\" >24</td>\n",
       "            </tr>\n",
       "            <tr>\n",
       "                        <th id=\"T_7baad_level0_row19\" class=\"row_heading level0 row19\" >19</th>\n",
       "                        <td id=\"T_7baad_row19_col0\" class=\"data row19 col0\" >95_days_Bazin: With Mod for different points</td>\n",
       "                        <td id=\"T_7baad_row19_col1\" class=\"data row19 col1\" >0.056801</td>\n",
       "                        <td id=\"T_7baad_row19_col2\" class=\"data row19 col2\" >0.268770</td>\n",
       "                        <td id=\"T_7baad_row19_col3\" class=\"data row19 col3\" >24</td>\n",
       "            </tr>\n",
       "            <tr>\n",
       "                        <th id=\"T_7baad_level0_row20\" class=\"row_heading level0 row20\" >20</th>\n",
       "                        <td id=\"T_7baad_row20_col0\" class=\"data row20 col0\" >95_days_Alercev1: Based on Villar</td>\n",
       "                        <td id=\"T_7baad_row20_col1\" class=\"data row20 col1\" >0.030624</td>\n",
       "                        <td id=\"T_7baad_row20_col2\" class=\"data row20 col2\" >0.277128</td>\n",
       "                        <td id=\"T_7baad_row20_col3\" class=\"data row20 col3\" >0</td>\n",
       "            </tr>\n",
       "            <tr>\n",
       "                        <th id=\"T_7baad_level0_row21\" class=\"row_heading level0 row21\" >21</th>\n",
       "                        <td id=\"T_7baad_row21_col0\" class=\"data row21 col0\" >83_days_Bazin</td>\n",
       "                        <td id=\"T_7baad_row21_col1\" class=\"data row21 col1\" >0.059764</td>\n",
       "                        <td id=\"T_7baad_row21_col2\" class=\"data row21 col2\" >0.238032</td>\n",
       "                        <td id=\"T_7baad_row21_col3\" class=\"data row21 col3\" >26</td>\n",
       "            </tr>\n",
       "            <tr>\n",
       "                        <th id=\"T_7baad_level0_row22\" class=\"row_heading level0 row22\" >22</th>\n",
       "                        <td id=\"T_7baad_row22_col0\" class=\"data row22 col0\" >83_days_Bazin: With Mod for different points</td>\n",
       "                        <td id=\"T_7baad_row22_col1\" class=\"data row22 col1\" >0.055916</td>\n",
       "                        <td id=\"T_7baad_row22_col2\" class=\"data row22 col2\" >0.238032</td>\n",
       "                        <td id=\"T_7baad_row22_col3\" class=\"data row22 col3\" >26</td>\n",
       "            </tr>\n",
       "            <tr>\n",
       "                        <th id=\"T_7baad_level0_row23\" class=\"row_heading level0 row23\" >23</th>\n",
       "                        <td id=\"T_7baad_row23_col0\" class=\"data row23 col0\" >83_days_Alercev1: Based on Villar</td>\n",
       "                        <td id=\"T_7baad_row23_col1\" class=\"data row23 col1\" >0.031854</td>\n",
       "                        <td id=\"T_7baad_row23_col2\" class=\"data row23 col2\" >0.268665</td>\n",
       "                        <td id=\"T_7baad_row23_col3\" class=\"data row23 col3\" >0</td>\n",
       "            </tr>\n",
       "            <tr>\n",
       "                        <th id=\"T_7baad_level0_row24\" class=\"row_heading level0 row24\" >24</th>\n",
       "                        <td id=\"T_7baad_row24_col0\" class=\"data row24 col0\" >85_days_Bazin</td>\n",
       "                        <td id=\"T_7baad_row24_col1\" class=\"data row24 col1\" >0.056091</td>\n",
       "                        <td id=\"T_7baad_row24_col2\" class=\"data row24 col2\" >0.267359</td>\n",
       "                        <td id=\"T_7baad_row24_col3\" class=\"data row24 col3\" >25</td>\n",
       "            </tr>\n",
       "            <tr>\n",
       "                        <th id=\"T_7baad_level0_row25\" class=\"row_heading level0 row25\" >25</th>\n",
       "                        <td id=\"T_7baad_row25_col0\" class=\"data row25 col0\" >85_days_Bazin: With Mod for different points</td>\n",
       "                        <td id=\"T_7baad_row25_col1\" class=\"data row25 col1\" >0.056851</td>\n",
       "                        <td id=\"T_7baad_row25_col2\" class=\"data row25 col2\" >0.267359</td>\n",
       "                        <td id=\"T_7baad_row25_col3\" class=\"data row25 col3\" >25</td>\n",
       "            </tr>\n",
       "            <tr>\n",
       "                        <th id=\"T_7baad_level0_row26\" class=\"row_heading level0 row26\" >26</th>\n",
       "                        <td id=\"T_7baad_row26_col0\" class=\"data row26 col0\" >85_days_Alercev1: Based on Villar</td>\n",
       "                        <td id=\"T_7baad_row26_col1\" class=\"data row26 col1\" >0.029879</td>\n",
       "                        <td id=\"T_7baad_row26_col2\" class=\"data row26 col2\" >0.259335</td>\n",
       "                        <td id=\"T_7baad_row26_col3\" class=\"data row26 col3\" >0</td>\n",
       "            </tr>\n",
       "            <tr>\n",
       "                        <th id=\"T_7baad_level0_row27\" class=\"row_heading level0 row27\" >27</th>\n",
       "                        <td id=\"T_7baad_row27_col0\" class=\"data row27 col0\" >59_days_Bazin</td>\n",
       "                        <td id=\"T_7baad_row27_col1\" class=\"data row27 col1\" >0.058443</td>\n",
       "                        <td id=\"T_7baad_row27_col2\" class=\"data row27 col2\" >0.250421</td>\n",
       "                        <td id=\"T_7baad_row27_col3\" class=\"data row27 col3\" >156</td>\n",
       "            </tr>\n",
       "            <tr>\n",
       "                        <th id=\"T_7baad_level0_row28\" class=\"row_heading level0 row28\" >28</th>\n",
       "                        <td id=\"T_7baad_row28_col0\" class=\"data row28 col0\" >59_days_Bazin: With Mod for different points</td>\n",
       "                        <td id=\"T_7baad_row28_col1\" class=\"data row28 col1\" >0.058459</td>\n",
       "                        <td id=\"T_7baad_row28_col2\" class=\"data row28 col2\" >0.250421</td>\n",
       "                        <td id=\"T_7baad_row28_col3\" class=\"data row28 col3\" >156</td>\n",
       "            </tr>\n",
       "            <tr>\n",
       "                        <th id=\"T_7baad_level0_row29\" class=\"row_heading level0 row29\" >29</th>\n",
       "                        <td id=\"T_7baad_row29_col0\" class=\"data row29 col0\" >59_days_Alercev1: Based on Villar</td>\n",
       "                        <td id=\"T_7baad_row29_col1\" class=\"data row29 col1\" >0.035103</td>\n",
       "                        <td id=\"T_7baad_row29_col2\" class=\"data row29 col2\" >0.252024</td>\n",
       "                        <td id=\"T_7baad_row29_col3\" class=\"data row29 col3\" >120</td>\n",
       "            </tr>\n",
       "            <tr>\n",
       "                        <th id=\"T_7baad_level0_row30\" class=\"row_heading level0 row30\" >30</th>\n",
       "                        <td id=\"T_7baad_row30_col0\" class=\"data row30 col0\" >42_days_Bazin</td>\n",
       "                        <td id=\"T_7baad_row30_col1\" class=\"data row30 col1\" >0.055512</td>\n",
       "                        <td id=\"T_7baad_row30_col2\" class=\"data row30 col2\" >0.192757</td>\n",
       "                        <td id=\"T_7baad_row30_col3\" class=\"data row30 col3\" >363</td>\n",
       "            </tr>\n",
       "            <tr>\n",
       "                        <th id=\"T_7baad_level0_row31\" class=\"row_heading level0 row31\" >31</th>\n",
       "                        <td id=\"T_7baad_row31_col0\" class=\"data row31 col0\" >42_days_Bazin: With Mod for different points</td>\n",
       "                        <td id=\"T_7baad_row31_col1\" class=\"data row31 col1\" >0.062975</td>\n",
       "                        <td id=\"T_7baad_row31_col2\" class=\"data row31 col2\" >0.204855</td>\n",
       "                        <td id=\"T_7baad_row31_col3\" class=\"data row31 col3\" >394</td>\n",
       "            </tr>\n",
       "            <tr>\n",
       "                        <th id=\"T_7baad_level0_row32\" class=\"row_heading level0 row32\" >32</th>\n",
       "                        <td id=\"T_7baad_row32_col0\" class=\"data row32 col0\" >42_days_Alercev1: Based on Villar</td>\n",
       "                        <td id=\"T_7baad_row32_col1\" class=\"data row32 col1\" >0.033507</td>\n",
       "                        <td id=\"T_7baad_row32_col2\" class=\"data row32 col2\" >0.186037</td>\n",
       "                        <td id=\"T_7baad_row32_col3\" class=\"data row32 col3\" >316</td>\n",
       "            </tr>\n",
       "            <tr>\n",
       "                        <th id=\"T_7baad_level0_row33\" class=\"row_heading level0 row33\" >33</th>\n",
       "                        <td id=\"T_7baad_row33_col0\" class=\"data row33 col0\" >111_days_Bazin</td>\n",
       "                        <td id=\"T_7baad_row33_col1\" class=\"data row33 col1\" >0.059795</td>\n",
       "                        <td id=\"T_7baad_row33_col2\" class=\"data row33 col2\" >0.248501</td>\n",
       "                        <td id=\"T_7baad_row33_col3\" class=\"data row33 col3\" >20</td>\n",
       "            </tr>\n",
       "            <tr>\n",
       "                        <th id=\"T_7baad_level0_row34\" class=\"row_heading level0 row34\" >34</th>\n",
       "                        <td id=\"T_7baad_row34_col0\" class=\"data row34 col0\" >111_days_Bazin: With Mod for different points</td>\n",
       "                        <td id=\"T_7baad_row34_col1\" class=\"data row34 col1\" >0.056830</td>\n",
       "                        <td id=\"T_7baad_row34_col2\" class=\"data row34 col2\" >0.248501</td>\n",
       "                        <td id=\"T_7baad_row34_col3\" class=\"data row34 col3\" >20</td>\n",
       "            </tr>\n",
       "            <tr>\n",
       "                        <th id=\"T_7baad_level0_row35\" class=\"row_heading level0 row35\" >35</th>\n",
       "                        <td id=\"T_7baad_row35_col0\" class=\"data row35 col0\" >111_days_Alercev1: Based on Villar</td>\n",
       "                        <td id=\"T_7baad_row35_col1\" class=\"data row35 col1\" >0.034874</td>\n",
       "                        <td id=\"T_7baad_row35_col2\" class=\"data row35 col2\" >0.264810</td>\n",
       "                        <td id=\"T_7baad_row35_col3\" class=\"data row35 col3\" >0</td>\n",
       "            </tr>\n",
       "            <tr>\n",
       "                        <th id=\"T_7baad_level0_row36\" class=\"row_heading level0 row36\" >36</th>\n",
       "                        <td id=\"T_7baad_row36_col0\" class=\"data row36 col0\" >53_days_Bazin</td>\n",
       "                        <td id=\"T_7baad_row36_col1\" class=\"data row36 col1\" >0.057508</td>\n",
       "                        <td id=\"T_7baad_row36_col2\" class=\"data row36 col2\" >0.213893</td>\n",
       "                        <td id=\"T_7baad_row36_col3\" class=\"data row36 col3\" >169</td>\n",
       "            </tr>\n",
       "            <tr>\n",
       "                        <th id=\"T_7baad_level0_row37\" class=\"row_heading level0 row37\" >37</th>\n",
       "                        <td id=\"T_7baad_row37_col0\" class=\"data row37 col0\" >53_days_Bazin: With Mod for different points</td>\n",
       "                        <td id=\"T_7baad_row37_col1\" class=\"data row37 col1\" >0.053941</td>\n",
       "                        <td id=\"T_7baad_row37_col2\" class=\"data row37 col2\" >0.217680</td>\n",
       "                        <td id=\"T_7baad_row37_col3\" class=\"data row37 col3\" >169</td>\n",
       "            </tr>\n",
       "            <tr>\n",
       "                        <th id=\"T_7baad_level0_row38\" class=\"row_heading level0 row38\" >38</th>\n",
       "                        <td id=\"T_7baad_row38_col0\" class=\"data row38 col0\" >53_days_Alercev1: Based on Villar</td>\n",
       "                        <td id=\"T_7baad_row38_col1\" class=\"data row38 col1\" >0.034832</td>\n",
       "                        <td id=\"T_7baad_row38_col2\" class=\"data row38 col2\" >0.223396</td>\n",
       "                        <td id=\"T_7baad_row38_col3\" class=\"data row38 col3\" >120</td>\n",
       "            </tr>\n",
       "    </tbody></table>"
      ],
      "text/plain": [
       "<pandas.io.formats.style.Styler at 0x7f01ce8e1d30>"
      ]
     },
     "execution_count": 12,
     "metadata": {},
     "output_type": "execute_result"
    }
   ],
   "source": [
    "summarydf = pd.DataFrame(data=summarylist,columns=columnname) \n",
    "summarydf.style.set_properties(align=\"right\")"
   ]
  },
  {
   "cell_type": "markdown",
   "id": "f63c1969-61ba-46f0-ba6f-3533e51f7722",
   "metadata": {},
   "source": [
    "<!-- |Parameterisation Used| Average Time per Object for all   6 passbands (s) | Average F1 Score for RFC (n=150) | Total objects (of 480) where fit failed   (for ≥ 1 passband) |   |\n",
    "|:----------------------:|:---------------------------------------------------:|:----------------:|:------------------------------------------------------:|---|\n",
    "| Bazin                  | 0.0309                                              | 0.56 ± 0.02      | 11                                                     |   |\n",
    "| FRED                   | 0.0452                                              | 0.47 ± 0.02      | 54                                                    |   |\n",
    "| Alerce: Sid Guesses    | 0.0789                                              | 0.47 ± 0.02      | 10                                                     |   |\n",
    "| Alerce: Alerce Guesses | 0.0947                                              | 0.47 ± 0.02      | 10                                                     |   |\n",
    "| Alerce: Using R        | 0.0952                                              | 0.45 ± 0.02      | 13                                                     |   |\n",
    "| Villar                 | 0.0375                                              | 0.50 ± 0.02      | 0                                                      |   | -->"
   ]
  },
  {
   "cell_type": "code",
   "execution_count": 13,
   "id": "2fd229b3-bfb2-4219-9c53-d9de8c88e87b",
   "metadata": {},
   "outputs": [],
   "source": [
    "bazinls = []\n",
    "bazinmodls = []\n",
    "alercels = []"
   ]
  },
  {
   "cell_type": "code",
   "execution_count": 14,
   "id": "b27fcf50-ae8e-4590-a51a-e0a6d77494a3",
   "metadata": {},
   "outputs": [],
   "source": [
    "for obsday in sorted(obsdaylist):\n",
    "    bazinls.append(summarydf[summarydf[\"Parameterisation Used\"]==f\"{obsday}_days_Bazin\"][\"Average F1 Score for RFC (n=150)\"].to_numpy()[0])\n",
    "    bazinmodls.append(summarydf[summarydf[\"Parameterisation Used\"]==f\"{obsday}_days_Bazin: With Mod for different points\"][\"Average F1 Score for RFC (n=150)\"].to_numpy()[0])\n",
    "    alercels.append(summarydf[summarydf[\"Parameterisation Used\"]==f\"{obsday}_days_Alercev1: Based on Villar\"][\"Average F1 Score for RFC (n=150)\"].to_numpy()[0])"
   ]
  },
  {
   "cell_type": "code",
   "execution_count": 15,
   "id": "9c0cbc10-175f-40f6-b1f3-7b75137bf688",
   "metadata": {},
   "outputs": [],
   "source": [
    "# x = sorted(obsdaylist)\n",
    "# y1 = bazinls\n",
    "# y2 = bazinmodls\n",
    "# y3 = alercels\n",
    "\n",
    "# fig, ax1 = plt.subplots()\n",
    "# ax1.plot(x,y1,label=\"bazin\")\n",
    "# ax1.plot(x,y2,label=\"bazinMOD\")\n",
    "# ax1.plot(x,y3,label=\"alerce\")\n",
    "# ax1.set_xlabel(\"Days After 1st Observation\")\n",
    "# ax1.set_ylabel(\"F1 Score\")\n",
    "# ax1.legend()\n",
    "\n",
    "# ax2 = ax1.twinx()\n",
    "# ax2.plot(list(range(3,16)),y1)\n",
    "# ax2.set_xlabel(\"Number of points\")\n",
    "\n",
    "# fig.tight_layout()\n",
    "# plt.show()"
   ]
  },
  {
   "cell_type": "markdown",
   "id": "7901b0a0-fe9c-4afa-8425-8e70d65aac3c",
   "metadata": {},
   "source": [
    "# Compare early fit and full fit"
   ]
  },
  {
   "cell_type": "code",
   "execution_count": 48,
   "id": "81bb9cf9-be9f-4ff5-b4a7-74dc716f4973",
   "metadata": {},
   "outputs": [],
   "source": [
    "bazinfeatures = [\"a\", \"b\", \"t0\", \"tfall\", \"trise\"]\n",
    "alercev1features = [\"a\", \"beta\", \"t0\", \"gamma\", \"t_fall\", \"t_rise\"]\n",
    "\n",
    "def upperfn(time,a,beta,t0,t1,tfall,trise):\n",
    "    val = (a*(1 - beta*(time-t0)/(t1-t0)))/(1+np.exp(-(time-t0)/trise))\n",
    "    return val\n",
    "def lowerfn(time,a,beta,t0,t1,tfall,trise):\n",
    "    val = (a*(1-beta)*np.exp(-(time-t1)/tfall))/(1+np.exp(-(time-t0)/trise))\n",
    "    return val\n",
    "def alercev1(time,a,beta,t0,gamma,tfall,trise):\n",
    "    t1 = t0 + gamma\n",
    "    val = np.piecewise(time, [time < t1, time >= t1], [lambda time: upperfn(time,a,beta,t0,t1,tfall,trise), lambda time: lowerfn(time,a,beta,t0,t1,tfall,trise)])\n",
    "    return val\n",
    "\n",
    "def bazin(time, a, b, t0, tfall, trise):\n",
    "    with np.errstate(over='ignore', invalid='ignore'):\n",
    "        X = np.exp(-(time - t0) / tfall) / (1 + np.exp(-(time - t0) / trise))\n",
    "        return a * X + b"
   ]
  },
  {
   "cell_type": "code",
   "execution_count": 117,
   "id": "86bdef41-9be6-487d-b8c3-89ee2f03fccc",
   "metadata": {},
   "outputs": [],
   "source": [
    "for obsday in sorted(obsdaylist):\n",
    "    bazinmse =\n",
    "    bazinfullfitdf = pd.read_csv(\"saved_fits/bazin.csv\",index_col=0)\n",
    "    bazinearlyfitdf = pd.read_csv(f\"subset_saved_fits/{obsday}_days/bazin.csv\",index_col=0)\n",
    "    \n",
    "    alercev1fullfitdf = pd.read_csv(\"saved_fits/alercev1.csv\",index_col=0)\n",
    "    alercev1earlyfitdf = pd.read_csv(f\"subset_saved_fits/{obsday}_days/alercev1.csv\",index_col=0)\n",
    "\n",
    "    allobjs = bazinfullfitdf.index.to_numpy()\n",
    "    for obj in allobjs:\n",
    "        bfull = bazin(x,*(bazinfullfitdf[[f\"{elem}_{band}\" for elem in bazinfeatures]].loc[obj].to_numpy()))\n",
    "        bearly = bazin(x,*(bazinearlyfitdf[[f\"{elem}_{band}\" for elem in bazinfeatures]].loc[obj].to_numpy()))\n",
    "        \n",
    "        \n",
    "        break"
   ]
  },
  {
   "cell_type": "code",
   "execution_count": 142,
   "id": "a1713719-9c74-44ec-b433-8fdf3a55c2ff",
   "metadata": {},
   "outputs": [],
   "source": [
    "tempbdf = pd.DataFrame(np.concatenate([bfull.reshape(-1,1),bearly.reshape(-1,1)],axis=1))"
   ]
  },
  {
   "cell_type": "code",
   "execution_count": 145,
   "id": "303b0918-61f0-4b0c-a442-18d16ce150e0",
   "metadata": {},
   "outputs": [
    {
     "data": {
      "text/plain": [
       "-0.01013253743636269"
      ]
     },
     "execution_count": 145,
     "metadata": {},
     "output_type": "execute_result"
    }
   ],
   "source": [
    "tempbdf.corr().iloc[0,1]"
   ]
  },
  {
   "cell_type": "code",
   "execution_count": 123,
   "id": "ad467e7e-dfdd-4a4e-bf83-a42d7ef8c8bd",
   "metadata": {},
   "outputs": [
    {
     "data": {
      "text/plain": [
       "2405780.186206553"
      ]
     },
     "execution_count": 123,
     "metadata": {},
     "output_type": "execute_result"
    }
   ],
   "source": [
    "((bfull - bearly)**2).sum()"
   ]
  },
  {
   "cell_type": "code",
   "execution_count": 54,
   "id": "877ad224-1b4e-4ff6-a935-f26e242a30a6",
   "metadata": {},
   "outputs": [],
   "source": [
    "allobjs = bazinfullfitdf.index.to_numpy()"
   ]
  },
  {
   "cell_type": "code",
   "execution_count": 104,
   "id": "e575b466-4056-4be5-8676-41bd2560de25",
   "metadata": {},
   "outputs": [],
   "source": [
    "x = np.arange(0,800,0.01)"
   ]
  },
  {
   "cell_type": "code",
   "execution_count": 105,
   "id": "73fda166-415d-4522-8999-bf6050dd6511",
   "metadata": {},
   "outputs": [],
   "source": [
    "for obj in allobjs:\n",
    "    "
   ]
  },
  {
   "cell_type": "code",
   "execution_count": 43,
   "id": "587cb423-8c34-496f-84a1-a0ed3acec916",
   "metadata": {},
   "outputs": [
    {
     "ename": "NameError",
     "evalue": "name 'obj' is not defined",
     "output_type": "error",
     "traceback": [
      "\u001b[0;31m---------------------------------------------------------------------------\u001b[0m",
      "\u001b[0;31mNameError\u001b[0m                                 Traceback (most recent call last)",
      "\u001b[0;32m<ipython-input-43-b462de7cacc1>\u001b[0m in \u001b[0;36m<module>\u001b[0;34m\u001b[0m\n\u001b[0;32m----> 1\u001b[0;31m \u001b[0mfullfit_params_bazin\u001b[0m \u001b[0;34m=\u001b[0m \u001b[0mbazinfullfitdf\u001b[0m\u001b[0;34m[\u001b[0m\u001b[0;34m[\u001b[0m\u001b[0;34mf\"{elem}_{band}\"\u001b[0m \u001b[0;32mfor\u001b[0m \u001b[0melem\u001b[0m \u001b[0;32min\u001b[0m \u001b[0mbazinfeatures\u001b[0m\u001b[0;34m]\u001b[0m\u001b[0;34m]\u001b[0m\u001b[0;34m.\u001b[0m\u001b[0mloc\u001b[0m\u001b[0;34m[\u001b[0m\u001b[0mobj\u001b[0m\u001b[0;34m]\u001b[0m\u001b[0;34m.\u001b[0m\u001b[0mto_numpy\u001b[0m\u001b[0;34m(\u001b[0m\u001b[0;34m)\u001b[0m\u001b[0;34m\u001b[0m\u001b[0;34m\u001b[0m\u001b[0m\n\u001b[0m\u001b[1;32m      2\u001b[0m \u001b[0mearlyfit_params_bazin\u001b[0m \u001b[0;34m=\u001b[0m \u001b[0mbazinearlyfitdf\u001b[0m\u001b[0;34m[\u001b[0m\u001b[0;34m[\u001b[0m\u001b[0;34mf\"{elem}_{band}\"\u001b[0m \u001b[0;32mfor\u001b[0m \u001b[0melem\u001b[0m \u001b[0;32min\u001b[0m \u001b[0mbazinfeatures\u001b[0m\u001b[0;34m]\u001b[0m\u001b[0;34m]\u001b[0m\u001b[0;34m.\u001b[0m\u001b[0mloc\u001b[0m\u001b[0;34m[\u001b[0m\u001b[0mobj\u001b[0m\u001b[0;34m]\u001b[0m\u001b[0;34m.\u001b[0m\u001b[0mto_numpy\u001b[0m\u001b[0;34m(\u001b[0m\u001b[0;34m)\u001b[0m\u001b[0;34m\u001b[0m\u001b[0;34m\u001b[0m\u001b[0m\n\u001b[1;32m      3\u001b[0m \u001b[0;34m\u001b[0m\u001b[0m\n\u001b[1;32m      4\u001b[0m \u001b[0mfullfit_params_alercev1\u001b[0m \u001b[0;34m=\u001b[0m \u001b[0malercev1fullfitdf\u001b[0m\u001b[0;34m[\u001b[0m\u001b[0;34m[\u001b[0m\u001b[0;34mf\"{elem}_{band}\"\u001b[0m \u001b[0;32mfor\u001b[0m \u001b[0melem\u001b[0m \u001b[0;32min\u001b[0m \u001b[0malercev1features\u001b[0m\u001b[0;34m]\u001b[0m\u001b[0;34m]\u001b[0m\u001b[0;34m.\u001b[0m\u001b[0mloc\u001b[0m\u001b[0;34m[\u001b[0m\u001b[0mobj\u001b[0m\u001b[0;34m]\u001b[0m\u001b[0;34m.\u001b[0m\u001b[0mto_numpy\u001b[0m\u001b[0;34m(\u001b[0m\u001b[0;34m)\u001b[0m\u001b[0;34m\u001b[0m\u001b[0;34m\u001b[0m\u001b[0m\n\u001b[1;32m      5\u001b[0m \u001b[0mearlyfit_params_alercev1\u001b[0m \u001b[0;34m=\u001b[0m \u001b[0malercev1earlyfitdf\u001b[0m\u001b[0;34m[\u001b[0m\u001b[0;34m[\u001b[0m\u001b[0;34mf\"{elem}_{band}\"\u001b[0m \u001b[0;32mfor\u001b[0m \u001b[0melem\u001b[0m \u001b[0;32min\u001b[0m \u001b[0malercev1features\u001b[0m\u001b[0;34m]\u001b[0m\u001b[0;34m]\u001b[0m\u001b[0;34m.\u001b[0m\u001b[0mloc\u001b[0m\u001b[0;34m[\u001b[0m\u001b[0mobj\u001b[0m\u001b[0;34m]\u001b[0m\u001b[0;34m.\u001b[0m\u001b[0mto_numpy\u001b[0m\u001b[0;34m(\u001b[0m\u001b[0;34m)\u001b[0m\u001b[0;34m\u001b[0m\u001b[0;34m\u001b[0m\u001b[0m\n",
      "\u001b[0;31mNameError\u001b[0m: name 'obj' is not defined"
     ]
    }
   ],
   "source": [
    "fullfit_params_bazin = bazinfullfitdf[[f\"{elem}_{band}\" for elem in bazinfeatures]].loc[obj].to_numpy()\n",
    "earlyfit_params_bazin = bazinearlyfitdf[[f\"{elem}_{band}\" for elem in bazinfeatures]].loc[obj].to_numpy()\n",
    "\n",
    "fullfit_params_alercev1 = alercev1fullfitdf[[f\"{elem}_{band}\" for elem in alercev1features]].loc[obj].to_numpy()\n",
    "earlyfit_params_alercev1 = alercev1earlyfitdf[[f\"{elem}_{band}\" for elem in alercev1features]].loc[obj].to_numpy()\n"
   ]
  },
  {
   "cell_type": "code",
   "execution_count": null,
   "id": "177ef699-f52d-43ba-9868-5c7410cb581d",
   "metadata": {},
   "outputs": [],
   "source": []
  }
 ],
 "metadata": {
  "kernelspec": {
   "display_name": "Python 3",
   "language": "python",
   "name": "python3"
  },
  "language_info": {
   "codemirror_mode": {
    "name": "ipython",
    "version": 3
   },
   "file_extension": ".py",
   "mimetype": "text/x-python",
   "name": "python",
   "nbconvert_exporter": "python",
   "pygments_lexer": "ipython3",
   "version": "3.8.5"
  }
 },
 "nbformat": 4,
 "nbformat_minor": 5
}
