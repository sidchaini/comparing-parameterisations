{
 "cells": [
  {
   "cell_type": "code",
   "execution_count": 1,
   "id": "596b9846",
   "metadata": {},
   "outputs": [],
   "source": [
    "import numpy as np\n",
    "np.random.seed(42)\n",
    "np.set_printoptions(suppress=True)\n",
    "from scipy.optimize import least_squares, curve_fit\n",
    "from matplotlib import pylab as plt\n",
    "import pandas as pd\n",
    "import glob\n",
    "import time\n",
    "from tqdm.notebook import tqdm\n",
    "import os\n",
    "\n",
    "import warnings\n",
    "from scipy.optimize import OptimizeWarning\n",
    "warnings.simplefilter(\"error\", OptimizeWarning)\n",
    "\n",
    "# import seaborn as sns\n",
    "# sns.set()"
   ]
  },
  {
   "cell_type": "markdown",
   "id": "fddeb436-c42f-4df8-b93d-2436d8a46c9d",
   "metadata": {},
   "source": [
    "# Defining Individual Functions for Each Parameterisation"
   ]
  },
  {
   "cell_type": "markdown",
   "id": "b07ec18d-196a-4495-9adc-f1413ccbedf3",
   "metadata": {},
   "source": [
    "## Bazin - With NEWMOD (set defaults if value low)"
   ]
  },
  {
   "cell_type": "code",
   "execution_count": 2,
   "id": "2ce6d5a6-5c87-4be6-87bb-55dd62eb34fd",
   "metadata": {},
   "outputs": [],
   "source": [
    "bazinfeatures = [\"a\", \"b\", \"t0\", \"tfall\", \"trise\"]\n",
    "\n",
    "def bazin(time, a, b, t0, tfall, trise):\n",
    "    with np.errstate(over='ignore', invalid='ignore'):\n",
    "        X = np.exp(-(time - t0) / tfall) / (1 + np.exp(-(time - t0) / trise))\n",
    "        return a * X + b\n",
    "\n",
    "def bazinr(time, a, b, t0, tfall, r):\n",
    "    trise = tfall/r\n",
    "    return bazin(time, a, b, t0, tfall, trise)\n",
    "    \n",
    "def errfunc_bazin(params, time, flux, fluxerr):\n",
    "    return abs(flux - bazinr(time, *params)) / fluxerr\n",
    "\n",
    "def errfunc_bazin4pts(params, time, flux, fluxerr):\n",
    "    a,t0,tfall,r = params\n",
    "    b=0 #HARDCODED\n",
    "    return abs(flux - bazinr(time, a, b, t0, tfall, r)) / fluxerr\n",
    "\n",
    "def errfunc_bazin3pts(params, time, flux, fluxerr):\n",
    "    a,t0,tfall = params\n",
    "    b=0 #HARDCODED\n",
    "    trise=10 #HARDCODED\n",
    "    r = tfall/trise\n",
    "    return abs(flux - bazinr(time, a, b, t0, tfall, r)) / fluxerr\n",
    "\n",
    "def fit_scipy_bazinNEWMOD(time, flux, fluxerr):\n",
    "    flux = np.asarray(flux)\n",
    "    imax = flux.argmax()\n",
    "    flux_max = flux[imax]\n",
    "    \n",
    "    # Parameter guess\n",
    "    a_guess = 2*flux_max\n",
    "    b_guess = 0\n",
    "    t0_guess = time[imax]\n",
    "    tfall_guess = time[imax-2:imax+2].std()/2\n",
    "    if np.isnan(tfall_guess):\n",
    "        tfall_guess = time[imax-1:imax+1].std()/2\n",
    "        if np.isnan(tfall_guess):\n",
    "            tfall_guess=50\n",
    "    if tfall_guess<1:\n",
    "        tfall_guess=50\n",
    "    r_guess = 2\n",
    "\n",
    "        \n",
    "    # Parameter bounds\n",
    "    a_bounds = [1.e-3, np.inf]\n",
    "    b_bounds = [-np.inf, np.inf]        \n",
    "    t0_bounds = [-0.5*time.max(), 1.5*time.max()]\n",
    "    tfall_bounds = [1.e-3, np.inf]\n",
    "    r_bounds = [1, np.inf]\n",
    "\n",
    "    \n",
    "    # Full fit\n",
    "    if len(flux)>=5:\n",
    "        guess = [a_guess,b_guess,t0_guess,tfall_guess,r_guess]\n",
    "        bounds = [[a_bounds[0], b_bounds[0], t0_bounds[0], tfall_bounds[0], r_bounds[0]],\n",
    "                  [a_bounds[1], b_bounds[1], t0_bounds[1], tfall_bounds[1], r_bounds[1]]]\n",
    "        result = least_squares(errfunc_bazin, guess, args=(time, flux, fluxerr), method='trf', loss='linear',bounds=bounds)\n",
    "        a_fit,b_fit,t0_fit,tfall_fit,r_fit = result.x\n",
    "        trise_fit = tfall_fit/r_fit\n",
    "    elif len(flux)==4:\n",
    "        b_fit=0 #HARDCODED\n",
    "        guess = [a_guess,t0_guess,tfall_guess,r_guess]\n",
    "        bounds = [[a_bounds[0], t0_bounds[0], tfall_bounds[0], r_bounds[0]],\n",
    "                  [a_bounds[1], t0_bounds[1], tfall_bounds[1], r_bounds[1]]]\n",
    "        result = least_squares(errfunc_bazin4pts, guess, args=(time, flux, fluxerr), method='trf', loss='linear',bounds=bounds)\n",
    "        a_fit,t0_fit,tfall_fit,r_fit = result.x\n",
    "        trise_fit = tfall_fit/r_fit\n",
    "    else:\n",
    "        b_fit=0 #HARDCODED\n",
    "        trise_fit=10 #HARDCODED\n",
    "        guess = [a_guess,t0_guess,tfall_guess]\n",
    "        tfall_bounds[0] = trise_fit # CHANGE tfall lower bound to ensure tfall>trise as no r>1 bound here\n",
    "        bounds = [[a_bounds[0], t0_bounds[0], tfall_bounds[0]],\n",
    "                  [a_bounds[1], t0_bounds[1], tfall_bounds[1]]]\n",
    "        result = least_squares(errfunc_bazin3pts, guess, args=(time, flux, fluxerr), method='trf', loss='linear',bounds=bounds)\n",
    "        a_fit,t0_fit,tfall_fit = result.x\n",
    "    \n",
    "    final_result = np.array([a_fit,b_fit,t0_fit,tfall_fit,trise_fit])\n",
    "    \n",
    "    return final_result"
   ]
  },
  {
   "cell_type": "markdown",
   "id": "02e901f1-b732-48a2-add7-954505146d74",
   "metadata": {},
   "source": [
    "## Bazin - Without Mods (PR49)"
   ]
  },
  {
   "cell_type": "code",
   "execution_count": 3,
   "id": "8c3875d4-8c20-4cfc-8dc9-2ccee13fb786",
   "metadata": {},
   "outputs": [],
   "source": [
    "def fit_scipy_bazin(time, flux, fluxerr):\n",
    "    flux = np.asarray(flux)\n",
    "    imax = flux.argmax()\n",
    "    flux_max = flux[imax]\n",
    "    \n",
    "    # Parameter guess\n",
    "    a_guess = 2*flux_max\n",
    "    b_guess = 0\n",
    "    t0_guess = time[imax]\n",
    "    tfall_guess = time[imax-2:imax+2].std()/2\n",
    "    if np.isnan(tfall_guess):\n",
    "        tfall_guess = time[imax-1:imax+1].std()/2\n",
    "        if np.isnan(tfall_guess):\n",
    "            tfall_guess=50\n",
    "    if tfall_guess<1:\n",
    "        tfall_guess=50\n",
    "    r_guess = 2\n",
    "\n",
    "        \n",
    "    # Parameter bounds\n",
    "    a_bounds = [1.e-3, np.inf]\n",
    "    b_bounds = [-np.inf, np.inf]        \n",
    "    t0_bounds = [-0.5*time.max(), 1.5*time.max()]\n",
    "    tfall_bounds = [1.e-3, np.inf]\n",
    "    r_bounds = [1, np.inf]\n",
    "\n",
    "    \n",
    "    guess = [a_guess,b_guess,t0_guess,tfall_guess,r_guess]\n",
    "    bounds = [[a_bounds[0], b_bounds[0], t0_bounds[0], tfall_bounds[0], r_bounds[0]],\n",
    "              [a_bounds[1], b_bounds[1], t0_bounds[1], tfall_bounds[1], r_bounds[1]]]\n",
    "    result = least_squares(errfunc_bazin, guess, args=(time, flux, fluxerr), method='trf', loss='linear',bounds=bounds)\n",
    "    a_fit,b_fit,t0_fit,tfall_fit,r_fit = result.x\n",
    "    trise_fit = tfall_fit/r_fit\n",
    "    final_result = np.array([a_fit,b_fit,t0_fit,tfall_fit,trise_fit])\n",
    "    \n",
    "    return final_result"
   ]
  },
  {
   "cell_type": "markdown",
   "id": "9114df1e-523e-4693-b122-2fd0b09e2bcb",
   "metadata": {},
   "source": [
    "## Alerce (v1) Parameterisation - based on Villar"
   ]
  },
  {
   "cell_type": "code",
   "execution_count": 4,
   "id": "835252f7-fcaa-4704-9978-8d93b8c36611",
   "metadata": {},
   "outputs": [],
   "source": [
    "alercev1features = [\"a\", \"beta\", \"t0\", \"gamma\", \"t_fall\", \"t_rise\"]\n",
    "\n",
    "def upperfn(time,a,beta,t0,t1,tfall,trise):\n",
    "    val = (a*(1 - beta*(time-t0)/(t1-t0)))/(1+np.exp(-(time-t0)/trise))\n",
    "    return val\n",
    "def lowerfn(time,a,beta,t0,t1,tfall,trise):\n",
    "    val = (a*(1-beta)*np.exp(-(time-t1)/tfall))/(1+np.exp(-(time-t0)/trise))\n",
    "    return val\n",
    "def alercev1(time,a,beta,t0,gamma,tfall,trise):\n",
    "    t1 = t0 + gamma\n",
    "    val = np.piecewise(time, [time < t1, time >= t1], [lambda time: upperfn(time,a,beta,t0,t1,tfall,trise), lambda time: lowerfn(time,a,beta,t0,t1,tfall,trise)])\n",
    "    return val\n",
    "\n",
    "def errfunc_alercev1(params, time, flux, fluxerr):\n",
    "    return abs(flux - alercev1(time, *params))/ fluxerr\n",
    "\n",
    "def fit_scipy_alercev1(time, flux, fluxerr):\n",
    "    flux = np.asarray(flux)\n",
    "    imax = flux.argmax()\n",
    "    t0 = time[imax]\n",
    "    max_flux = flux[imax]\n",
    "    if max_flux>0:\n",
    "        a_bounds = [max_flux / 3.0, max_flux * 3.0]\n",
    "    else:\n",
    "        a_bounds = [-np.inf, np.inf]\n",
    "    beta_bounds = [0.0, 1.0]\n",
    "    t0_bounds = [-0.5*time.max(), 1.5*time.max()]\n",
    "    gamma_bounds = [1.0, 100.0]\n",
    "    tfall_bounds = [1.0, 100.0]\n",
    "    trise_bounds = [1.0, 100.0]\n",
    "\n",
    "    \n",
    "    a_guess = np.clip(1.5 * max_flux, a_bounds[0], a_bounds[1])\n",
    "    beta_guess = 0\n",
    "    t0_guess = np.clip(time[imax] * 2.0 / 3.0, t0_bounds[0], t0_bounds[1])\n",
    "    gamma_guess = np.clip(time[imax], gamma_bounds[0], gamma_bounds[1])\n",
    "    tfall_guess = 50\n",
    "    trise_guess = 45\n",
    "    \n",
    "    guess = [a_guess, beta_guess, t0_guess, gamma_guess, tfall_guess, trise_guess]\n",
    "    \n",
    "    result = least_squares(errfunc_alercev1, guess, args=(time, flux, fluxerr), method='trf', loss='linear',\\\n",
    "                                  bounds=([a_bounds[0], beta_bounds[0], t0_bounds[0], gamma_bounds[0], tfall_bounds[0], trise_bounds[0]],\n",
    "                                         [a_bounds[1], beta_bounds[1], t0_bounds[1], gamma_bounds[1], tfall_bounds[1], trise_bounds[1]])\n",
    "                          )\n",
    "    return result.x\n"
   ]
  },
  {
   "cell_type": "code",
   "execution_count": 5,
   "id": "4d704c6b-898c-4809-bf94-0b86747f465c",
   "metadata": {},
   "outputs": [],
   "source": [
    "directoryls = glob.glob(\"subset_csv_data/*_days\")"
   ]
  },
  {
   "cell_type": "code",
   "execution_count": 6,
   "id": "85b6edc1-ca8f-4bb4-a5a2-1fe43610bf59",
   "metadata": {},
   "outputs": [],
   "source": [
    "obsdaylist = []\n",
    "for directory in directoryls:\n",
    "    obsdaylist.append(int(directory.split(\"/\")[-1].split(\"_\")[0]))"
   ]
  },
  {
   "cell_type": "code",
   "execution_count": 7,
   "id": "b64951f2-f779-4c50-a5ee-a4a50d0d3ff7",
   "metadata": {},
   "outputs": [],
   "source": [
    "# filels = glob.glob(\"csv_data/*.csv\")"
   ]
  },
  {
   "cell_type": "code",
   "execution_count": 8,
   "id": "babe8beb-e11d-41c7-82e8-df51fc68d907",
   "metadata": {},
   "outputs": [],
   "source": [
    "def runfit(filels, fit_scipy, featurename, csvname):\n",
    "    \n",
    "    failedfits = 0\n",
    "\n",
    "    datalist = []\n",
    "\n",
    "    for file in tqdm(filels):\n",
    "        d = pd.read_csv(file)\n",
    "        obid = int(file.split(\"/\")[-1].split(\"_\")[0])\n",
    "        obclass = file.split(\"_\")[-1].replace(\".csv\",\"\")\n",
    "        timels = []\n",
    "        featurels = []\n",
    "        for filt in \"ugrizY\":\n",
    "            band = d['band']==filt \n",
    "            t = np.array(d[band]['mjd'])\n",
    "            if len(t)==0:\n",
    "                continue\n",
    "            t = t-t[0]\n",
    "            f = np.array(d[band]['flux'])\n",
    "            fe = np.array(d[band]['fluxerr'])\n",
    "\n",
    "            try:\n",
    "                timestart = time.time()\n",
    "                params_list = list(fit_scipy(t, f, fe))\n",
    "                timestop = time.time()\n",
    "                tottime = timestop-timestart\n",
    "            except Exception as e:\n",
    "#                 print(e)\n",
    "                failedfits += 1\n",
    "                params_list = [np.nan for x in featurename]\n",
    "                tottime = np.nan\n",
    "            featurels = featurels + params_list\n",
    "            timels.append(tottime)\n",
    "        timetaken = np.mean([x for x in timels if x == x])\n",
    "\n",
    "        datalist.append([obid,obclass,timetaken]+featurels)\n",
    "\n",
    "    collist = []\n",
    "    for fil in \"ugrizY\":\n",
    "        for f in featurename:\n",
    "            collist.append(f\"{f}_{fil}\")\n",
    "\n",
    "    df = pd.DataFrame(data=datalist,columns=[\"objid\",\"objclass\",\"timetaken\"]+collist)\n",
    "\n",
    "    if not os.path.isdir(\"subset_saved_fits/\"):\n",
    "        os.mkdir(\"subset_saved_fits/\")\n",
    "    \n",
    "    df.to_csv(f\"subset_saved_fits/{csvname}.csv\",index=False)\n",
    "\n",
    "    print(f\"Failed fitting {failedfits}/{len(filels)*6} light curves\")"
   ]
  },
  {
   "cell_type": "code",
   "execution_count": 9,
   "id": "a50ce13c-6015-4887-ab11-7256846b9224",
   "metadata": {},
   "outputs": [
    {
     "data": {
      "application/vnd.jupyter.widget-view+json": {
       "model_id": "e18a7939f0b84da089613a36ddb75dc4",
       "version_major": 2,
       "version_minor": 0
      },
      "text/plain": [
       "  0%|          | 0/480 [00:00<?, ?it/s]"
      ]
     },
     "metadata": {},
     "output_type": "display_data"
    },
    {
     "name": "stderr",
     "output_type": "stream",
     "text": [
      "/home/sidchaini/resspect_work/.venvs/newresspect/lib/python3.8/site-packages/numpy/core/_methods.py:261: RuntimeWarning: Degrees of freedom <= 0 for slice\n",
      "  ret = _var(a, axis=axis, dtype=dtype, out=out, ddof=ddof,\n",
      "/home/sidchaini/resspect_work/.venvs/newresspect/lib/python3.8/site-packages/numpy/core/_methods.py:221: RuntimeWarning: invalid value encountered in true_divide\n",
      "  arrmean = um.true_divide(arrmean, div, out=arrmean, casting='unsafe',\n",
      "/home/sidchaini/resspect_work/.venvs/newresspect/lib/python3.8/site-packages/numpy/core/_methods.py:253: RuntimeWarning: invalid value encountered in double_scalars\n",
      "  ret = ret.dtype.type(ret / rcount)\n",
      "/home/sidchaini/resspect_work/.venvs/newresspect/lib/python3.8/site-packages/numpy/core/fromnumeric.py:3419: RuntimeWarning: Mean of empty slice.\n",
      "  return _methods._mean(a, axis=axis, dtype=dtype,\n",
      "/home/sidchaini/resspect_work/.venvs/newresspect/lib/python3.8/site-packages/numpy/core/_methods.py:188: RuntimeWarning: invalid value encountered in double_scalars\n",
      "  ret = ret.dtype.type(ret / rcount)\n"
     ]
    },
    {
     "name": "stdout",
     "output_type": "stream",
     "text": [
      "Failed fitting 808/2880 light curves\n"
     ]
    },
    {
     "data": {
      "application/vnd.jupyter.widget-view+json": {
       "model_id": "755ee7651b694689b2dd15ed307c2125",
       "version_major": 2,
       "version_minor": 0
      },
      "text/plain": [
       "  0%|          | 0/480 [00:00<?, ?it/s]"
      ]
     },
     "metadata": {},
     "output_type": "display_data"
    },
    {
     "name": "stdout",
     "output_type": "stream",
     "text": [
      "Failed fitting 356/2880 light curves\n"
     ]
    },
    {
     "data": {
      "application/vnd.jupyter.widget-view+json": {
       "model_id": "c4b77e9b130146deb89714a997eb5555",
       "version_major": 2,
       "version_minor": 0
      },
      "text/plain": [
       "  0%|          | 0/480 [00:00<?, ?it/s]"
      ]
     },
     "metadata": {},
     "output_type": "display_data"
    },
    {
     "name": "stdout",
     "output_type": "stream",
     "text": [
      "Failed fitting 0/2880 light curves\n"
     ]
    },
    {
     "data": {
      "application/vnd.jupyter.widget-view+json": {
       "model_id": "8d84b51f9cfc4c7db8c6760e55c62210",
       "version_major": 2,
       "version_minor": 0
      },
      "text/plain": [
       "  0%|          | 0/480 [00:00<?, ?it/s]"
      ]
     },
     "metadata": {},
     "output_type": "display_data"
    },
    {
     "name": "stdout",
     "output_type": "stream",
     "text": [
      "Failed fitting 76/2880 light curves\n"
     ]
    },
    {
     "data": {
      "application/vnd.jupyter.widget-view+json": {
       "model_id": "f7af9ffd9d2b4ec88a882b48314a38f8",
       "version_major": 2,
       "version_minor": 0
      },
      "text/plain": [
       "  0%|          | 0/480 [00:00<?, ?it/s]"
      ]
     },
     "metadata": {},
     "output_type": "display_data"
    },
    {
     "name": "stdout",
     "output_type": "stream",
     "text": [
      "Failed fitting 76/2880 light curves\n"
     ]
    },
    {
     "data": {
      "application/vnd.jupyter.widget-view+json": {
       "model_id": "db14574c01c14b22bdf294a7056529b7",
       "version_major": 2,
       "version_minor": 0
      },
      "text/plain": [
       "  0%|          | 0/480 [00:00<?, ?it/s]"
      ]
     },
     "metadata": {},
     "output_type": "display_data"
    },
    {
     "name": "stdout",
     "output_type": "stream",
     "text": [
      "Failed fitting 0/2880 light curves\n"
     ]
    },
    {
     "data": {
      "application/vnd.jupyter.widget-view+json": {
       "model_id": "695dc9a1559f40d8a937f9488c6924b3",
       "version_major": 2,
       "version_minor": 0
      },
      "text/plain": [
       "  0%|          | 0/480 [00:00<?, ?it/s]"
      ]
     },
     "metadata": {},
     "output_type": "display_data"
    },
    {
     "name": "stdout",
     "output_type": "stream",
     "text": [
      "Failed fitting 87/2880 light curves\n"
     ]
    },
    {
     "data": {
      "application/vnd.jupyter.widget-view+json": {
       "model_id": "bdd63a51af92439099b3d479178b294a",
       "version_major": 2,
       "version_minor": 0
      },
      "text/plain": [
       "  0%|          | 0/480 [00:00<?, ?it/s]"
      ]
     },
     "metadata": {},
     "output_type": "display_data"
    },
    {
     "name": "stdout",
     "output_type": "stream",
     "text": [
      "Failed fitting 87/2880 light curves\n"
     ]
    },
    {
     "data": {
      "application/vnd.jupyter.widget-view+json": {
       "model_id": "3f88e10138db4580860ccc5011dd6bd8",
       "version_major": 2,
       "version_minor": 0
      },
      "text/plain": [
       "  0%|          | 0/480 [00:00<?, ?it/s]"
      ]
     },
     "metadata": {},
     "output_type": "display_data"
    },
    {
     "name": "stdout",
     "output_type": "stream",
     "text": [
      "Failed fitting 0/2880 light curves\n"
     ]
    },
    {
     "data": {
      "application/vnd.jupyter.widget-view+json": {
       "model_id": "fa801fc737064caaaddd95fc065351e0",
       "version_major": 2,
       "version_minor": 0
      },
      "text/plain": [
       "  0%|          | 0/480 [00:00<?, ?it/s]"
      ]
     },
     "metadata": {},
     "output_type": "display_data"
    },
    {
     "name": "stdout",
     "output_type": "stream",
     "text": [
      "Failed fitting 388/2880 light curves\n"
     ]
    },
    {
     "data": {
      "application/vnd.jupyter.widget-view+json": {
       "model_id": "6dfb130035fa471395377f90c47cc8a5",
       "version_major": 2,
       "version_minor": 0
      },
      "text/plain": [
       "  0%|          | 0/480 [00:00<?, ?it/s]"
      ]
     },
     "metadata": {},
     "output_type": "display_data"
    },
    {
     "name": "stdout",
     "output_type": "stream",
     "text": [
      "Failed fitting 288/2880 light curves\n"
     ]
    },
    {
     "data": {
      "application/vnd.jupyter.widget-view+json": {
       "model_id": "f82a2c7cb4ea44cdb01c6e0036c37342",
       "version_major": 2,
       "version_minor": 0
      },
      "text/plain": [
       "  0%|          | 0/480 [00:00<?, ?it/s]"
      ]
     },
     "metadata": {},
     "output_type": "display_data"
    },
    {
     "name": "stdout",
     "output_type": "stream",
     "text": [
      "Failed fitting 93/2880 light curves\n"
     ]
    },
    {
     "data": {
      "application/vnd.jupyter.widget-view+json": {
       "model_id": "e8acde1b4c114e0596313fc79aa51a5c",
       "version_major": 2,
       "version_minor": 0
      },
      "text/plain": [
       "  0%|          | 0/480 [00:00<?, ?it/s]"
      ]
     },
     "metadata": {},
     "output_type": "display_data"
    },
    {
     "name": "stdout",
     "output_type": "stream",
     "text": [
      "Failed fitting 108/2880 light curves\n"
     ]
    },
    {
     "data": {
      "application/vnd.jupyter.widget-view+json": {
       "model_id": "8862816324e74401a83c91f3526089e1",
       "version_major": 2,
       "version_minor": 0
      },
      "text/plain": [
       "  0%|          | 0/480 [00:00<?, ?it/s]"
      ]
     },
     "metadata": {},
     "output_type": "display_data"
    },
    {
     "name": "stdout",
     "output_type": "stream",
     "text": [
      "Failed fitting 108/2880 light curves\n"
     ]
    },
    {
     "data": {
      "application/vnd.jupyter.widget-view+json": {
       "model_id": "caca43abdca64b108ab16aa81fe2f369",
       "version_major": 2,
       "version_minor": 0
      },
      "text/plain": [
       "  0%|          | 0/480 [00:00<?, ?it/s]"
      ]
     },
     "metadata": {},
     "output_type": "display_data"
    },
    {
     "name": "stdout",
     "output_type": "stream",
     "text": [
      "Failed fitting 0/2880 light curves\n"
     ]
    },
    {
     "data": {
      "application/vnd.jupyter.widget-view+json": {
       "model_id": "d615c9970f2d49b3a4bba90edb1f294d",
       "version_major": 2,
       "version_minor": 0
      },
      "text/plain": [
       "  0%|          | 0/480 [00:00<?, ?it/s]"
      ]
     },
     "metadata": {},
     "output_type": "display_data"
    },
    {
     "name": "stdout",
     "output_type": "stream",
     "text": [
      "Failed fitting 110/2880 light curves\n"
     ]
    },
    {
     "data": {
      "application/vnd.jupyter.widget-view+json": {
       "model_id": "bb56cce71478411c82044595f5e91433",
       "version_major": 2,
       "version_minor": 0
      },
      "text/plain": [
       "  0%|          | 0/480 [00:00<?, ?it/s]"
      ]
     },
     "metadata": {},
     "output_type": "display_data"
    },
    {
     "name": "stdout",
     "output_type": "stream",
     "text": [
      "Failed fitting 110/2880 light curves\n"
     ]
    },
    {
     "data": {
      "application/vnd.jupyter.widget-view+json": {
       "model_id": "f6e9bb360e6c45a8931118ed0482dd44",
       "version_major": 2,
       "version_minor": 0
      },
      "text/plain": [
       "  0%|          | 0/480 [00:00<?, ?it/s]"
      ]
     },
     "metadata": {},
     "output_type": "display_data"
    },
    {
     "name": "stdout",
     "output_type": "stream",
     "text": [
      "Failed fitting 0/2880 light curves\n"
     ]
    },
    {
     "data": {
      "application/vnd.jupyter.widget-view+json": {
       "model_id": "2ee824dd3f6c436aa31762eef4631d38",
       "version_major": 2,
       "version_minor": 0
      },
      "text/plain": [
       "  0%|          | 0/480 [00:00<?, ?it/s]"
      ]
     },
     "metadata": {},
     "output_type": "display_data"
    },
    {
     "name": "stdout",
     "output_type": "stream",
     "text": [
      "Failed fitting 95/2880 light curves\n"
     ]
    },
    {
     "data": {
      "application/vnd.jupyter.widget-view+json": {
       "model_id": "188fdf76f9114e308dfe6b51defbc78e",
       "version_major": 2,
       "version_minor": 0
      },
      "text/plain": [
       "  0%|          | 0/480 [00:00<?, ?it/s]"
      ]
     },
     "metadata": {},
     "output_type": "display_data"
    },
    {
     "name": "stdout",
     "output_type": "stream",
     "text": [
      "Failed fitting 95/2880 light curves\n"
     ]
    },
    {
     "data": {
      "application/vnd.jupyter.widget-view+json": {
       "model_id": "20f3d3ffc6d54e088315d9cc98ad54bf",
       "version_major": 2,
       "version_minor": 0
      },
      "text/plain": [
       "  0%|          | 0/480 [00:00<?, ?it/s]"
      ]
     },
     "metadata": {},
     "output_type": "display_data"
    },
    {
     "name": "stdout",
     "output_type": "stream",
     "text": [
      "Failed fitting 0/2880 light curves\n"
     ]
    },
    {
     "data": {
      "application/vnd.jupyter.widget-view+json": {
       "model_id": "0bd0c36b3abb456cb29c687b8a500b8b",
       "version_major": 2,
       "version_minor": 0
      },
      "text/plain": [
       "  0%|          | 0/480 [00:00<?, ?it/s]"
      ]
     },
     "metadata": {},
     "output_type": "display_data"
    },
    {
     "name": "stdout",
     "output_type": "stream",
     "text": [
      "Failed fitting 100/2880 light curves\n"
     ]
    },
    {
     "data": {
      "application/vnd.jupyter.widget-view+json": {
       "model_id": "5971545a93de4d32b4bdea08a380f7d1",
       "version_major": 2,
       "version_minor": 0
      },
      "text/plain": [
       "  0%|          | 0/480 [00:00<?, ?it/s]"
      ]
     },
     "metadata": {},
     "output_type": "display_data"
    },
    {
     "name": "stdout",
     "output_type": "stream",
     "text": [
      "Failed fitting 100/2880 light curves\n"
     ]
    },
    {
     "data": {
      "application/vnd.jupyter.widget-view+json": {
       "model_id": "846fe064d4f54b5f932a5eb825829a9e",
       "version_major": 2,
       "version_minor": 0
      },
      "text/plain": [
       "  0%|          | 0/480 [00:00<?, ?it/s]"
      ]
     },
     "metadata": {},
     "output_type": "display_data"
    },
    {
     "name": "stdout",
     "output_type": "stream",
     "text": [
      "Failed fitting 0/2880 light curves\n"
     ]
    },
    {
     "data": {
      "application/vnd.jupyter.widget-view+json": {
       "model_id": "1550c77de85b492c9ed0e1b7eab64f7b",
       "version_major": 2,
       "version_minor": 0
      },
      "text/plain": [
       "  0%|          | 0/480 [00:00<?, ?it/s]"
      ]
     },
     "metadata": {},
     "output_type": "display_data"
    },
    {
     "name": "stdout",
     "output_type": "stream",
     "text": [
      "Failed fitting 99/2880 light curves\n"
     ]
    },
    {
     "data": {
      "application/vnd.jupyter.widget-view+json": {
       "model_id": "fe73193925d448b68c1c4f7e192ad519",
       "version_major": 2,
       "version_minor": 0
      },
      "text/plain": [
       "  0%|          | 0/480 [00:00<?, ?it/s]"
      ]
     },
     "metadata": {},
     "output_type": "display_data"
    },
    {
     "name": "stdout",
     "output_type": "stream",
     "text": [
      "Failed fitting 99/2880 light curves\n"
     ]
    },
    {
     "data": {
      "application/vnd.jupyter.widget-view+json": {
       "model_id": "093274b93809479893e2c269e7731009",
       "version_major": 2,
       "version_minor": 0
      },
      "text/plain": [
       "  0%|          | 0/480 [00:00<?, ?it/s]"
      ]
     },
     "metadata": {},
     "output_type": "display_data"
    },
    {
     "name": "stdout",
     "output_type": "stream",
     "text": [
      "Failed fitting 0/2880 light curves\n"
     ]
    },
    {
     "data": {
      "application/vnd.jupyter.widget-view+json": {
       "model_id": "6ef4dcc1add5476091fffa996402d78a",
       "version_major": 2,
       "version_minor": 0
      },
      "text/plain": [
       "  0%|          | 0/480 [00:00<?, ?it/s]"
      ]
     },
     "metadata": {},
     "output_type": "display_data"
    },
    {
     "name": "stdout",
     "output_type": "stream",
     "text": [
      "Failed fitting 121/2880 light curves\n"
     ]
    },
    {
     "data": {
      "application/vnd.jupyter.widget-view+json": {
       "model_id": "a5f2fb6c095248868364df1117a275c4",
       "version_major": 2,
       "version_minor": 0
      },
      "text/plain": [
       "  0%|          | 0/480 [00:00<?, ?it/s]"
      ]
     },
     "metadata": {},
     "output_type": "display_data"
    },
    {
     "name": "stdout",
     "output_type": "stream",
     "text": [
      "Failed fitting 121/2880 light curves\n"
     ]
    },
    {
     "data": {
      "application/vnd.jupyter.widget-view+json": {
       "model_id": "71c3d5f81fef4849ab4b1e3528ae1ce2",
       "version_major": 2,
       "version_minor": 0
      },
      "text/plain": [
       "  0%|          | 0/480 [00:00<?, ?it/s]"
      ]
     },
     "metadata": {},
     "output_type": "display_data"
    },
    {
     "name": "stdout",
     "output_type": "stream",
     "text": [
      "Failed fitting 0/2880 light curves\n"
     ]
    },
    {
     "data": {
      "application/vnd.jupyter.widget-view+json": {
       "model_id": "4e6697e7705644879f3ca5c09a622f37",
       "version_major": 2,
       "version_minor": 0
      },
      "text/plain": [
       "  0%|          | 0/480 [00:00<?, ?it/s]"
      ]
     },
     "metadata": {},
     "output_type": "display_data"
    },
    {
     "name": "stdout",
     "output_type": "stream",
     "text": [
      "Failed fitting 363/2880 light curves\n"
     ]
    },
    {
     "data": {
      "application/vnd.jupyter.widget-view+json": {
       "model_id": "3f611408de5742808ba75392e300ad02",
       "version_major": 2,
       "version_minor": 0
      },
      "text/plain": [
       "  0%|          | 0/480 [00:00<?, ?it/s]"
      ]
     },
     "metadata": {},
     "output_type": "display_data"
    },
    {
     "name": "stdout",
     "output_type": "stream",
     "text": [
      "Failed fitting 263/2880 light curves\n"
     ]
    },
    {
     "data": {
      "application/vnd.jupyter.widget-view+json": {
       "model_id": "083eb27fd5914dbba8b78d3205a387e3",
       "version_major": 2,
       "version_minor": 0
      },
      "text/plain": [
       "  0%|          | 0/480 [00:00<?, ?it/s]"
      ]
     },
     "metadata": {},
     "output_type": "display_data"
    },
    {
     "name": "stdout",
     "output_type": "stream",
     "text": [
      "Failed fitting 93/2880 light curves\n"
     ]
    },
    {
     "data": {
      "application/vnd.jupyter.widget-view+json": {
       "model_id": "8179d0b9205148ca9021f7fd64e032e6",
       "version_major": 2,
       "version_minor": 0
      },
      "text/plain": [
       "  0%|          | 0/480 [00:00<?, ?it/s]"
      ]
     },
     "metadata": {},
     "output_type": "display_data"
    },
    {
     "name": "stdout",
     "output_type": "stream",
     "text": [
      "Failed fitting 85/2880 light curves\n"
     ]
    },
    {
     "data": {
      "application/vnd.jupyter.widget-view+json": {
       "model_id": "6882075a6ee2480bb9967470c287543c",
       "version_major": 2,
       "version_minor": 0
      },
      "text/plain": [
       "  0%|          | 0/480 [00:00<?, ?it/s]"
      ]
     },
     "metadata": {},
     "output_type": "display_data"
    },
    {
     "name": "stdout",
     "output_type": "stream",
     "text": [
      "Failed fitting 85/2880 light curves\n"
     ]
    },
    {
     "data": {
      "application/vnd.jupyter.widget-view+json": {
       "model_id": "773a664c684d4b95a5247a8a8ea52ade",
       "version_major": 2,
       "version_minor": 0
      },
      "text/plain": [
       "  0%|          | 0/480 [00:00<?, ?it/s]"
      ]
     },
     "metadata": {},
     "output_type": "display_data"
    },
    {
     "name": "stdout",
     "output_type": "stream",
     "text": [
      "Failed fitting 0/2880 light curves\n"
     ]
    },
    {
     "data": {
      "application/vnd.jupyter.widget-view+json": {
       "model_id": "ee1f93dc88c74497874675642cd8772c",
       "version_major": 2,
       "version_minor": 0
      },
      "text/plain": [
       "  0%|          | 0/480 [00:00<?, ?it/s]"
      ]
     },
     "metadata": {},
     "output_type": "display_data"
    },
    {
     "name": "stdout",
     "output_type": "stream",
     "text": [
      "Failed fitting 146/2880 light curves\n"
     ]
    },
    {
     "data": {
      "application/vnd.jupyter.widget-view+json": {
       "model_id": "9d8fee993d4c4b6b80a6292d9c602b9f",
       "version_major": 2,
       "version_minor": 0
      },
      "text/plain": [
       "  0%|          | 0/480 [00:00<?, ?it/s]"
      ]
     },
     "metadata": {},
     "output_type": "display_data"
    },
    {
     "name": "stdout",
     "output_type": "stream",
     "text": [
      "Failed fitting 146/2880 light curves\n"
     ]
    },
    {
     "data": {
      "application/vnd.jupyter.widget-view+json": {
       "model_id": "7191d09771ae439f88cfd9f709acc7af",
       "version_major": 2,
       "version_minor": 0
      },
      "text/plain": [
       "  0%|          | 0/480 [00:00<?, ?it/s]"
      ]
     },
     "metadata": {},
     "output_type": "display_data"
    },
    {
     "name": "stdout",
     "output_type": "stream",
     "text": [
      "Failed fitting 0/2880 light curves\n"
     ]
    }
   ],
   "source": [
    "if not os.path.isdir(\"subset_saved_fits/\"):\n",
    "    os.mkdir(\"subset_saved_fits/\")\n",
    "\n",
    "for obsday in obsdaylist:\n",
    "    if not os.path.isdir(f\"subset_saved_fits/{obsday}_days/\"):\n",
    "        os.mkdir(f\"subset_saved_fits/{obsday}_days/\")\n",
    "    filels = glob.glob(f\"subset_csv_data/{obsday}_days/*.csv\")\n",
    "    runfit(filels=filels, fit_scipy = fit_scipy_bazinNEWMOD, featurename=bazinfeatures,csvname=f\"{obsday}_days/bazinNEWMOD\")\n",
    "    runfit(filels=filels, fit_scipy = fit_scipy_bazin, featurename=bazinfeatures,csvname=f\"{obsday}_days/bazin\")\n",
    "    runfit(filels=filels, fit_scipy = fit_scipy_alercev1, featurename=alercev1features,csvname=f\"{obsday}_days/alercev1\")    \n",
    "#     runfit(filels=filels, fit_scipy = fit_scipy_alercev1NEWMOD, featurename=alercev1features,csvname=f\"{obsday}_days/alercev1NEWMOD\")        "
   ]
  },
  {
   "cell_type": "code",
   "execution_count": null,
   "id": "f4ff1369-cf7d-4743-b903-ea04d1306150",
   "metadata": {},
   "outputs": [],
   "source": []
  }
 ],
 "metadata": {
  "kernelspec": {
   "display_name": "Python 3",
   "language": "python",
   "name": "python3"
  },
  "language_info": {
   "codemirror_mode": {
    "name": "ipython",
    "version": 3
   },
   "file_extension": ".py",
   "mimetype": "text/x-python",
   "name": "python",
   "nbconvert_exporter": "python",
   "pygments_lexer": "ipython3",
   "version": "3.8.5"
  }
 },
 "nbformat": 4,
 "nbformat_minor": 5
}
