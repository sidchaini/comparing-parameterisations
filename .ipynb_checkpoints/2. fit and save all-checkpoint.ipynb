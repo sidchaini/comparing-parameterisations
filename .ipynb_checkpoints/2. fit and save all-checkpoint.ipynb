{
 "cells": [
  {
   "cell_type": "code",
   "execution_count": 2,
   "id": "596b9846",
   "metadata": {},
   "outputs": [],
   "source": [
    "import numpy as np\n",
    "np.random.seed(42)\n",
    "np.set_printoptions(suppress=True)\n",
    "from scipy.optimize import least_squares, curve_fit\n",
    "from matplotlib import pylab as plt\n",
    "import pandas as pd\n",
    "import glob\n",
    "import time\n",
    "from tqdm.notebook import tqdm\n",
    "import os\n",
    "\n",
    "import warnings\n",
    "from scipy.optimize import OptimizeWarning\n",
    "warnings.simplefilter(\"error\", OptimizeWarning)\n",
    "\n",
    "# import seaborn as sns\n",
    "# sns.set()"
   ]
  },
  {
   "cell_type": "markdown",
   "id": "fddeb436-c42f-4df8-b93d-2436d8a46c9d",
   "metadata": {},
   "source": [
    "# Defining Individual Functions for Each Parameterisation"
   ]
  },
  {
   "cell_type": "markdown",
   "id": "8b850bbb-b4cf-4efa-be7e-bb96f9bf481e",
   "metadata": {},
   "source": [
    "## FRED"
   ]
  },
  {
   "cell_type": "code",
   "execution_count": 3,
   "id": "e5f91656",
   "metadata": {},
   "outputs": [],
   "source": [
    "fredfeatures = [\"tm\", \"r\", \"d\", \"Fm\", \"b\"]\n",
    "\n",
    "def fred(time, tm, r, d, Fm, b):\n",
    "    t0 = 0 # No trigger time in our case and timestamps are arbitrary, so t0 = 0\n",
    "    x = (time+t0)/(tm+t0)\n",
    "    val = Fm * (x)**r * ((d)/(d+r) + (r)/(d+r) * (x)**(r+1) )**(-(r+d)/(r+1)) + b\n",
    "    return val\n",
    "\n",
    "def errfunc_fred(params, time, flux, fluxerr):\n",
    "    return abs(flux - fred(time, *params))/ fluxerr\n",
    "\n",
    "\n",
    "def fit_scipy_fred(time, flux, fluxerr):\n",
    "    flux = np.asarray(flux)\n",
    "    imax = flux.argmax()\n",
    "    flux_max = flux[imax]\n",
    "    \n",
    "    tm_bounds = [-0.5*time.max(), 1.5*time.max()]\n",
    "    r_bounds = [1.e-3,np.inf]\n",
    "    d_bounds = [1.e-3,np.inf]\n",
    "    Fm_bounds = [-np.inf,np.inf]\n",
    "    b_bounds = [-np.inf,np.inf]\n",
    "    \n",
    "    # Parameter guess\n",
    "    tm_guess = time[imax]\n",
    "    r_guess = 30\n",
    "    d_guess = 30\n",
    "    Fm_guess = flux_max\n",
    "    b_guess = time[0]\n",
    "    \n",
    "    guess = [tm_guess, r_guess, d_guess, Fm_guess, b_guess]\n",
    "\n",
    "    result = least_squares(errfunc_fred, guess, args=(time, flux, fluxerr), method='trf', loss='linear',\\\n",
    "                                  bounds=([tm_bounds[0], r_bounds[0], d_bounds[0], Fm_bounds[0], b_bounds[0]],\n",
    "                                          [tm_bounds[1], r_bounds[1], d_bounds[1], Fm_bounds[1], b_bounds[1]])\n",
    "                          )\n",
    "    \n",
    "    return result.x"
   ]
  },
  {
   "cell_type": "markdown",
   "id": "b07ec18d-196a-4495-9adc-f1413ccbedf3",
   "metadata": {},
   "source": [
    "## Bazin (newer version)"
   ]
  },
  {
   "cell_type": "code",
   "execution_count": 4,
   "id": "2ce6d5a6-5c87-4be6-87bb-55dd62eb34fd",
   "metadata": {},
   "outputs": [],
   "source": [
    "bazinfeatures = [\"a\", \"b\", \"t0\", \"tfall\", \"trise\"]\n",
    "\n",
    "def bazin(time, a, b, t0, tfall, trise):\n",
    "    with np.errstate(over='ignore', invalid='ignore'):\n",
    "        X = np.exp(-(time - t0) / tfall) / (1 + np.exp(-(time - t0) / trise))\n",
    "        return a * X + b\n",
    "\n",
    "def bazinr(time, a, b, t0, tfall, r):\n",
    "    trise = tfall/r\n",
    "    return bazin(time, a, b, t0, tfall, trise)\n",
    "    \n",
    "def errfunc_bazin(params, time, flux, fluxerr):\n",
    "    return abs(flux - bazinr(time, *params)) / fluxerr\n",
    "\n",
    "def fit_scipy_bazin(time, flux, fluxerr):\n",
    "    flux = np.asarray(flux)\n",
    "    imax = flux.argmax()\n",
    "    flux_max = flux[imax]\n",
    "    \n",
    "    # Parameter guess\n",
    "    a_guess = 2*flux_max\n",
    "    b_guess = 0\n",
    "    t0_guess = time[imax]\n",
    "    \n",
    "    tfall_guess = time[imax-2:imax+2].std()/2\n",
    "    if np.isnan(tfall_guess):\n",
    "        tfall_guess = time[imax-1:imax+1].std()/2\n",
    "        if np.isnan(tfall_guess):\n",
    "            tfall_guess=50\n",
    "    if tfall_guess<1:\n",
    "        tfall_guess=50\n",
    "\n",
    "    r_guess = 2\n",
    "\n",
    "    guess = [a_guess,b_guess,t0_guess,tfall_guess,r_guess]\n",
    "\n",
    "    # Parameter bounds\n",
    "    a_bounds = [1.e-3, np.inf]\n",
    "    b_bounds = [-np.inf, np.inf]\n",
    "    t0_bounds = [-0.5*time.max(), 1.5*time.max()]\n",
    "    tfall_bounds = [1.e-3, np.inf]\n",
    "    r_bounds = [1, np.inf]\n",
    "    \n",
    "    bounds = [[a_bounds[0], b_bounds[0], t0_bounds[0], tfall_bounds[0], r_bounds[0]],\n",
    "              [a_bounds[1], b_bounds[1], t0_bounds[1], tfall_bounds[1], r_bounds[1]]]\n",
    "    \n",
    "    result = least_squares(errfunc_bazin, guess, args=(time, flux, fluxerr), method='trf', loss='linear',bounds=bounds)\n",
    "    \n",
    "    a_fit,b_fit,t0_fit,tfall_fit,r_fit = result.x\n",
    "    trise_fit = tfall_fit/r_fit\n",
    "    final_result = np.array([a_fit,b_fit,t0_fit,tfall_fit,trise_fit])\n",
    "    \n",
    "    return final_result\n"
   ]
  },
  {
   "cell_type": "markdown",
   "id": "c36402e7-2b20-4a47-8165-919d330786ed",
   "metadata": {},
   "source": [
    "## ALERCE Bazin Function, with Siddharth's Guesses"
   ]
  },
  {
   "cell_type": "code",
   "execution_count": 4,
   "id": "3157f7a9-a0bd-44f1-b7c4-305ce7cb8d53",
   "metadata": {},
   "outputs": [],
   "source": [
    "alercev2myguessfeatures = [\"A\", \"t0\", \"gamma\", \"beta\", \"t_rise\", \"t_fall\"]\n",
    "\n",
    "def alercev2myguess(times, A, t0, gamma, beta, t_rise, t_fall):\n",
    "    sigmoid_factor = 1.0 / 3.0\n",
    "    t1 = t0 + gamma\n",
    "\n",
    "    sigmoid = 1.0 / (1.0 + np.exp(-sigmoid_factor * (times - t1)))\n",
    "    den = 1 + np.exp(-(times - t0) / t_rise)\n",
    "    flux = ((1 - beta) * np.exp(-(times - t1) / t_fall)\n",
    "            * sigmoid\n",
    "            + (1. - beta * (times - t0) / gamma)\n",
    "            * (1 - sigmoid)) * A / den\n",
    "    return flux\n",
    "\n",
    "def fit_scipy_alercev2myguess(times, fluxpsf, obs_errors):\n",
    "    '''\n",
    "    Adapted from:\n",
    "    https://github.com/alercebroker/lc_classifier/blob/main/lc_classifier/features/extractors/sn_parametric_model_computer.py#L113\n",
    "    '''\n",
    "    # Parameter bounds\n",
    "    argmax_fluxpsf = np.argmax(fluxpsf)\n",
    "    max_fluxpsf = fluxpsf[argmax_fluxpsf]\n",
    "    A_bounds = [max_fluxpsf / 5, max_fluxpsf * 5]\n",
    "    t0_bounds = [-0.5*times.max(), times.max()]\n",
    "    gamma_bounds = [1.0, 50]  # (1,50/100)\n",
    "    beta_bounds = [0.0, 1.0]\n",
    "    trise_bounds = [1.0, 100.0]\n",
    "    tfall_bounds = [1.0, 100.0]\n",
    "    \n",
    "    \n",
    "    # Parameter guess\n",
    "    A_guess = np.clip(1.5 * max_fluxpsf, A_bounds[0], A_bounds[1])\n",
    "    t0_guess = np.clip(times[argmax_fluxpsf] * 2.0 / 3.0, t0_bounds[0], t0_bounds[1])\n",
    "    gamma_guess = np.clip(times[argmax_fluxpsf], gamma_bounds[0], gamma_bounds[1])\n",
    "#     gamma_guess = 50\n",
    "    beta_guess = 0\n",
    "    trise_guess = np.clip(times[argmax_fluxpsf] / 2.0, trise_bounds[0], trise_bounds[1])\n",
    "#     print(f\"trise_gess = np.clip({times[argmax_fluxpsf] / 2.0},{trise_bounds[0]},{trise_bounds[1]})\")\n",
    "#     trise_guess = 45\n",
    "    tfall_guess = 40\n",
    "        \n",
    "    p0 = [A_guess, t0_guess, gamma_guess,\n",
    "          beta_guess, trise_guess, tfall_guess]\n",
    "    # get parameters\n",
    "    try:\n",
    "        pout, pcov = curve_fit(\n",
    "            f=alercev2myguess,\n",
    "            xdata=times,\n",
    "            ydata=fluxpsf,\n",
    "            p0=p0,\n",
    "            sigma=5+obs_errors,\n",
    "            bounds=[[A_bounds[0], t0_bounds[0], gamma_bounds[0], beta_bounds[0], trise_bounds[0], tfall_bounds[0]],\n",
    "                    [A_bounds[1], t0_bounds[1], gamma_bounds[1], beta_bounds[1], trise_bounds[1], tfall_bounds[1]]],\n",
    "            ftol=1e-8,\n",
    "            # verbose=2\n",
    "        )\n",
    "    except (ValueError, RuntimeError, OptimizeWarning):\n",
    "        try:\n",
    "            # print('First fit of SPM failed. Attempting second fit.')\n",
    "            pout, pcov = curve_fit(\n",
    "                f=alercev2myguess,\n",
    "                xdata=times,\n",
    "                ydata=fluxpsf,\n",
    "                p0=p0,\n",
    "                sigma=5+obs_errors,\n",
    "                bounds=[[A_bounds[0], t0_bounds[0], gamma_bounds[0], beta_bounds[0], trise_bounds[0], tfall_bounds[0]],\n",
    "                        [A_bounds[1], t0_bounds[1], gamma_bounds[1], beta_bounds[1], trise_bounds[1], tfall_bounds[1]]],\n",
    "                ftol=0.1,\n",
    "                # verbose=2\n",
    "            )\n",
    "        except (ValueError, RuntimeError, OptimizeWarning):\n",
    "            # print('Two fits of SPM failed. Returning NaN.')\n",
    "            pout = np.array([np.nan, np.nan, np.nan, np.nan, np.nan, np.nan])    \n",
    "    return pout"
   ]
  },
  {
   "cell_type": "markdown",
   "id": "17394fac-3228-4986-82d6-fc035def5ae5",
   "metadata": {},
   "source": [
    "## ALERCE Bazin Function, with ALERCE's Guesses"
   ]
  },
  {
   "cell_type": "code",
   "execution_count": 5,
   "id": "4c2b418a-f632-48c3-bb62-1f6687e4eb13",
   "metadata": {},
   "outputs": [],
   "source": [
    "alercev2alerceguessfeatures = [\"A\", \"t0\", \"gamma\", \"beta\", \"t_rise\", \"t_fall\"]\n",
    "\n",
    "def alercev2alerceguess(times, A, t0, gamma, beta, t_rise, t_fall):\n",
    "    sigmoid_factor = 1.0 / 3.0\n",
    "    t1 = t0 + gamma\n",
    "    sigmoid = 1.0 / (1.0 + np.exp(-sigmoid_factor * (times - t1)))\n",
    "    den = 1 + np.exp(-(times - t0) / t_rise)\n",
    "    flux = ((1 - beta) * np.exp(-(times - t1) / t_fall)\n",
    "            * sigmoid\n",
    "            + (1. - beta * (times - t0) / gamma)\n",
    "            * (1 - sigmoid)) * A / den\n",
    "    return flux\n",
    "\n",
    "def fit_scipy_alercev2alerceguess(times, fluxpsf, obs_errors):\n",
    "    # Parameter bounds\n",
    "    argmax_fluxpsf = np.argmax(fluxpsf)\n",
    "    max_fluxpsf = fluxpsf[argmax_fluxpsf]\n",
    "    A_bounds = [max_fluxpsf / 5, max_fluxpsf * 5]\n",
    "    t0_bounds = [-0.5*times.max(), 1.5*times.max()]\n",
    "    gamma_bounds = [1.0, 100.0]\n",
    "    beta_bounds = [0.0, 1.0]\n",
    "    trise_bounds = [1.0, 100.0]\n",
    "    tfall_bounds = [1.0, 100.0]\n",
    "    \n",
    "    # Parameter guess\n",
    "    A_guess = np.clip(1.5 * max_fluxpsf, A_bounds[0], A_bounds[1])\n",
    "    t0_guess = np.clip(times[argmax_fluxpsf] * 2.0 / 3.0, t0_bounds[0], t0_bounds[1])\n",
    "    gamma_guess = np.clip(times[argmax_fluxpsf], gamma_bounds[0], gamma_bounds[1])\n",
    "#     gamma_guess = 50\n",
    "    beta_guess = 0\n",
    "#     trise_guess = np.clip(times[argmax_fluxpsf] / 2.0, trise_bounds[0], trise_bounds[1])\n",
    "#     print(f\"trise_gess = np.clip({times[argmax_fluxpsf] / 2.0},{trise_bounds[0]},{trise_bounds[1]})\")\n",
    "    trise_guess = 45\n",
    "    tfall_guess = 50.0\n",
    "        \n",
    "    p0 = [A_guess, t0_guess, gamma_guess,\n",
    "          beta_guess, trise_guess, tfall_guess]\n",
    "    # get parameters\n",
    "    try:\n",
    "        pout, pcov = curve_fit(\n",
    "            f=alercev2alerceguess,\n",
    "            xdata=times,\n",
    "            ydata=fluxpsf,\n",
    "            p0=p0,\n",
    "            sigma=5+obs_errors,\n",
    "            bounds=[[A_bounds[0], t0_bounds[0], gamma_bounds[0], beta_bounds[0], trise_bounds[0], tfall_bounds[0]],\n",
    "                    [A_bounds[1], t0_bounds[1], gamma_bounds[1], beta_bounds[1], trise_bounds[1], tfall_bounds[1]]],\n",
    "            ftol=1e-8,\n",
    "            # verbose=2\n",
    "        )\n",
    "    except (ValueError, RuntimeError, OptimizeWarning):\n",
    "        try:\n",
    "            # print('First fit of SPM failed. Attempting second fit.')\n",
    "            pout, pcov = curve_fit(\n",
    "                f=alercev2alerceguess,\n",
    "                xdata=times,\n",
    "                ydata=fluxpsf,\n",
    "                p0=p0,\n",
    "                sigma=5+obs_errors,\n",
    "                bounds=[[A_bounds[0], t0_bounds[0], gamma_bounds[0], beta_bounds[0], trise_bounds[0], tfall_bounds[0]],\n",
    "                        [A_bounds[1], t0_bounds[1], gamma_bounds[1], beta_bounds[1], trise_bounds[1], tfall_bounds[1]]],\n",
    "                ftol=0.1,\n",
    "                # verbose=2\n",
    "            )\n",
    "        except (ValueError, RuntimeError, OptimizeWarning):\n",
    "            # print('Two fits of SPM failed. Returning NaN.')\n",
    "            pout = np.array([np.nan, np.nan, np.nan, np.nan, np.nan, np.nan])\n",
    "    \n",
    "    return pout"
   ]
  },
  {
   "cell_type": "markdown",
   "id": "3acc631a-2d45-40ba-be5b-24dcb952fa3c",
   "metadata": {},
   "source": [
    "## ALERCE Bazin Function, with Johann's method of using r = tfall/trise"
   ]
  },
  {
   "cell_type": "code",
   "execution_count": 6,
   "id": "361c5a2f-39ed-4903-8baf-a848f966163c",
   "metadata": {},
   "outputs": [],
   "source": [
    "alercev2withjohannrfeatures = [\"A\", \"t0\", \"gamma\", \"beta\", \"t_fall\", \"r\"]\n",
    "\n",
    "def alercev2withjohannr(time, A, t0, gamma, beta, t_fall, r):\n",
    "    t_rise = t_fall / r\n",
    "    sigmoid_factor = 1.0 / 3.0\n",
    "    t1 = t0 + gamma\n",
    "\n",
    "    sigmoid = 1.0 / (1.0 + np.exp(-sigmoid_factor * (time - t1)))\n",
    "    den = 1 + np.exp(-(time - t0) / t_rise)\n",
    "    flux = ((1 - beta) * np.exp(-(time - t1) / t_fall)\n",
    "            * sigmoid\n",
    "            + (1. - beta * (time - t0) / gamma)\n",
    "            * (1 - sigmoid)) * A / den\n",
    "    return flux\n",
    "\n",
    "def errfunc_alercev2withjohannr(params, time, flux, fluxerr):\n",
    "    return abs(flux - alercev2withjohannr(time, *params))/ fluxerr\n",
    "\n",
    "def fit_scipy_alercev2withjohannr(time, flux, fluxerr):\n",
    "    # Params: A, t0, gamma, beta, t_fall, r\n",
    "    imax = flux.argmax()\n",
    "\n",
    "    # Parameter bounds\n",
    "    max_flux = flux[imax]\n",
    "    A_bounds = [1.e-3, np.inf]\n",
    "    t0_bounds = [-0.5*time.max(), 1.5*time.max()]\n",
    "    gamma_bounds = [1, 100]  # (1,50/100)\n",
    "    beta_bounds = [0, 1]\n",
    "    tfall_bounds = [1.e-3, np.inf]\n",
    "    r_bounds = [1, np.inf]\n",
    "\n",
    "    # Parameter guess\n",
    "    A_guess = 2*flux.max()\n",
    "    t0_guess = time[imax]\n",
    "    gamma_guess = np.clip(time[imax], gamma_bounds[0], gamma_bounds[1])\n",
    "    # gamma_guess = 50\n",
    "    beta_guess = 0\n",
    "\n",
    "    try:\n",
    "        t_fall_guess = time[imax-2:imax+2].std()/2\n",
    "        assert(not np.isnan(t_fall_guess))\n",
    "    except:\n",
    "        try:\n",
    "            t_fall_guess = time[imax-1:imax+1].std()/2\n",
    "            assert(not np.isnan(t_fall_guess))\n",
    "        except:\n",
    "            t_fall_guess=50\n",
    "    if t_fall_guess<1:\n",
    "        t_fall_guess=50\n",
    "\n",
    "    r_guess = 1\n",
    "\n",
    "    guess = [A_guess, t0_guess, gamma_guess, beta_guess, t_fall_guess, r_guess]\n",
    "\n",
    "    result = least_squares(errfunc_alercev2withjohannr, guess, args=(time, flux, fluxerr), method='trf', loss='linear',\\\n",
    "            bounds=[[A_bounds[0], t0_bounds[0], gamma_bounds[0], beta_bounds[0], tfall_bounds[0], r_bounds[0]],\n",
    "                    [A_bounds[1], t0_bounds[1], gamma_bounds[1], beta_bounds[1], tfall_bounds[1], r_bounds[1]]])\n",
    "\n",
    "    return result.x\n"
   ]
  },
  {
   "cell_type": "markdown",
   "id": "9114df1e-523e-4693-b122-2fd0b09e2bcb",
   "metadata": {},
   "source": [
    "## Alerce (v1) Parameterisation - based on Villar"
   ]
  },
  {
   "cell_type": "code",
   "execution_count": 17,
   "id": "835252f7-fcaa-4704-9978-8d93b8c36611",
   "metadata": {},
   "outputs": [],
   "source": [
    "alercev1features = [\"a\", \"beta\", \"t0\", \"gamma\", \"t_fall\", \"t_rise\"]\n",
    "\n",
    "def upperfn(time,a,beta,t0,t1,tfall,trise):\n",
    "    val = (a*(1 - beta*(time-t0)/(t1-t0)))/(1+np.exp(-(time-t0)/trise))\n",
    "    return val\n",
    "def lowerfn(time,a,beta,t0,t1,tfall,trise):\n",
    "    val = (a*(1-beta)*np.exp(-(time-t1)/tfall))/(1+np.exp(-(time-t0)/trise))\n",
    "    return val\n",
    "def alercev1(time,a,beta,t0,gamma,tfall,trise):\n",
    "    t1 = t0 + gamma\n",
    "    val = np.piecewise(time, [time < t1, time >= t1], [lambda time: upperfn(time,a,beta,t0,t1,tfall,trise), lambda time: lowerfn(time,a,beta,t0,t1,tfall,trise)])\n",
    "    return val\n",
    "\n",
    "def errfunc_alercev1(params, time, flux, fluxerr):\n",
    "    return abs(flux - alercev1(time, *params))/ fluxerr\n",
    "\n",
    "def fit_scipy_alercev1(time, flux, fluxerr):\n",
    "    flux = np.asarray(flux)\n",
    "    imax = flux.argmax()\n",
    "    t0 = time[imax]\n",
    "    max_flux = flux[imax]\n",
    "    if max_flux>0:\n",
    "        a_bounds = [max_flux / 3.0, max_flux * 3.0]\n",
    "    else:\n",
    "        a_bounds = [-np.inf, np.inf]\n",
    "    beta_bounds = [0.0, 1.0]\n",
    "    t0_bounds = [-0.5*time.max(), 1.5*time.max()]\n",
    "    gamma_bounds = [1.0, 100.0]\n",
    "    tfall_bounds = [1.0, 100.0]\n",
    "    trise_bounds = [1.0, 100.0]\n",
    "\n",
    "    \n",
    "    a_guess = np.clip(1.5 * max_flux, a_bounds[0], a_bounds[1])\n",
    "    beta_guess = 0\n",
    "    t0_guess = np.clip(time[imax] * 2.0 / 3.0, t0_bounds[0], t0_bounds[1])\n",
    "    gamma_guess = np.clip(time[imax], gamma_bounds[0], gamma_bounds[1])\n",
    "    tfall_guess = 50\n",
    "    trise_guess = 45\n",
    "    \n",
    "    guess = [a_guess, beta_guess, t0_guess, gamma_guess, tfall_guess, trise_guess]\n",
    "    \n",
    "    result = least_squares(errfunc_alercev1, guess, args=(time, flux, fluxerr), method='trf', loss='linear',\\\n",
    "                                  bounds=([a_bounds[0], beta_bounds[0], t0_bounds[0], gamma_bounds[0], tfall_bounds[0], trise_bounds[0]],\n",
    "                                         [a_bounds[1], beta_bounds[1], t0_bounds[1], gamma_bounds[1], tfall_bounds[1], trise_bounds[1]])\n",
    "                          )\n",
    "    return result.x\n"
   ]
  },
  {
   "cell_type": "code",
   "execution_count": 5,
   "id": "b64951f2-f779-4c50-a5ee-a4a50d0d3ff7",
   "metadata": {},
   "outputs": [],
   "source": [
    "filels = glob.glob(\"csv_data/*.csv\")"
   ]
  },
  {
   "cell_type": "code",
   "execution_count": 6,
   "id": "8e7dee94-d6f9-40d5-8401-bc79e957c270",
   "metadata": {},
   "outputs": [],
   "source": [
    "def runfit(fit_scipy, featurename, csvname):\n",
    "    \n",
    "    failedfits = 0\n",
    "\n",
    "    datalist = []\n",
    "\n",
    "    for file in tqdm(filels):\n",
    "        d = pd.read_csv(file)\n",
    "        obid = int(file.split(\"/\")[-1].split(\"_\")[0])\n",
    "        obclass = file.split(\"_\")[-1].replace(\".csv\",\"\")\n",
    "        timels = []\n",
    "        featurels = []\n",
    "        for filt in \"ugrizY\":\n",
    "            band = d['band']==filt \n",
    "            t = np.array(d[band]['mjd'])\n",
    "            t = t-t[0]\n",
    "            f = np.array(d[band]['flux'])\n",
    "            fe = np.array(d[band]['fluxerr'])\n",
    "\n",
    "            try:\n",
    "                timestart = time.time()\n",
    "                params_list = list(fit_scipy(t, f, fe))\n",
    "                timestop = time.time()\n",
    "                tottime = timestop-timestart\n",
    "            except Exception as e:\n",
    "#                 print(e)\n",
    "                failedfits += 1\n",
    "                params_list = [np.nan for x in featurename]\n",
    "                tottime = np.nan\n",
    "            featurels = featurels + params_list\n",
    "            timels.append(tottime)\n",
    "        timetaken = np.mean([x for x in timels if x == x])\n",
    "\n",
    "        datalist.append([obid,obclass,timetaken]+featurels)\n",
    "\n",
    "    collist = []\n",
    "    for fil in \"ugrizY\":\n",
    "        for f in featurename:\n",
    "            collist.append(f\"{f}_{fil}\")\n",
    "\n",
    "    df = pd.DataFrame(data=datalist,columns=[\"objid\",\"objclass\",\"timetaken\"]+collist)\n",
    "\n",
    "    if not os.path.isdir(\"saved_fits/\"):\n",
    "        os.mkdir(\"saved_fits/\")\n",
    "    \n",
    "    df.to_csv(f\"saved_fits/{csvname}.csv\",index=False)\n",
    "\n",
    "    print(f\"Failed fitting {failedfits}/{len(filels)*6} light curves\")"
   ]
  },
  {
   "cell_type": "code",
   "execution_count": 10,
   "id": "7c573c27-78e2-47a8-a9e0-90d246981244",
   "metadata": {
    "tags": []
   },
   "outputs": [
    {
     "data": {
      "application/vnd.jupyter.widget-view+json": {
       "model_id": "086107d50e994dce953400a3f6e02e38",
       "version_major": 2,
       "version_minor": 0
      },
      "text/plain": [
       "  0%|          | 0/480 [00:00<?, ?it/s]"
      ]
     },
     "metadata": {},
     "output_type": "display_data"
    },
    {
     "name": "stderr",
     "output_type": "stream",
     "text": [
      "<ipython-input-2-df6b65c3b3bb>:6: RuntimeWarning: invalid value encountered in power\n",
      "  val = Fm * (x)**r * ((d)/(d+r) + (r)/(d+r) * (x)**(r+1) )**(-(r+d)/(r+1)) + b\n",
      "<ipython-input-2-df6b65c3b3bb>:6: RuntimeWarning: overflow encountered in power\n",
      "  val = Fm * (x)**r * ((d)/(d+r) + (r)/(d+r) * (x)**(r+1) )**(-(r+d)/(r+1)) + b\n",
      "<ipython-input-2-df6b65c3b3bb>:6: RuntimeWarning: invalid value encountered in multiply\n",
      "  val = Fm * (x)**r * ((d)/(d+r) + (r)/(d+r) * (x)**(r+1) )**(-(r+d)/(r+1)) + b\n",
      "<ipython-input-2-df6b65c3b3bb>:6: RuntimeWarning: overflow encountered in multiply\n",
      "  val = Fm * (x)**r * ((d)/(d+r) + (r)/(d+r) * (x)**(r+1) )**(-(r+d)/(r+1)) + b\n",
      "<ipython-input-2-df6b65c3b3bb>:5: RuntimeWarning: divide by zero encountered in true_divide\n",
      "  x = (time+t0)/(tm+t0)\n",
      "<ipython-input-2-df6b65c3b3bb>:5: RuntimeWarning: invalid value encountered in true_divide\n",
      "  x = (time+t0)/(tm+t0)\n",
      "/home/sidchaini/resspect_work/.venvs/newresspect/lib/python3.8/site-packages/numpy/core/fromnumeric.py:3419: RuntimeWarning: Mean of empty slice.\n",
      "  return _methods._mean(a, axis=axis, dtype=dtype,\n",
      "/home/sidchaini/resspect_work/.venvs/newresspect/lib/python3.8/site-packages/numpy/core/_methods.py:188: RuntimeWarning: invalid value encountered in double_scalars\n",
      "  ret = ret.dtype.type(ret / rcount)\n"
     ]
    },
    {
     "name": "stdout",
     "output_type": "stream",
     "text": [
      "Failed fitting 119/2880 light curves\n"
     ]
    }
   ],
   "source": [
    "runfit(fit_scipy = fit_scipy_fred, featurename=fredfeatures, csvname=\"fred\")"
   ]
  },
  {
   "cell_type": "code",
   "execution_count": null,
   "id": "fb797cf3-b212-4c96-8f1e-c324578049eb",
   "metadata": {
    "tags": []
   },
   "outputs": [
    {
     "data": {
      "application/vnd.jupyter.widget-view+json": {
       "model_id": "2d566f2ef5914cd0928cc1acc4ed2f9f",
       "version_major": 2,
       "version_minor": 0
      },
      "text/plain": [
       "  0%|          | 0/480 [00:00<?, ?it/s]"
      ]
     },
     "metadata": {},
     "output_type": "display_data"
    },
    {
     "name": "stderr",
     "output_type": "stream",
     "text": [
      "/home/sidchaini/resspect_work/.venvs/newresspect/lib/python3.8/site-packages/numpy/core/_methods.py:261: RuntimeWarning: Degrees of freedom <= 0 for slice\n",
      "  ret = _var(a, axis=axis, dtype=dtype, out=out, ddof=ddof,\n",
      "/home/sidchaini/resspect_work/.venvs/newresspect/lib/python3.8/site-packages/numpy/core/_methods.py:221: RuntimeWarning: invalid value encountered in true_divide\n",
      "  arrmean = um.true_divide(arrmean, div, out=arrmean, casting='unsafe',\n",
      "/home/sidchaini/resspect_work/.venvs/newresspect/lib/python3.8/site-packages/numpy/core/_methods.py:253: RuntimeWarning: invalid value encountered in double_scalars\n",
      "  ret = ret.dtype.type(ret / rcount)\n"
     ]
    }
   ],
   "source": [
    "runfit(fit_scipy = fit_scipy_bazin, featurename=bazinfeatures,csvname=\"bazin\")"
   ]
  },
  {
   "cell_type": "code",
   "execution_count": 13,
   "id": "5e08473b-ee90-463c-a0f5-2e9395ef9f1c",
   "metadata": {
    "tags": []
   },
   "outputs": [
    {
     "data": {
      "application/vnd.jupyter.widget-view+json": {
       "model_id": "d2ad0778d0a24fea88410a4cbf43c7f1",
       "version_major": 2,
       "version_minor": 0
      },
      "text/plain": [
       "  0%|          | 0/480 [00:00<?, ?it/s]"
      ]
     },
     "metadata": {},
     "output_type": "display_data"
    },
    {
     "name": "stderr",
     "output_type": "stream",
     "text": [
      "<ipython-input-4-1c6a489518d5>:8: RuntimeWarning: overflow encountered in exp\n",
      "  den = 1 + np.exp(-(times - t0) / t_rise)\n",
      "<ipython-input-4-1c6a489518d5>:9: RuntimeWarning: overflow encountered in exp\n",
      "  flux = ((1 - beta) * np.exp(-(times - t1) / t_fall)\n",
      "/home/sidchaini/resspect_work/.venvs/newresspect/lib/python3.8/site-packages/scipy/optimize/_lsq/common.py:234: RuntimeWarning: overflow encountered in double_scalars\n",
      "  ratio = actual_reduction / predicted_reduction\n",
      "<ipython-input-4-1c6a489518d5>:9: RuntimeWarning: invalid value encountered in true_divide\n",
      "  flux = ((1 - beta) * np.exp(-(times - t1) / t_fall)\n"
     ]
    },
    {
     "name": "stdout",
     "output_type": "stream",
     "text": [
      "Failed fitting 0/2880 light curves\n"
     ]
    }
   ],
   "source": [
    "runfit(fit_scipy = fit_scipy_alercev2myguess, featurename=alercev2myguessfeatures,csvname=\"alercev2myguess\")"
   ]
  },
  {
   "cell_type": "code",
   "execution_count": 14,
   "id": "1eac3c49-2173-41b3-84b4-6cd8bc973d69",
   "metadata": {
    "tags": []
   },
   "outputs": [
    {
     "data": {
      "application/vnd.jupyter.widget-view+json": {
       "model_id": "b1db1c28e4c748dea6ecaebfc26eb812",
       "version_major": 2,
       "version_minor": 0
      },
      "text/plain": [
       "  0%|          | 0/480 [00:00<?, ?it/s]"
      ]
     },
     "metadata": {},
     "output_type": "display_data"
    },
    {
     "name": "stderr",
     "output_type": "stream",
     "text": [
      "<ipython-input-5-a6abc196dbc6>:7: RuntimeWarning: overflow encountered in exp\n",
      "  den = 1 + np.exp(-(times - t0) / t_rise)\n",
      "<ipython-input-5-a6abc196dbc6>:8: RuntimeWarning: overflow encountered in exp\n",
      "  flux = ((1 - beta) * np.exp(-(times - t1) / t_fall)\n",
      "<ipython-input-5-a6abc196dbc6>:8: RuntimeWarning: invalid value encountered in true_divide\n",
      "  flux = ((1 - beta) * np.exp(-(times - t1) / t_fall)\n"
     ]
    },
    {
     "name": "stdout",
     "output_type": "stream",
     "text": [
      "Failed fitting 0/2880 light curves\n"
     ]
    }
   ],
   "source": [
    "runfit(fit_scipy = fit_scipy_alercev2alerceguess, featurename=alercev2alerceguessfeatures,csvname=\"alercev2alerceguess\")"
   ]
  },
  {
   "cell_type": "code",
   "execution_count": 15,
   "id": "a82f9bb2-fefa-4f8b-91dd-9214a2d51528",
   "metadata": {
    "tags": []
   },
   "outputs": [
    {
     "data": {
      "application/vnd.jupyter.widget-view+json": {
       "model_id": "39d52d1e7ae24a41b06ba36c11c92065",
       "version_major": 2,
       "version_minor": 0
      },
      "text/plain": [
       "  0%|          | 0/480 [00:00<?, ?it/s]"
      ]
     },
     "metadata": {},
     "output_type": "display_data"
    },
    {
     "name": "stderr",
     "output_type": "stream",
     "text": [
      "<ipython-input-6-ce85ff4b3f89>:9: RuntimeWarning: overflow encountered in exp\n",
      "  den = 1 + np.exp(-(time - t0) / t_rise)\n",
      "<ipython-input-6-ce85ff4b3f89>:10: RuntimeWarning: overflow encountered in exp\n",
      "  flux = ((1 - beta) * np.exp(-(time - t1) / t_fall)\n",
      "<ipython-input-6-ce85ff4b3f89>:10: RuntimeWarning: invalid value encountered in true_divide\n",
      "  flux = ((1 - beta) * np.exp(-(time - t1) / t_fall)\n"
     ]
    },
    {
     "name": "stdout",
     "output_type": "stream",
     "text": [
      "Failed fitting 49/2880 light curves\n"
     ]
    }
   ],
   "source": [
    "runfit(fit_scipy = fit_scipy_alercev2withjohannr, featurename=alercev2withjohannrfeatures,csvname=\"alercev2withjohannr\")"
   ]
  },
  {
   "cell_type": "code",
   "execution_count": 18,
   "id": "3da7f2c5-2b3e-4462-96ff-54d4b84ea02c",
   "metadata": {},
   "outputs": [
    {
     "data": {
      "application/vnd.jupyter.widget-view+json": {
       "model_id": "f83edfdae423410da2084fa422ee892f",
       "version_major": 2,
       "version_minor": 0
      },
      "text/plain": [
       "  0%|          | 0/480 [00:00<?, ?it/s]"
      ]
     },
     "metadata": {},
     "output_type": "display_data"
    },
    {
     "name": "stderr",
     "output_type": "stream",
     "text": [
      "<ipython-input-17-0d6f4f6fa3e7>:4: RuntimeWarning: overflow encountered in exp\n",
      "  val = (a*(1 - beta*(time-t0)/(t1-t0)))/(1+np.exp(-(time-t0)/trise))\n"
     ]
    },
    {
     "name": "stdout",
     "output_type": "stream",
     "text": [
      "Failed fitting 0/2880 light curves\n"
     ]
    }
   ],
   "source": [
    "runfit(fit_scipy = fit_scipy_alercev1, featurename=alercev1features,csvname=\"alercev1\")"
   ]
  },
  {
   "cell_type": "code",
   "execution_count": 19,
   "id": "3ec4583e-b7cc-42b7-a315-b9e15e30da3d",
   "metadata": {},
   "outputs": [],
   "source": [
    "# def runfit(fit_scipy, featurename, csvname):\n",
    "\n",
    "#     failedfits = 0\n",
    "#     global datalist,collist\n",
    "#     datalist = []\n",
    "\n",
    "#     for file in tqdm(filels[17:20]):\n",
    "#         d = pd.read_csv(file)\n",
    "#         obid = int(file.split(\"/\")[-1].split(\"_\")[0])\n",
    "#         timels = []\n",
    "#         featurels = []\n",
    "#         for filt in \"ugrizY\":\n",
    "#             band = d['band']==filt \n",
    "#             t = np.array(d[band]['mjd'])\n",
    "#             t = t-t[0]\n",
    "#             f = np.array(d[band]['flux'])\n",
    "#             fe = np.array(d[band]['fluxerr'])\n",
    "\n",
    "#             try:\n",
    "#                 timestart = time.time()\n",
    "#                 params = list(fit_scipy(t, f, fe))\n",
    "#                 timestop = time.time()\n",
    "#                 tottime = timestop-timestart\n",
    "#             except Exception as e:\n",
    "# #                 print(\"Fit Failed\")\n",
    "#                 failedfits += 1\n",
    "#                 params = [np.nan for x in featurels]\n",
    "#                 tottime = np.nan\n",
    "#             featurels = featurels + params\n",
    "#             timels.append(tottime)\n",
    "#         timetaken = np.mean([x for x in timels if x == x])\n",
    "\n",
    "#         datalist.append([obid,timetaken]+featurels)\n",
    "\n",
    "#     collist = []\n",
    "#     for fil in \"ugrizY\":\n",
    "#         for f in featurels:\n",
    "#             collist.append(f\"{f}_{fil}\")\n",
    "\n",
    "#     df = pd.DataFrame(data=datalist,columns=[\"objid\",\"timetaken\"]+collist)\n",
    "\n",
    "#     df.to_csv(f\"/home/sidchaini/resspect_work/comparing parameterisations/saved_fits/{csvname}.csv\",index=False)\n",
    "\n",
    "#     print(f\"Failed fitting {failedfits}/{len(filels)*6} light curves\")"
   ]
  },
  {
   "cell_type": "code",
   "execution_count": 20,
   "id": "ff056ec2-b3db-406c-808f-38ad7975fb06",
   "metadata": {},
   "outputs": [],
   "source": [
    "# failedfits = 0\n",
    "\n",
    "# fredlist = []\n",
    "\n",
    "# for file in tqdm(filels):\n",
    "#     d = pd.read_csv(f\"/home/sidchaini/resspect_work/comparing parameterisations/csv_data/{file}\")\n",
    "#     obid = int(file.split(\"_\")[0])\n",
    "#     timels = []\n",
    "#     featurels = []\n",
    "#     for filt in \"ugrizY\":\n",
    "#         band = d['band']==filt \n",
    "#         t = np.array(d[band]['mjd'])\n",
    "#         t = t-t[0]\n",
    "#         f = np.array(d[band]['flux'])\n",
    "#         fe = np.array(d[band]['fluxerr'])\n",
    "\n",
    "#         try:\n",
    "#             timestart = time.time()\n",
    "#             params_fred = list(fit_scipy_fred(t, f, fe))\n",
    "#             timestop = time.time()\n",
    "#             tottime = timestop-timestart\n",
    "#         except Exception as e:\n",
    "#             print(\"Fit Failed\")\n",
    "#             failedfits += 1\n",
    "#             params_fred = [np.nan for x in fredfeatures]\n",
    "#             tottime = np.nan\n",
    "#         featurels = featurels + params_fred\n",
    "#         timels.append(tottime)\n",
    "#     timetaken = np.mean([x for x in timels if x == x])\n",
    "    \n",
    "#     fredlist.append([obid,timetaken]+featurels)\n",
    "    \n",
    "# collist = []\n",
    "# for fil in \"ugrizY\":\n",
    "#     for f in fredfeatures:\n",
    "#         collist.append(f\"{f}_{fil}\")\n",
    "\n",
    "# freddf = pd.DataFrame(data=fredlist,columns=[\"objid\",\"timetaken\"]+collist)\n",
    "\n",
    "# freddf.to_csv(\"/home/sidchaini/resspect_work/comparing parameterisations/saved_fits/fred.csv\")\n",
    "\n",
    "# print(f\"Failed fitting {failedfits}/{len(filels)*6} light curves\")"
   ]
  },
  {
   "cell_type": "code",
   "execution_count": 21,
   "id": "a977b1dd",
   "metadata": {},
   "outputs": [],
   "source": [
    "# # PLOT ALL EXAMPLE\n",
    "\n",
    "# d = pd.read_csv('/home/sidchaini/resspect_work/comparing parameterisations/csv_data/40369050_TDE.csv')\n",
    "\n",
    "# fig, axs = plt.subplots(2, 3, sharex=True, sharey=True, figsize=(15,10))\n",
    "# count=0\n",
    "# for filt in \"ugrizY\":\n",
    "#     band = d['band']==filt \n",
    "#     t = np.array(d[band]['mjd'])\n",
    "#     t = t-t[0]\n",
    "#     f = np.array(d[band]['flux'])\n",
    "#     fe = np.array(d[band]['fluxerr'])\n",
    "#     params_fred = fit_scipy_fred(t, f, fe)\n",
    "#     params_bazin = fit_scipy_bazin(t, f, fe)\n",
    "#     params_alercev1myguess = fit_scipy_alercev1myguess(t, f, fe)\n",
    "#     params_alercev1alerceguess = fit_scipy_alercev1alerceguess(t, f, fe)\n",
    "#     params_alercev1withjohannr = fit_scipy_alercev1withjohannr(t, f, fe)\n",
    "#     params_alercev2 = fit_scipy_alercev2(t, f, fe)\n",
    "#     x = np.arange(t.min(), t.max(),0.001)\n",
    "#     i = int(count/3)\n",
    "#     j = int(count % 3)\n",
    "#     axs[i,j].errorbar(t, f, fe, fmt='.')\n",
    "#     axs[i,j].plot(x, fred(x, *params_fred),label=\"fred\")\n",
    "#     axs[i,j].plot(x, bazin(x, *params_bazin),label=\"bazin\")\n",
    "#     axs[i,j].plot(x, alercev1myguess(x, *params_alercev1myguess),label=\"alercev1myguess\")\n",
    "#     axs[i,j].plot(x, alercev1alerceguess(x, *params_alercev1alerceguess),label=\"alercev1alerceguess\")\n",
    "#     axs[i,j].plot(x, alercev1withjohannr(x, *params_alercev1withjohannr),label=\"alercev1withjohannr\")\n",
    "#     axs[i,j].plot(x, alercev2(x, *params_alercev2),label=\"alercev2\")\n",
    "#     axs[i,j].set_title(filt)\n",
    "#     count+=1\n",
    "# handles, labels = axs[i,j].get_legend_handles_labels()\n",
    "# fig.legend(handles, labels, loc='center right')"
   ]
  }
 ],
 "metadata": {
  "kernelspec": {
   "display_name": "Python 3",
   "language": "python",
   "name": "python3"
  },
  "language_info": {
   "codemirror_mode": {
    "name": "ipython",
    "version": 3
   },
   "file_extension": ".py",
   "mimetype": "text/x-python",
   "name": "python",
   "nbconvert_exporter": "python",
   "pygments_lexer": "ipython3",
   "version": "3.8.5"
  }
 },
 "nbformat": 4,
 "nbformat_minor": 5
}
