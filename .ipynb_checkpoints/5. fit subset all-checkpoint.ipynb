{
 "cells": [
  {
   "cell_type": "code",
   "execution_count": 1,
   "id": "596b9846",
   "metadata": {},
   "outputs": [],
   "source": [
    "import numpy as np\n",
    "np.random.seed(42)\n",
    "np.set_printoptions(suppress=True)\n",
    "from scipy.optimize import least_squares, curve_fit\n",
    "from matplotlib import pylab as plt\n",
    "import pandas as pd\n",
    "import glob\n",
    "import time\n",
    "from tqdm.notebook import tqdm\n",
    "import os\n",
    "\n",
    "import warnings\n",
    "from scipy.optimize import OptimizeWarning\n",
    "warnings.simplefilter(\"error\", OptimizeWarning)\n",
    "\n",
    "# import seaborn as sns\n",
    "# sns.set()"
   ]
  },
  {
   "cell_type": "markdown",
   "id": "fddeb436-c42f-4df8-b93d-2436d8a46c9d",
   "metadata": {},
   "source": [
    "# Defining Individual Functions for Each Parameterisation"
   ]
  },
  {
   "cell_type": "markdown",
   "id": "7c0bf1cb-73cf-4896-9bdb-0717ccaca0f6",
   "metadata": {},
   "source": [
    "### 1. Bazin - Old"
   ]
  },
  {
   "cell_type": "code",
   "execution_count": 2,
   "id": "d1b8515e-d890-4a57-9d94-80837271f21c",
   "metadata": {},
   "outputs": [],
   "source": [
    "bazinfeatures = [\"a\", \"b\", \"t0\", \"tfall\", \"trise\"]\n",
    "\n",
    "def oldbazin(time, a, b, t0, tfall, trise):\n",
    "    with np.errstate(over='ignore', invalid='ignore'):\n",
    "        X = np.exp(-(time - t0) / tfall) / (1 + np.exp((time - t0) / trise))\n",
    "        return a * X + b\n",
    "    \n",
    "def errfunc_oldbazin(params, time, flux, fluxerr):\n",
    "    return abs(flux - oldbazin(time, *params))\n",
    "\n",
    "def fit_scipy_oldbazin(time, flux, fluxerr):\n",
    "    flux = np.asarray(flux)\n",
    "    t0 = time[flux.argmax()] - time[0]\n",
    "    guess = [0, 0, t0, 40, -5]\n",
    "\n",
    "    result = least_squares(errfunc_oldbazin, guess, args=(time, flux, fluxerr), method='lm')\n",
    "\n",
    "    return result.x"
   ]
  },
  {
   "cell_type": "markdown",
   "id": "392a3b61-116d-4a7d-b068-f53427845b2b",
   "metadata": {},
   "source": [
    "### 2. Bazin - New"
   ]
  },
  {
   "cell_type": "code",
   "execution_count": 3,
   "id": "044e9ecb-6ec6-4c7c-80b9-6d5c5e7f24bb",
   "metadata": {},
   "outputs": [],
   "source": [
    "bazinfeatures = [\"a\", \"b\", \"t0\", \"tfall\", \"trise\"]\n",
    "\n",
    "def bazin(time, a, b, t0, tfall, trise):\n",
    "    with np.errstate(over='ignore', invalid='ignore'):\n",
    "        X = np.exp(-(time - t0) / tfall) / (1 + np.exp(-(time - t0) / trise))\n",
    "        return a * X + b\n",
    "\n",
    "def bazinr(time, a, b, t0, tfall, r):\n",
    "    trise = tfall/r\n",
    "    return bazin(time, a, b, t0, tfall, trise)\n",
    "    \n",
    "def errfunc_bazin(params, time, flux, fluxerr):\n",
    "    return abs(flux - bazinr(time, *params)) / fluxerr\n",
    "\n",
    "def fit_scipy_bazin(time, flux, fluxerr):\n",
    "    flux = np.asarray(flux)\n",
    "    imax = flux.argmax()\n",
    "    flux_max = flux[imax]\n",
    "    \n",
    "    # Parameter guess\n",
    "    a_guess = 2*flux_max\n",
    "    b_guess = 0\n",
    "    t0_guess = time[imax]\n",
    "    \n",
    "    tfall_guess = time[imax-2:imax+2].std()/2\n",
    "    if np.isnan(tfall_guess):\n",
    "        tfall_guess = time[imax-1:imax+1].std()/2\n",
    "        if np.isnan(tfall_guess):\n",
    "            tfall_guess=50\n",
    "    if tfall_guess<1:\n",
    "        tfall_guess=50\n",
    "\n",
    "    r_guess = 2\n",
    "\n",
    "    guess = [a_guess,b_guess,t0_guess,tfall_guess,r_guess]\n",
    "\n",
    "    # Parameter bounds\n",
    "    a_bounds = [1.e-3, np.inf]\n",
    "    b_bounds = [-np.inf, np.inf]\n",
    "    t0_bounds = [-0.5*time.max(), 1.5*time.max()]\n",
    "    tfall_bounds = [1.e-3, np.inf]\n",
    "    r_bounds = [1, np.inf]\n",
    "    \n",
    "    bounds = [[a_bounds[0], b_bounds[0], t0_bounds[0], tfall_bounds[0], r_bounds[0]],\n",
    "              [a_bounds[1], b_bounds[1], t0_bounds[1], tfall_bounds[1], r_bounds[1]]]\n",
    "    \n",
    "    result = least_squares(errfunc_bazin, guess, args=(time, flux, fluxerr), method='trf', loss='linear',bounds=bounds)\n",
    "    \n",
    "    a_fit,b_fit,t0_fit,tfall_fit,r_fit = result.x\n",
    "    trise_fit = tfall_fit/r_fit\n",
    "    final_result = np.array([a_fit,b_fit,t0_fit,tfall_fit,trise_fit])\n",
    "    \n",
    "    return final_result"
   ]
  },
  {
   "cell_type": "markdown",
   "id": "b465ef50-e908-40cd-8e09-96ab34197add",
   "metadata": {},
   "source": [
    "### 3. FRED"
   ]
  },
  {
   "cell_type": "code",
   "execution_count": 4,
   "id": "350d20be-70fe-46b4-b56a-5b2be0d99626",
   "metadata": {},
   "outputs": [],
   "source": [
    "fredfeatures = [\"tm\", \"r\", \"d\", \"Fm\", \"b\"]\n",
    "\n",
    "def fred(time, tm, r, d, Fm, b):\n",
    "    t0 = 0 # No trigger time in our case and timestamps are arbitrary, so t0 = 0\n",
    "    x = (time+t0)/(tm+t0)\n",
    "    val = Fm * (x)**r * ((d)/(d+r) + (r)/(d+r) * (x)**(r+1) )**(-(r+d)/(r+1)) + b\n",
    "    return val\n",
    "\n",
    "def errfunc_fred(params, time, flux, fluxerr):\n",
    "    return abs(flux - fred(time, *params))/ fluxerr\n",
    "\n",
    "\n",
    "def fit_scipy_fred(time, flux, fluxerr):\n",
    "    flux = np.asarray(flux)\n",
    "    imax = flux.argmax()\n",
    "    flux_max = flux[imax]\n",
    "    \n",
    "    tm_bounds = [-0.5*time.max(), 1.5*time.max()]\n",
    "    r_bounds = [1.e-3,np.inf]\n",
    "    d_bounds = [1.e-3,np.inf]\n",
    "    Fm_bounds = [-np.inf,np.inf]\n",
    "    b_bounds = [-np.inf,np.inf]\n",
    "    \n",
    "    # Parameter guess\n",
    "    tm_guess = time[imax]\n",
    "    r_guess = 30\n",
    "    d_guess = 30\n",
    "    Fm_guess = flux_max\n",
    "    b_guess = time[0]\n",
    "    \n",
    "    guess = [tm_guess, r_guess, d_guess, Fm_guess, b_guess]\n",
    "\n",
    "    result = least_squares(errfunc_fred, guess, args=(time, flux, fluxerr), method='trf', loss='linear',\\\n",
    "                                  bounds=([tm_bounds[0], r_bounds[0], d_bounds[0], Fm_bounds[0], b_bounds[0]],\n",
    "                                          [tm_bounds[1], r_bounds[1], d_bounds[1], Fm_bounds[1], b_bounds[1]])\n",
    "                          )\n",
    "    \n",
    "    return result.x"
   ]
  },
  {
   "cell_type": "markdown",
   "id": "0ef4e829-6c99-4e15-bde6-1c1470963232",
   "metadata": {},
   "source": [
    "### 4. Karpenka"
   ]
  },
  {
   "cell_type": "code",
   "execution_count": 5,
   "id": "407d6305-7ab0-46c8-918d-ad77a331465c",
   "metadata": {},
   "outputs": [],
   "source": [
    "karpenkafeatures = [\"a\", \"b\", \"t0\", \"tfall\", \"trise\", \"t1\", \"c\"]\n",
    "\n",
    "def karpenka(time, a, b, t0, tfall, trise, t1, c):\n",
    "    val = a*(1+b*(time-t1)**2)* (np.exp(-(time-t0)/tfall))/(1+np.exp(-(time-t0)/trise))\n",
    "    return val + c\n",
    "\n",
    "def karpenkar(time, a, b, t0, tfall, r, t1, c):\n",
    "    trise = tfall/r\n",
    "    return karpenka(time, a, b, t0, tfall, trise, t1, c)\n",
    "\n",
    "def errfunc_karpenka(params, time, flux, fluxerr):\n",
    "    return abs(flux - karpenkar(time, *params)) / fluxerr\n",
    "\n",
    "def fit_scipy_karpenka(time, flux, fluxerr):\n",
    "    flux = np.asarray(flux)\n",
    "    imax = flux.argmax()\n",
    "    flux_max = flux[imax]\n",
    "    \n",
    "    # Parameter guess\n",
    "    a_guess = 2*flux_max\n",
    "    b_guess = 0\n",
    "    t0_guess = time[imax]\n",
    "    t1_guess = time[imax]\n",
    "    c_guess = 0\n",
    "    \n",
    "    tfall_guess = time[imax-2:imax+2].std()/2\n",
    "    if np.isnan(tfall_guess):\n",
    "        tfall_guess = time[imax-1:imax+1].std()/2\n",
    "        if np.isnan(tfall_guess):\n",
    "            tfall_guess=50\n",
    "    if tfall_guess<1:\n",
    "        tfall_guess=50\n",
    "\n",
    "    r_guess = 2\n",
    "\n",
    "    guess = [a_guess,b_guess,t0_guess,tfall_guess,r_guess,t1_guess,c_guess]\n",
    "\n",
    "    # Parameter bounds\n",
    "    a_bounds = [1.e-3, np.inf]\n",
    "    b_bounds = [-np.inf, np.inf]\n",
    "    t0_bounds = [-0.5*time.max(), 1.5*time.max()]\n",
    "    t1_bounds = [-0.5*time.max(), 1.5*time.max()]\n",
    "    tfall_bounds = [1.e-3, np.inf]\n",
    "    r_bounds = [1, np.inf]\n",
    "    c_bounds = [-np.inf, np.inf]\n",
    "    \n",
    "    bounds = [[a_bounds[0], b_bounds[0], t0_bounds[0], tfall_bounds[0], r_bounds[0], t1_bounds[0], c_bounds[0]],\n",
    "              [a_bounds[1], b_bounds[1], t0_bounds[1], tfall_bounds[1], r_bounds[1], t1_bounds[1], c_bounds[1]]]\n",
    "    \n",
    "    result = least_squares(errfunc_karpenka, guess, args=(time, flux, fluxerr), method='trf', loss='linear',bounds=bounds)\n",
    "    \n",
    "    a_fit,b_fit,t0_fit,tfall_fit,r_fit,t1_fit,c_fit = result.x\n",
    "    trise_fit = tfall_fit/r_fit\n",
    "    final_result = np.array([a_fit,b_fit,t0_fit,tfall_fit,trise_fit,t1_fit,c_fit])\n",
    "    \n",
    "    return final_result"
   ]
  },
  {
   "cell_type": "markdown",
   "id": "bc63040f-3ae5-4df1-ade7-5a2b902696bf",
   "metadata": {},
   "source": [
    "### 5. Villar"
   ]
  },
  {
   "cell_type": "code",
   "execution_count": 6,
   "id": "f7dd48dd-7708-4afe-b5be-c4c4fd9f67f1",
   "metadata": {},
   "outputs": [],
   "source": [
    "villarfeatures = [\"a\", \"beta\", \"t0\", \"gamma\", \"t_fall\", \"t_rise\"]\n",
    "\n",
    "def villarupper(time,a,beta,t0,t1,tfall,trise):\n",
    "    val = (a + beta*(time-t0))/(1+np.exp(-(time-t0)/trise))\n",
    "    return val\n",
    "\n",
    "def villarlower(time,a,beta,t0,t1,tfall,trise):\n",
    "    val = ((a+beta*(t1-t0))*np.exp(-(time-t1)/tfall))/(1+np.exp(-(time-t0)/trise))\n",
    "    return val\n",
    "\n",
    "def villar(time,a,beta,t0,gamma,tfall,trise):\n",
    "    t1 = t0 + gamma\n",
    "    val = np.piecewise(time, [time < t1, time >= t1], [lambda time: villarupper(time,a,beta,t0,t1,tfall,trise), lambda time: villarlower(time,a,beta,t0,t1,tfall,trise)])\n",
    "    return val\n",
    "\n",
    "def errfunc_villar(params, time, flux, fluxerr):\n",
    "    return abs(flux - villar(time, *params))/ fluxerr\n",
    "\n",
    "def fit_scipy_villar(time, flux, fluxerr):\n",
    "    flux = np.asarray(flux)\n",
    "    imax = flux.argmax()\n",
    "    t0 = time[imax]\n",
    "    max_flux = flux[imax]\n",
    "    if max_flux>0:\n",
    "        a_bounds = [max_flux / 3.0, max_flux * 3.0]\n",
    "    else:\n",
    "        a_bounds = [-np.inf, np.inf]\n",
    "    beta_bounds = [0.0, 1.0]\n",
    "    t0_bounds = [-0.5*time.max(), 1.5*time.max()]\n",
    "    gamma_bounds = [1.0, 100.0]\n",
    "    tfall_bounds = [1.0, 100.0]\n",
    "    trise_bounds = [1.0, 100.0]\n",
    "\n",
    "    \n",
    "    a_guess = np.clip(1.5 * max_flux, a_bounds[0], a_bounds[1])\n",
    "    beta_guess = 0\n",
    "    t0_guess = np.clip(time[imax] * 2.0 / 3.0, t0_bounds[0], t0_bounds[1])\n",
    "    gamma_guess = np.clip(time[imax], gamma_bounds[0], gamma_bounds[1])\n",
    "    tfall_guess = 50\n",
    "    trise_guess = 45\n",
    "    \n",
    "    guess = [a_guess, beta_guess, t0_guess, gamma_guess, tfall_guess, trise_guess]\n",
    "    \n",
    "    result = least_squares(errfunc_villar, guess, args=(time, flux, fluxerr), method='trf', loss='linear',\\\n",
    "                                  bounds=([a_bounds[0], beta_bounds[0], t0_bounds[0], gamma_bounds[0], tfall_bounds[0], trise_bounds[0]],\n",
    "                                         [a_bounds[1], beta_bounds[1], t0_bounds[1], gamma_bounds[1], tfall_bounds[1], trise_bounds[1]])\n",
    "                          )\n",
    "    return result.x\n"
   ]
  },
  {
   "cell_type": "markdown",
   "id": "d1f8fde0-ecb1-40d9-b37d-f0f468e1ad31",
   "metadata": {},
   "source": [
    "### 6. ALERCE v1"
   ]
  },
  {
   "cell_type": "code",
   "execution_count": 7,
   "id": "21c1323d-df9d-4995-b88f-161f86a72382",
   "metadata": {
    "tags": []
   },
   "outputs": [],
   "source": [
    "alercev1features = [\"a\", \"beta\", \"t0\", \"gamma\", \"t_fall\", \"t_rise\"]\n",
    "\n",
    "def upperfn(time,a,beta,t0,t1,tfall,trise):\n",
    "    val = (a*(1 - beta*(time-t0)/(t1-t0)))/(1+np.exp(-(time-t0)/trise))\n",
    "    return val\n",
    "def lowerfn(time,a,beta,t0,t1,tfall,trise):\n",
    "    val = (a*(1-beta)*np.exp(-(time-t1)/tfall))/(1+np.exp(-(time-t0)/trise))\n",
    "    return val\n",
    "def alercev1(time,a,beta,t0,gamma,tfall,trise):\n",
    "    t1 = t0 + gamma\n",
    "    val = np.piecewise(time, [time < t1, time >= t1], [lambda time: upperfn(time,a,beta,t0,t1,tfall,trise), lambda time: lowerfn(time,a,beta,t0,t1,tfall,trise)])\n",
    "    return val\n",
    "\n",
    "def errfunc_alercev1(params, time, flux, fluxerr):\n",
    "    return abs(flux - alercev1(time, *params))/ fluxerr\n",
    "\n",
    "def fit_scipy_alercev1(time, flux, fluxerr):\n",
    "    flux = np.asarray(flux)\n",
    "    imax = flux.argmax()\n",
    "    t0 = time[imax]\n",
    "    max_flux = flux[imax]\n",
    "    if max_flux>0:\n",
    "        a_bounds = [max_flux / 3.0, max_flux * 3.0]\n",
    "    else:\n",
    "        a_bounds = [-np.inf, np.inf]\n",
    "    beta_bounds = [0.0, 1.0]\n",
    "    t0_bounds = [-0.5*time.max(), 1.5*time.max()]\n",
    "    gamma_bounds = [1.0, 100.0]\n",
    "    tfall_bounds = [1.0, 100.0]\n",
    "    trise_bounds = [1.0, 100.0]\n",
    "\n",
    "    \n",
    "    a_guess = np.clip(1.5 * max_flux, a_bounds[0], a_bounds[1])\n",
    "    beta_guess = 0\n",
    "    t0_guess = np.clip(time[imax] * 2.0 / 3.0, t0_bounds[0], t0_bounds[1])\n",
    "    gamma_guess = np.clip(time[imax], gamma_bounds[0], gamma_bounds[1])\n",
    "    tfall_guess = 50\n",
    "    trise_guess = 45\n",
    "    \n",
    "    guess = [a_guess, beta_guess, t0_guess, gamma_guess, tfall_guess, trise_guess]\n",
    "    \n",
    "    result = least_squares(errfunc_alercev1, guess, args=(time, flux, fluxerr), method='trf', loss='linear',\\\n",
    "                                  bounds=([a_bounds[0], beta_bounds[0], t0_bounds[0], gamma_bounds[0], tfall_bounds[0], trise_bounds[0]],\n",
    "                                         [a_bounds[1], beta_bounds[1], t0_bounds[1], gamma_bounds[1], tfall_bounds[1], trise_bounds[1]])\n",
    "                          )\n",
    "    return result.x\n"
   ]
  },
  {
   "cell_type": "markdown",
   "id": "dc2b24bd-42bc-476d-a8f2-26a2e7904bbe",
   "metadata": {},
   "source": [
    "### 7. Sánchez-Sáez (ALERCE v2)\n",
    "(NOTE: 3 Different implementations were tried for this earlier [here](https://github.com/siddharthchaini/comparing-parameterisations/blob/a2310de1b68eb47b38d671d70aadbcc839aad7af/2.%20fit%20and%20save%20all.ipynb). The following is the implementation that performed the best."
   ]
  },
  {
   "cell_type": "code",
   "execution_count": 8,
   "id": "7570c86c-307d-4457-852a-38ca9c114d3c",
   "metadata": {},
   "outputs": [],
   "source": [
    "alercev2features = [\"A\", \"t0\", \"gamma\", \"beta\", \"t_rise\", \"t_fall\"]\n",
    "\n",
    "def alercev2(times, A, t0, gamma, beta, t_rise, t_fall):\n",
    "    sigmoid_factor = 1.0 / 3.0\n",
    "    t1 = t0 + gamma\n",
    "\n",
    "    sigmoid = 1.0 / (1.0 + np.exp(-sigmoid_factor * (times - t1)))\n",
    "    den = 1 + np.exp(-(times - t0) / t_rise)\n",
    "    flux = ((1 - beta) * np.exp(-(times - t1) / t_fall)\n",
    "            * sigmoid\n",
    "            + (1. - beta * (times - t0) / gamma)\n",
    "            * (1 - sigmoid)) * A / den\n",
    "    return flux\n",
    "\n",
    "def fit_scipy_alercev2(times, fluxpsf, obs_errors):\n",
    "    '''\n",
    "    Adapted from:\n",
    "    https://github.com/alercebroker/lc_classifier/blob/main/lc_classifier/features/extractors/sn_parametric_model_computer.py#L113\n",
    "    '''\n",
    "    # Parameter bounds\n",
    "    argmax_fluxpsf = np.argmax(fluxpsf)\n",
    "    max_fluxpsf = fluxpsf[argmax_fluxpsf]\n",
    "    A_bounds = [max_fluxpsf / 5, max_fluxpsf * 5]\n",
    "    t0_bounds = [-0.5*times.max(), times.max()]\n",
    "    gamma_bounds = [1.0, 50]  # (1,50/100)\n",
    "    beta_bounds = [0.0, 1.0]\n",
    "    trise_bounds = [1.0, 100.0]\n",
    "    tfall_bounds = [1.0, 100.0]\n",
    "    \n",
    "    \n",
    "    # Parameter guess\n",
    "    A_guess = np.clip(1.5 * max_fluxpsf, A_bounds[0], A_bounds[1])\n",
    "    t0_guess = np.clip(times[argmax_fluxpsf] * 2.0 / 3.0, t0_bounds[0], t0_bounds[1])\n",
    "    gamma_guess = np.clip(times[argmax_fluxpsf], gamma_bounds[0], gamma_bounds[1])\n",
    "#     gamma_guess = 50\n",
    "    beta_guess = 0\n",
    "    trise_guess = np.clip(times[argmax_fluxpsf] / 2.0, trise_bounds[0], trise_bounds[1])\n",
    "#     print(f\"trise_gess = np.clip({times[argmax_fluxpsf] / 2.0},{trise_bounds[0]},{trise_bounds[1]})\")\n",
    "#     trise_guess = 45\n",
    "    tfall_guess = 40\n",
    "        \n",
    "    p0 = [A_guess, t0_guess, gamma_guess,\n",
    "          beta_guess, trise_guess, tfall_guess]\n",
    "    # get parameters\n",
    "    try:\n",
    "        pout, pcov = curve_fit(\n",
    "            f=alercev2,\n",
    "            xdata=times,\n",
    "            ydata=fluxpsf,\n",
    "            p0=p0,\n",
    "            sigma=5+obs_errors,\n",
    "            bounds=[[A_bounds[0], t0_bounds[0], gamma_bounds[0], beta_bounds[0], trise_bounds[0], tfall_bounds[0]],\n",
    "                    [A_bounds[1], t0_bounds[1], gamma_bounds[1], beta_bounds[1], trise_bounds[1], tfall_bounds[1]]],\n",
    "            ftol=1e-8,\n",
    "            # verbose=2\n",
    "        )\n",
    "    except (ValueError, RuntimeError, OptimizeWarning):\n",
    "        try:\n",
    "            # print('First fit of SPM failed. Attempting second fit.')\n",
    "            pout, pcov = curve_fit(\n",
    "                f=alercev2,\n",
    "                xdata=times,\n",
    "                ydata=fluxpsf,\n",
    "                p0=p0,\n",
    "                sigma=5+obs_errors,\n",
    "                bounds=[[A_bounds[0], t0_bounds[0], gamma_bounds[0], beta_bounds[0], trise_bounds[0], tfall_bounds[0]],\n",
    "                        [A_bounds[1], t0_bounds[1], gamma_bounds[1], beta_bounds[1], trise_bounds[1], tfall_bounds[1]]],\n",
    "                ftol=0.1,\n",
    "                # verbose=2\n",
    "            )\n",
    "        except (ValueError, RuntimeError, OptimizeWarning):\n",
    "            # print('Two fits of SPM failed. Returning NaN.')\n",
    "            pout = np.array([np.nan, np.nan, np.nan, np.nan, np.nan, np.nan])    \n",
    "    return pout\n"
   ]
  },
  {
   "cell_type": "markdown",
   "id": "b07ec18d-196a-4495-9adc-f1413ccbedf3",
   "metadata": {},
   "source": [
    "## 8. Bazin - With NEWMOD (set defaults if value low)\n",
    "### ADD LATER"
   ]
  },
  {
   "cell_type": "code",
   "execution_count": 9,
   "id": "2ce6d5a6-5c87-4be6-87bb-55dd62eb34fd",
   "metadata": {},
   "outputs": [],
   "source": [
    "# bazinfeatures = [\"a\", \"b\", \"t0\", \"tfall\", \"trise\"]\n",
    "\n",
    "# def bazin(time, a, b, t0, tfall, trise):\n",
    "#     with np.errstate(over='ignore', invalid='ignore'):\n",
    "#         X = np.exp(-(time - t0) / tfall) / (1 + np.exp(-(time - t0) / trise))\n",
    "#         return a * X + b\n",
    "\n",
    "# def bazinr(time, a, b, t0, tfall, r):\n",
    "#     trise = tfall/r\n",
    "#     return bazin(time, a, b, t0, tfall, trise)\n",
    "    \n",
    "# def errfunc_bazin(params, time, flux, fluxerr):\n",
    "#     return abs(flux - bazinr(time, *params)) / fluxerr\n",
    "\n",
    "# def errfunc_bazin4pts(params, time, flux, fluxerr):\n",
    "#     a,t0,tfall,r = params\n",
    "#     b=0 #HARDCODED\n",
    "#     return abs(flux - bazinr(time, a, b, t0, tfall, r)) / fluxerr\n",
    "\n",
    "# def errfunc_bazin3pts(params, time, flux, fluxerr):\n",
    "#     a,t0,tfall = params\n",
    "#     b=0 #HARDCODED\n",
    "#     trise=10 #HARDCODED\n",
    "#     r = tfall/trise\n",
    "#     return abs(flux - bazinr(time, a, b, t0, tfall, r)) / fluxerr\n",
    "\n",
    "# def fit_scipy_bazinNEWMOD(time, flux, fluxerr):\n",
    "#     flux = np.asarray(flux)\n",
    "#     imax = flux.argmax()\n",
    "#     flux_max = flux[imax]\n",
    "    \n",
    "#     # Parameter guess\n",
    "#     a_guess = 2*flux_max\n",
    "#     b_guess = 0\n",
    "#     t0_guess = time[imax]\n",
    "#     tfall_guess = time[imax-2:imax+2].std()/2\n",
    "#     if np.isnan(tfall_guess):\n",
    "#         tfall_guess = time[imax-1:imax+1].std()/2\n",
    "#         if np.isnan(tfall_guess):\n",
    "#             tfall_guess=50\n",
    "#     if tfall_guess<1:\n",
    "#         tfall_guess=50\n",
    "#     r_guess = 2\n",
    "\n",
    "        \n",
    "#     # Parameter bounds\n",
    "#     a_bounds = [1.e-3, np.inf]\n",
    "#     b_bounds = [-np.inf, np.inf]        \n",
    "#     t0_bounds = [-0.5*time.max(), 1.5*time.max()]\n",
    "#     tfall_bounds = [1.e-3, np.inf]\n",
    "#     r_bounds = [1, np.inf]\n",
    "\n",
    "    \n",
    "#     # Full fit\n",
    "#     if len(flux)>=5:\n",
    "#         guess = [a_guess,b_guess,t0_guess,tfall_guess,r_guess]\n",
    "#         bounds = [[a_bounds[0], b_bounds[0], t0_bounds[0], tfall_bounds[0], r_bounds[0]],\n",
    "#                   [a_bounds[1], b_bounds[1], t0_bounds[1], tfall_bounds[1], r_bounds[1]]]\n",
    "#         result = least_squares(errfunc_bazin, guess, args=(time, flux, fluxerr), method='trf', loss='linear',bounds=bounds)\n",
    "#         a_fit,b_fit,t0_fit,tfall_fit,r_fit = result.x\n",
    "#         trise_fit = tfall_fit/r_fit\n",
    "#     elif len(flux)==4:\n",
    "#         b_fit=0 #HARDCODED\n",
    "#         guess = [a_guess,t0_guess,tfall_guess,r_guess]\n",
    "#         bounds = [[a_bounds[0], t0_bounds[0], tfall_bounds[0], r_bounds[0]],\n",
    "#                   [a_bounds[1], t0_bounds[1], tfall_bounds[1], r_bounds[1]]]\n",
    "#         result = least_squares(errfunc_bazin4pts, guess, args=(time, flux, fluxerr), method='trf', loss='linear',bounds=bounds)\n",
    "#         a_fit,t0_fit,tfall_fit,r_fit = result.x\n",
    "#         trise_fit = tfall_fit/r_fit\n",
    "#     else:\n",
    "#         b_fit=0 #HARDCODED\n",
    "#         trise_fit=10 #HARDCODED\n",
    "#         guess = [a_guess,t0_guess,tfall_guess]\n",
    "#         tfall_bounds[0] = trise_fit # CHANGE tfall lower bound to ensure tfall>trise as no r>1 bound here\n",
    "#         bounds = [[a_bounds[0], t0_bounds[0], tfall_bounds[0]],\n",
    "#                   [a_bounds[1], t0_bounds[1], tfall_bounds[1]]]\n",
    "#         result = least_squares(errfunc_bazin3pts, guess, args=(time, flux, fluxerr), method='trf', loss='linear',bounds=bounds)\n",
    "#         a_fit,t0_fit,tfall_fit = result.x\n",
    "    \n",
    "#     final_result = np.array([a_fit,b_fit,t0_fit,tfall_fit,trise_fit])\n",
    "    \n",
    "#     return final_result"
   ]
  },
  {
   "cell_type": "markdown",
   "id": "1164088c-da73-45dd-a6b5-816b00d702fc",
   "metadata": {},
   "source": [
    "---"
   ]
  },
  {
   "cell_type": "code",
   "execution_count": 10,
   "id": "4d704c6b-898c-4809-bf94-0b86747f465c",
   "metadata": {},
   "outputs": [],
   "source": [
    "directoryls = glob.glob(\"subset_csv_data/*_days\")"
   ]
  },
  {
   "cell_type": "code",
   "execution_count": 11,
   "id": "85b6edc1-ca8f-4bb4-a5a2-1fe43610bf59",
   "metadata": {},
   "outputs": [],
   "source": [
    "obsdaylist = []\n",
    "for directory in directoryls:\n",
    "    obsdaylist.append(int(directory.split(\"/\")[-1].split(\"_\")[0]))"
   ]
  },
  {
   "cell_type": "code",
   "execution_count": 12,
   "id": "b64951f2-f779-4c50-a5ee-a4a50d0d3ff7",
   "metadata": {},
   "outputs": [],
   "source": [
    "# filels = glob.glob(\"csv_data/*.csv\")"
   ]
  },
  {
   "cell_type": "code",
   "execution_count": 13,
   "id": "babe8beb-e11d-41c7-82e8-df51fc68d907",
   "metadata": {},
   "outputs": [],
   "source": [
    "def runfit(filels, fit_scipy, featurename, csvname):\n",
    "    \n",
    "    failedfits = 0\n",
    "\n",
    "    datalist = []\n",
    "\n",
    "    for file in tqdm(filels,desc=csvname.split(\"/\")[-1]):\n",
    "        d = pd.read_csv(file)\n",
    "        obid = int(file.split(\"/\")[-1].split(\"_\")[0])\n",
    "        obclass = file.split(\"_\")[-1].replace(\".csv\",\"\")\n",
    "        timels = []\n",
    "        featurels = []\n",
    "        for filt in \"ugrizY\":\n",
    "            band = d['band']==filt \n",
    "            t = np.array(d[band]['mjd'])\n",
    "            if len(t)==0:\n",
    "                continue\n",
    "            t = t-t[0]\n",
    "            f = np.array(d[band]['flux'])\n",
    "            fe = np.array(d[band]['fluxerr'])\n",
    "\n",
    "            try:\n",
    "                timestart = time.time()\n",
    "                params_list = list(fit_scipy(t, f, fe))\n",
    "                timestop = time.time()\n",
    "                tottime = timestop-timestart\n",
    "            except Exception as e:\n",
    "#                 print(e)\n",
    "                failedfits += 1\n",
    "                params_list = [np.nan for x in featurename]\n",
    "                tottime = np.nan\n",
    "            featurels = featurels + params_list\n",
    "            timels.append(tottime)\n",
    "        timetaken = np.mean([x for x in timels if x == x])\n",
    "\n",
    "        datalist.append([obid,obclass,timetaken]+featurels)\n",
    "\n",
    "    collist = []\n",
    "    for fil in \"ugrizY\":\n",
    "        for f in featurename:\n",
    "            collist.append(f\"{f}_{fil}\")\n",
    "\n",
    "    df = pd.DataFrame(data=datalist,columns=[\"objid\",\"objclass\",\"timetaken\"]+collist)\n",
    "\n",
    "    if not os.path.isdir(\"subset_saved_fits/\"):\n",
    "        os.mkdir(\"subset_saved_fits/\")\n",
    "    \n",
    "    df.to_csv(f\"subset_saved_fits/{csvname}.csv\",index=False)\n",
    "\n",
    "    print(f\"Failed fitting {failedfits}/{len(filels)*6} light curves\")"
   ]
  },
  {
   "cell_type": "code",
   "execution_count": 14,
   "id": "a50ce13c-6015-4887-ab11-7256846b9224",
   "metadata": {},
   "outputs": [
    {
     "name": "stdout",
     "output_type": "stream",
     "text": [
      "********** 24 DAYS **********\n"
     ]
    },
    {
     "data": {
      "application/vnd.jupyter.widget-view+json": {
       "model_id": "1bbb7b7847d247b797f8741848f678b4",
       "version_major": 2,
       "version_minor": 0
      },
      "text/plain": [
       "oldbazin:   0%|          | 0/480 [00:00<?, ?it/s]"
      ]
     },
     "metadata": {},
     "output_type": "display_data"
    },
    {
     "name": "stderr",
     "output_type": "stream",
     "text": [
      "/home/sidchaini/resspect_work/.venvs/newresspect/lib/python3.8/site-packages/numpy/core/fromnumeric.py:3372: RuntimeWarning: Mean of empty slice.\n",
      "  return _methods._mean(a, axis=axis, dtype=dtype,\n",
      "/home/sidchaini/resspect_work/.venvs/newresspect/lib/python3.8/site-packages/numpy/core/_methods.py:170: RuntimeWarning: invalid value encountered in double_scalars\n",
      "  ret = ret.dtype.type(ret / rcount)\n"
     ]
    },
    {
     "name": "stdout",
     "output_type": "stream",
     "text": [
      "Failed fitting 2400/2880 light curves\n"
     ]
    },
    {
     "data": {
      "application/vnd.jupyter.widget-view+json": {
       "model_id": "47d5098c047943c1b4eee9fe1e54847e",
       "version_major": 2,
       "version_minor": 0
      },
      "text/plain": [
       "bazin:   0%|          | 0/480 [00:00<?, ?it/s]"
      ]
     },
     "metadata": {},
     "output_type": "display_data"
    },
    {
     "name": "stderr",
     "output_type": "stream",
     "text": [
      "/home/sidchaini/resspect_work/.venvs/newresspect/lib/python3.8/site-packages/numpy/core/_methods.py:233: RuntimeWarning: Degrees of freedom <= 0 for slice\n",
      "  ret = _var(a, axis=axis, dtype=dtype, out=out, ddof=ddof,\n",
      "/home/sidchaini/resspect_work/.venvs/newresspect/lib/python3.8/site-packages/numpy/core/_methods.py:194: RuntimeWarning: invalid value encountered in true_divide\n",
      "  arrmean = um.true_divide(\n",
      "/home/sidchaini/resspect_work/.venvs/newresspect/lib/python3.8/site-packages/numpy/core/_methods.py:226: RuntimeWarning: invalid value encountered in double_scalars\n",
      "  ret = ret.dtype.type(ret / rcount)\n"
     ]
    },
    {
     "name": "stdout",
     "output_type": "stream",
     "text": [
      "Failed fitting 356/2880 light curves\n"
     ]
    },
    {
     "data": {
      "application/vnd.jupyter.widget-view+json": {
       "model_id": "322b575e80b04eb7a6e13094b66d2163",
       "version_major": 2,
       "version_minor": 0
      },
      "text/plain": [
       "fred:   0%|          | 0/480 [00:00<?, ?it/s]"
      ]
     },
     "metadata": {},
     "output_type": "display_data"
    },
    {
     "name": "stderr",
     "output_type": "stream",
     "text": [
      "<ipython-input-4-df6b65c3b3bb>:6: RuntimeWarning: invalid value encountered in power\n",
      "  val = Fm * (x)**r * ((d)/(d+r) + (r)/(d+r) * (x)**(r+1) )**(-(r+d)/(r+1)) + b\n",
      "<ipython-input-4-df6b65c3b3bb>:5: RuntimeWarning: divide by zero encountered in true_divide\n",
      "  x = (time+t0)/(tm+t0)\n",
      "<ipython-input-4-df6b65c3b3bb>:5: RuntimeWarning: invalid value encountered in true_divide\n",
      "  x = (time+t0)/(tm+t0)\n",
      "<ipython-input-4-df6b65c3b3bb>:6: RuntimeWarning: invalid value encountered in multiply\n",
      "  val = Fm * (x)**r * ((d)/(d+r) + (r)/(d+r) * (x)**(r+1) )**(-(r+d)/(r+1)) + b\n"
     ]
    },
    {
     "name": "stdout",
     "output_type": "stream",
     "text": [
      "Failed fitting 881/2880 light curves\n"
     ]
    },
    {
     "data": {
      "application/vnd.jupyter.widget-view+json": {
       "model_id": "c305ebb630294e14a42ba7f8ba23b76b",
       "version_major": 2,
       "version_minor": 0
      },
      "text/plain": [
       "karpenka:   0%|          | 0/480 [00:00<?, ?it/s]"
      ]
     },
     "metadata": {},
     "output_type": "display_data"
    },
    {
     "name": "stderr",
     "output_type": "stream",
     "text": [
      "<ipython-input-5-ab26e66df35f>:4: RuntimeWarning: overflow encountered in exp\n",
      "  val = a*(1+b*(time-t1)**2)* (np.exp(-(time-t0)/tfall))/(1+np.exp(-(time-t0)/trise))\n",
      "<ipython-input-5-ab26e66df35f>:4: RuntimeWarning: invalid value encountered in true_divide\n",
      "  val = a*(1+b*(time-t1)**2)* (np.exp(-(time-t0)/tfall))/(1+np.exp(-(time-t0)/trise))\n",
      "<ipython-input-5-ab26e66df35f>:4: RuntimeWarning: overflow encountered in multiply\n",
      "  val = a*(1+b*(time-t1)**2)* (np.exp(-(time-t0)/tfall))/(1+np.exp(-(time-t0)/trise))\n"
     ]
    },
    {
     "name": "stdout",
     "output_type": "stream",
     "text": [
      "Failed fitting 357/2880 light curves\n"
     ]
    },
    {
     "data": {
      "application/vnd.jupyter.widget-view+json": {
       "model_id": "9b53030d5dba4d5fac4a4438c7de1774",
       "version_major": 2,
       "version_minor": 0
      },
      "text/plain": [
       "villar:   0%|          | 0/480 [00:00<?, ?it/s]"
      ]
     },
     "metadata": {},
     "output_type": "display_data"
    },
    {
     "ename": "KeyboardInterrupt",
     "evalue": "",
     "output_type": "error",
     "traceback": [
      "\u001b[0;31m---------------------------------------------------------------------------\u001b[0m",
      "\u001b[0;31mKeyboardInterrupt\u001b[0m                         Traceback (most recent call last)",
      "\u001b[0;32m<ipython-input-14-ebe143b9ab46>\u001b[0m in \u001b[0;36m<module>\u001b[0;34m\u001b[0m\n\u001b[1;32m     11\u001b[0m     \u001b[0mrunfit\u001b[0m\u001b[0;34m(\u001b[0m\u001b[0mfilels\u001b[0m\u001b[0;34m=\u001b[0m\u001b[0mfilels\u001b[0m\u001b[0;34m,\u001b[0m \u001b[0mfit_scipy\u001b[0m \u001b[0;34m=\u001b[0m \u001b[0mfit_scipy_fred\u001b[0m\u001b[0;34m,\u001b[0m \u001b[0mfeaturename\u001b[0m\u001b[0;34m=\u001b[0m\u001b[0mfredfeatures\u001b[0m\u001b[0;34m,\u001b[0m\u001b[0mcsvname\u001b[0m\u001b[0;34m=\u001b[0m\u001b[0;34mf\"{obsday}_days/fred\"\u001b[0m\u001b[0;34m)\u001b[0m\u001b[0;34m\u001b[0m\u001b[0;34m\u001b[0m\u001b[0m\n\u001b[1;32m     12\u001b[0m     \u001b[0mrunfit\u001b[0m\u001b[0;34m(\u001b[0m\u001b[0mfilels\u001b[0m\u001b[0;34m=\u001b[0m\u001b[0mfilels\u001b[0m\u001b[0;34m,\u001b[0m \u001b[0mfit_scipy\u001b[0m \u001b[0;34m=\u001b[0m \u001b[0mfit_scipy_karpenka\u001b[0m\u001b[0;34m,\u001b[0m \u001b[0mfeaturename\u001b[0m\u001b[0;34m=\u001b[0m\u001b[0mkarpenkafeatures\u001b[0m\u001b[0;34m,\u001b[0m\u001b[0mcsvname\u001b[0m\u001b[0;34m=\u001b[0m\u001b[0;34mf\"{obsday}_days/karpenka\"\u001b[0m\u001b[0;34m)\u001b[0m\u001b[0;34m\u001b[0m\u001b[0;34m\u001b[0m\u001b[0m\n\u001b[0;32m---> 13\u001b[0;31m     \u001b[0mrunfit\u001b[0m\u001b[0;34m(\u001b[0m\u001b[0mfilels\u001b[0m\u001b[0;34m=\u001b[0m\u001b[0mfilels\u001b[0m\u001b[0;34m,\u001b[0m \u001b[0mfit_scipy\u001b[0m \u001b[0;34m=\u001b[0m \u001b[0mfit_scipy_villar\u001b[0m\u001b[0;34m,\u001b[0m \u001b[0mfeaturename\u001b[0m\u001b[0;34m=\u001b[0m\u001b[0mvillarfeatures\u001b[0m\u001b[0;34m,\u001b[0m\u001b[0mcsvname\u001b[0m\u001b[0;34m=\u001b[0m\u001b[0;34mf\"{obsday}_days/villar\"\u001b[0m\u001b[0;34m)\u001b[0m\u001b[0;34m\u001b[0m\u001b[0;34m\u001b[0m\u001b[0m\n\u001b[0m\u001b[1;32m     14\u001b[0m     \u001b[0mrunfit\u001b[0m\u001b[0;34m(\u001b[0m\u001b[0mfilels\u001b[0m\u001b[0;34m=\u001b[0m\u001b[0mfilels\u001b[0m\u001b[0;34m,\u001b[0m \u001b[0mfit_scipy\u001b[0m \u001b[0;34m=\u001b[0m \u001b[0mfit_scipy_alercev1\u001b[0m\u001b[0;34m,\u001b[0m \u001b[0mfeaturename\u001b[0m\u001b[0;34m=\u001b[0m\u001b[0malercev1features\u001b[0m\u001b[0;34m,\u001b[0m\u001b[0mcsvname\u001b[0m\u001b[0;34m=\u001b[0m\u001b[0;34mf\"{obsday}_days/alercev1\"\u001b[0m\u001b[0;34m)\u001b[0m\u001b[0;34m\u001b[0m\u001b[0;34m\u001b[0m\u001b[0m\n\u001b[1;32m     15\u001b[0m     \u001b[0mrunfit\u001b[0m\u001b[0;34m(\u001b[0m\u001b[0mfilels\u001b[0m\u001b[0;34m=\u001b[0m\u001b[0mfilels\u001b[0m\u001b[0;34m,\u001b[0m \u001b[0mfit_scipy\u001b[0m \u001b[0;34m=\u001b[0m \u001b[0mfit_scipy_alercev2\u001b[0m\u001b[0;34m,\u001b[0m \u001b[0mfeaturename\u001b[0m\u001b[0;34m=\u001b[0m\u001b[0malercev2features\u001b[0m\u001b[0;34m,\u001b[0m\u001b[0mcsvname\u001b[0m\u001b[0;34m=\u001b[0m\u001b[0;34mf\"{obsday}_days/alercev2\"\u001b[0m\u001b[0;34m)\u001b[0m\u001b[0;34m\u001b[0m\u001b[0;34m\u001b[0m\u001b[0m\n",
      "\u001b[0;32m<ipython-input-13-69d268eb55d9>\u001b[0m in \u001b[0;36mrunfit\u001b[0;34m(filels, fit_scipy, featurename, csvname)\u001b[0m\n\u001b[1;32m     22\u001b[0m             \u001b[0;32mtry\u001b[0m\u001b[0;34m:\u001b[0m\u001b[0;34m\u001b[0m\u001b[0;34m\u001b[0m\u001b[0m\n\u001b[1;32m     23\u001b[0m                 \u001b[0mtimestart\u001b[0m \u001b[0;34m=\u001b[0m \u001b[0mtime\u001b[0m\u001b[0;34m.\u001b[0m\u001b[0mtime\u001b[0m\u001b[0;34m(\u001b[0m\u001b[0;34m)\u001b[0m\u001b[0;34m\u001b[0m\u001b[0;34m\u001b[0m\u001b[0m\n\u001b[0;32m---> 24\u001b[0;31m                 \u001b[0mparams_list\u001b[0m \u001b[0;34m=\u001b[0m \u001b[0mlist\u001b[0m\u001b[0;34m(\u001b[0m\u001b[0mfit_scipy\u001b[0m\u001b[0;34m(\u001b[0m\u001b[0mt\u001b[0m\u001b[0;34m,\u001b[0m \u001b[0mf\u001b[0m\u001b[0;34m,\u001b[0m \u001b[0mfe\u001b[0m\u001b[0;34m)\u001b[0m\u001b[0;34m)\u001b[0m\u001b[0;34m\u001b[0m\u001b[0;34m\u001b[0m\u001b[0m\n\u001b[0m\u001b[1;32m     25\u001b[0m                 \u001b[0mtimestop\u001b[0m \u001b[0;34m=\u001b[0m \u001b[0mtime\u001b[0m\u001b[0;34m.\u001b[0m\u001b[0mtime\u001b[0m\u001b[0;34m(\u001b[0m\u001b[0;34m)\u001b[0m\u001b[0;34m\u001b[0m\u001b[0;34m\u001b[0m\u001b[0m\n\u001b[1;32m     26\u001b[0m                 \u001b[0mtottime\u001b[0m \u001b[0;34m=\u001b[0m \u001b[0mtimestop\u001b[0m\u001b[0;34m-\u001b[0m\u001b[0mtimestart\u001b[0m\u001b[0;34m\u001b[0m\u001b[0;34m\u001b[0m\u001b[0m\n",
      "\u001b[0;32m<ipython-input-6-9194220cc274>\u001b[0m in \u001b[0;36mfit_scipy_villar\u001b[0;34m(time, flux, fluxerr)\u001b[0m\n\u001b[1;32m     42\u001b[0m     \u001b[0mguess\u001b[0m \u001b[0;34m=\u001b[0m \u001b[0;34m[\u001b[0m\u001b[0ma_guess\u001b[0m\u001b[0;34m,\u001b[0m \u001b[0mbeta_guess\u001b[0m\u001b[0;34m,\u001b[0m \u001b[0mt0_guess\u001b[0m\u001b[0;34m,\u001b[0m \u001b[0mgamma_guess\u001b[0m\u001b[0;34m,\u001b[0m \u001b[0mtfall_guess\u001b[0m\u001b[0;34m,\u001b[0m \u001b[0mtrise_guess\u001b[0m\u001b[0;34m]\u001b[0m\u001b[0;34m\u001b[0m\u001b[0;34m\u001b[0m\u001b[0m\n\u001b[1;32m     43\u001b[0m \u001b[0;34m\u001b[0m\u001b[0m\n\u001b[0;32m---> 44\u001b[0;31m     result = least_squares(errfunc_villar, guess, args=(time, flux, fluxerr), method='trf', loss='linear',\\\n\u001b[0m\u001b[1;32m     45\u001b[0m                                   bounds=([a_bounds[0], beta_bounds[0], t0_bounds[0], gamma_bounds[0], tfall_bounds[0], trise_bounds[0]],\n\u001b[1;32m     46\u001b[0m                                          [a_bounds[1], beta_bounds[1], t0_bounds[1], gamma_bounds[1], tfall_bounds[1], trise_bounds[1]])\n",
      "\u001b[0;32m~/resspect_work/.venvs/newresspect/lib/python3.8/site-packages/scipy/optimize/_lsq/least_squares.py\u001b[0m in \u001b[0;36mleast_squares\u001b[0;34m(fun, x0, jac, bounds, method, ftol, xtol, gtol, x_scale, loss, f_scale, diff_step, tr_solver, tr_options, jac_sparsity, max_nfev, verbose, args, kwargs)\u001b[0m\n\u001b[1;32m    923\u001b[0m \u001b[0;34m\u001b[0m\u001b[0m\n\u001b[1;32m    924\u001b[0m     \u001b[0;32melif\u001b[0m \u001b[0mmethod\u001b[0m \u001b[0;34m==\u001b[0m \u001b[0;34m'trf'\u001b[0m\u001b[0;34m:\u001b[0m\u001b[0;34m\u001b[0m\u001b[0;34m\u001b[0m\u001b[0m\n\u001b[0;32m--> 925\u001b[0;31m         result = trf(fun_wrapped, jac_wrapped, x0, f0, J0, lb, ub, ftol, xtol,\n\u001b[0m\u001b[1;32m    926\u001b[0m                      \u001b[0mgtol\u001b[0m\u001b[0;34m,\u001b[0m \u001b[0mmax_nfev\u001b[0m\u001b[0;34m,\u001b[0m \u001b[0mx_scale\u001b[0m\u001b[0;34m,\u001b[0m \u001b[0mloss_function\u001b[0m\u001b[0;34m,\u001b[0m \u001b[0mtr_solver\u001b[0m\u001b[0;34m,\u001b[0m\u001b[0;34m\u001b[0m\u001b[0;34m\u001b[0m\u001b[0m\n\u001b[1;32m    927\u001b[0m                      tr_options.copy(), verbose)\n",
      "\u001b[0;32m~/resspect_work/.venvs/newresspect/lib/python3.8/site-packages/scipy/optimize/_lsq/trf.py\u001b[0m in \u001b[0;36mtrf\u001b[0;34m(fun, jac, x0, f0, J0, lb, ub, ftol, xtol, gtol, max_nfev, x_scale, loss_function, tr_solver, tr_options, verbose)\u001b[0m\n\u001b[1;32m    121\u001b[0m             loss_function, tr_solver, tr_options, verbose)\n\u001b[1;32m    122\u001b[0m     \u001b[0;32melse\u001b[0m\u001b[0;34m:\u001b[0m\u001b[0;34m\u001b[0m\u001b[0;34m\u001b[0m\u001b[0m\n\u001b[0;32m--> 123\u001b[0;31m         return trf_bounds(\n\u001b[0m\u001b[1;32m    124\u001b[0m             \u001b[0mfun\u001b[0m\u001b[0;34m,\u001b[0m \u001b[0mjac\u001b[0m\u001b[0;34m,\u001b[0m \u001b[0mx0\u001b[0m\u001b[0;34m,\u001b[0m \u001b[0mf0\u001b[0m\u001b[0;34m,\u001b[0m \u001b[0mJ0\u001b[0m\u001b[0;34m,\u001b[0m \u001b[0mlb\u001b[0m\u001b[0;34m,\u001b[0m \u001b[0mub\u001b[0m\u001b[0;34m,\u001b[0m \u001b[0mftol\u001b[0m\u001b[0;34m,\u001b[0m \u001b[0mxtol\u001b[0m\u001b[0;34m,\u001b[0m \u001b[0mgtol\u001b[0m\u001b[0;34m,\u001b[0m \u001b[0mmax_nfev\u001b[0m\u001b[0;34m,\u001b[0m \u001b[0mx_scale\u001b[0m\u001b[0;34m,\u001b[0m\u001b[0;34m\u001b[0m\u001b[0;34m\u001b[0m\u001b[0m\n\u001b[1;32m    125\u001b[0m             loss_function, tr_solver, tr_options, verbose)\n",
      "\u001b[0;32m~/resspect_work/.venvs/newresspect/lib/python3.8/site-packages/scipy/optimize/_lsq/trf.py\u001b[0m in \u001b[0;36mtrf_bounds\u001b[0;34m(fun, jac, x0, f0, J0, lb, ub, ftol, xtol, gtol, max_nfev, x_scale, loss_function, tr_solver, tr_options, verbose)\u001b[0m\n\u001b[1;32m    336\u001b[0m \u001b[0;34m\u001b[0m\u001b[0m\n\u001b[1;32m    337\u001b[0m             \u001b[0mx_new\u001b[0m \u001b[0;34m=\u001b[0m \u001b[0mmake_strictly_feasible\u001b[0m\u001b[0;34m(\u001b[0m\u001b[0mx\u001b[0m \u001b[0;34m+\u001b[0m \u001b[0mstep\u001b[0m\u001b[0;34m,\u001b[0m \u001b[0mlb\u001b[0m\u001b[0;34m,\u001b[0m \u001b[0mub\u001b[0m\u001b[0;34m,\u001b[0m \u001b[0mrstep\u001b[0m\u001b[0;34m=\u001b[0m\u001b[0;36m0\u001b[0m\u001b[0;34m)\u001b[0m\u001b[0;34m\u001b[0m\u001b[0;34m\u001b[0m\u001b[0m\n\u001b[0;32m--> 338\u001b[0;31m             \u001b[0mf_new\u001b[0m \u001b[0;34m=\u001b[0m \u001b[0mfun\u001b[0m\u001b[0;34m(\u001b[0m\u001b[0mx_new\u001b[0m\u001b[0;34m)\u001b[0m\u001b[0;34m\u001b[0m\u001b[0;34m\u001b[0m\u001b[0m\n\u001b[0m\u001b[1;32m    339\u001b[0m             \u001b[0mnfev\u001b[0m \u001b[0;34m+=\u001b[0m \u001b[0;36m1\u001b[0m\u001b[0;34m\u001b[0m\u001b[0;34m\u001b[0m\u001b[0m\n\u001b[1;32m    340\u001b[0m \u001b[0;34m\u001b[0m\u001b[0m\n",
      "\u001b[0;32m~/resspect_work/.venvs/newresspect/lib/python3.8/site-packages/scipy/optimize/_lsq/least_squares.py\u001b[0m in \u001b[0;36mfun_wrapped\u001b[0;34m(x)\u001b[0m\n\u001b[1;32m    810\u001b[0m \u001b[0;34m\u001b[0m\u001b[0m\n\u001b[1;32m    811\u001b[0m     \u001b[0;32mdef\u001b[0m \u001b[0mfun_wrapped\u001b[0m\u001b[0;34m(\u001b[0m\u001b[0mx\u001b[0m\u001b[0;34m)\u001b[0m\u001b[0;34m:\u001b[0m\u001b[0;34m\u001b[0m\u001b[0;34m\u001b[0m\u001b[0m\n\u001b[0;32m--> 812\u001b[0;31m         \u001b[0;32mreturn\u001b[0m \u001b[0mnp\u001b[0m\u001b[0;34m.\u001b[0m\u001b[0matleast_1d\u001b[0m\u001b[0;34m(\u001b[0m\u001b[0mfun\u001b[0m\u001b[0;34m(\u001b[0m\u001b[0mx\u001b[0m\u001b[0;34m,\u001b[0m \u001b[0;34m*\u001b[0m\u001b[0margs\u001b[0m\u001b[0;34m,\u001b[0m \u001b[0;34m**\u001b[0m\u001b[0mkwargs\u001b[0m\u001b[0;34m)\u001b[0m\u001b[0;34m)\u001b[0m\u001b[0;34m\u001b[0m\u001b[0;34m\u001b[0m\u001b[0m\n\u001b[0m\u001b[1;32m    813\u001b[0m \u001b[0;34m\u001b[0m\u001b[0m\n\u001b[1;32m    814\u001b[0m     \u001b[0;32mif\u001b[0m \u001b[0mmethod\u001b[0m \u001b[0;34m==\u001b[0m \u001b[0;34m'trf'\u001b[0m\u001b[0;34m:\u001b[0m\u001b[0;34m\u001b[0m\u001b[0;34m\u001b[0m\u001b[0m\n",
      "\u001b[0;32m<ipython-input-6-9194220cc274>\u001b[0m in \u001b[0;36merrfunc_villar\u001b[0;34m(params, time, flux, fluxerr)\u001b[0m\n\u001b[1;32m     15\u001b[0m \u001b[0;34m\u001b[0m\u001b[0m\n\u001b[1;32m     16\u001b[0m \u001b[0;32mdef\u001b[0m \u001b[0merrfunc_villar\u001b[0m\u001b[0;34m(\u001b[0m\u001b[0mparams\u001b[0m\u001b[0;34m,\u001b[0m \u001b[0mtime\u001b[0m\u001b[0;34m,\u001b[0m \u001b[0mflux\u001b[0m\u001b[0;34m,\u001b[0m \u001b[0mfluxerr\u001b[0m\u001b[0;34m)\u001b[0m\u001b[0;34m:\u001b[0m\u001b[0;34m\u001b[0m\u001b[0;34m\u001b[0m\u001b[0m\n\u001b[0;32m---> 17\u001b[0;31m     \u001b[0;32mreturn\u001b[0m \u001b[0mabs\u001b[0m\u001b[0;34m(\u001b[0m\u001b[0mflux\u001b[0m \u001b[0;34m-\u001b[0m \u001b[0mvillar\u001b[0m\u001b[0;34m(\u001b[0m\u001b[0mtime\u001b[0m\u001b[0;34m,\u001b[0m \u001b[0;34m*\u001b[0m\u001b[0mparams\u001b[0m\u001b[0;34m)\u001b[0m\u001b[0;34m)\u001b[0m\u001b[0;34m/\u001b[0m \u001b[0mfluxerr\u001b[0m\u001b[0;34m\u001b[0m\u001b[0;34m\u001b[0m\u001b[0m\n\u001b[0m\u001b[1;32m     18\u001b[0m \u001b[0;34m\u001b[0m\u001b[0m\n\u001b[1;32m     19\u001b[0m \u001b[0;32mdef\u001b[0m \u001b[0mfit_scipy_villar\u001b[0m\u001b[0;34m(\u001b[0m\u001b[0mtime\u001b[0m\u001b[0;34m,\u001b[0m \u001b[0mflux\u001b[0m\u001b[0;34m,\u001b[0m \u001b[0mfluxerr\u001b[0m\u001b[0;34m)\u001b[0m\u001b[0;34m:\u001b[0m\u001b[0;34m\u001b[0m\u001b[0;34m\u001b[0m\u001b[0m\n",
      "\u001b[0;32m<ipython-input-6-9194220cc274>\u001b[0m in \u001b[0;36mvillar\u001b[0;34m(time, a, beta, t0, gamma, tfall, trise)\u001b[0m\n\u001b[1;32m     11\u001b[0m \u001b[0;32mdef\u001b[0m \u001b[0mvillar\u001b[0m\u001b[0;34m(\u001b[0m\u001b[0mtime\u001b[0m\u001b[0;34m,\u001b[0m\u001b[0ma\u001b[0m\u001b[0;34m,\u001b[0m\u001b[0mbeta\u001b[0m\u001b[0;34m,\u001b[0m\u001b[0mt0\u001b[0m\u001b[0;34m,\u001b[0m\u001b[0mgamma\u001b[0m\u001b[0;34m,\u001b[0m\u001b[0mtfall\u001b[0m\u001b[0;34m,\u001b[0m\u001b[0mtrise\u001b[0m\u001b[0;34m)\u001b[0m\u001b[0;34m:\u001b[0m\u001b[0;34m\u001b[0m\u001b[0;34m\u001b[0m\u001b[0m\n\u001b[1;32m     12\u001b[0m     \u001b[0mt1\u001b[0m \u001b[0;34m=\u001b[0m \u001b[0mt0\u001b[0m \u001b[0;34m+\u001b[0m \u001b[0mgamma\u001b[0m\u001b[0;34m\u001b[0m\u001b[0;34m\u001b[0m\u001b[0m\n\u001b[0;32m---> 13\u001b[0;31m     \u001b[0mval\u001b[0m \u001b[0;34m=\u001b[0m \u001b[0mnp\u001b[0m\u001b[0;34m.\u001b[0m\u001b[0mpiecewise\u001b[0m\u001b[0;34m(\u001b[0m\u001b[0mtime\u001b[0m\u001b[0;34m,\u001b[0m \u001b[0;34m[\u001b[0m\u001b[0mtime\u001b[0m \u001b[0;34m<\u001b[0m \u001b[0mt1\u001b[0m\u001b[0;34m,\u001b[0m \u001b[0mtime\u001b[0m \u001b[0;34m>=\u001b[0m \u001b[0mt1\u001b[0m\u001b[0;34m]\u001b[0m\u001b[0;34m,\u001b[0m \u001b[0;34m[\u001b[0m\u001b[0;32mlambda\u001b[0m \u001b[0mtime\u001b[0m\u001b[0;34m:\u001b[0m \u001b[0mvillarupper\u001b[0m\u001b[0;34m(\u001b[0m\u001b[0mtime\u001b[0m\u001b[0;34m,\u001b[0m\u001b[0ma\u001b[0m\u001b[0;34m,\u001b[0m\u001b[0mbeta\u001b[0m\u001b[0;34m,\u001b[0m\u001b[0mt0\u001b[0m\u001b[0;34m,\u001b[0m\u001b[0mt1\u001b[0m\u001b[0;34m,\u001b[0m\u001b[0mtfall\u001b[0m\u001b[0;34m,\u001b[0m\u001b[0mtrise\u001b[0m\u001b[0;34m)\u001b[0m\u001b[0;34m,\u001b[0m \u001b[0;32mlambda\u001b[0m \u001b[0mtime\u001b[0m\u001b[0;34m:\u001b[0m \u001b[0mvillarlower\u001b[0m\u001b[0;34m(\u001b[0m\u001b[0mtime\u001b[0m\u001b[0;34m,\u001b[0m\u001b[0ma\u001b[0m\u001b[0;34m,\u001b[0m\u001b[0mbeta\u001b[0m\u001b[0;34m,\u001b[0m\u001b[0mt0\u001b[0m\u001b[0;34m,\u001b[0m\u001b[0mt1\u001b[0m\u001b[0;34m,\u001b[0m\u001b[0mtfall\u001b[0m\u001b[0;34m,\u001b[0m\u001b[0mtrise\u001b[0m\u001b[0;34m)\u001b[0m\u001b[0;34m]\u001b[0m\u001b[0;34m)\u001b[0m\u001b[0;34m\u001b[0m\u001b[0;34m\u001b[0m\u001b[0m\n\u001b[0m\u001b[1;32m     14\u001b[0m     \u001b[0;32mreturn\u001b[0m \u001b[0mval\u001b[0m\u001b[0;34m\u001b[0m\u001b[0;34m\u001b[0m\u001b[0m\n\u001b[1;32m     15\u001b[0m \u001b[0;34m\u001b[0m\u001b[0m\n",
      "\u001b[0;32m<__array_function__ internals>\u001b[0m in \u001b[0;36mpiecewise\u001b[0;34m(*args, **kwargs)\u001b[0m\n",
      "\u001b[0;32m~/resspect_work/.venvs/newresspect/lib/python3.8/site-packages/numpy/lib/function_base.py\u001b[0m in \u001b[0;36mpiecewise\u001b[0;34m(x, condlist, funclist, *args, **kw)\u001b[0m\n\u001b[1;32m    612\u001b[0m             \u001b[0mvals\u001b[0m \u001b[0;34m=\u001b[0m \u001b[0mx\u001b[0m\u001b[0;34m[\u001b[0m\u001b[0mcondlist\u001b[0m\u001b[0;34m[\u001b[0m\u001b[0mk\u001b[0m\u001b[0;34m]\u001b[0m\u001b[0;34m]\u001b[0m\u001b[0;34m\u001b[0m\u001b[0;34m\u001b[0m\u001b[0m\n\u001b[1;32m    613\u001b[0m             \u001b[0;32mif\u001b[0m \u001b[0mvals\u001b[0m\u001b[0;34m.\u001b[0m\u001b[0msize\u001b[0m \u001b[0;34m>\u001b[0m \u001b[0;36m0\u001b[0m\u001b[0;34m:\u001b[0m\u001b[0;34m\u001b[0m\u001b[0;34m\u001b[0m\u001b[0m\n\u001b[0;32m--> 614\u001b[0;31m                 \u001b[0my\u001b[0m\u001b[0;34m[\u001b[0m\u001b[0mcondlist\u001b[0m\u001b[0;34m[\u001b[0m\u001b[0mk\u001b[0m\u001b[0;34m]\u001b[0m\u001b[0;34m]\u001b[0m \u001b[0;34m=\u001b[0m \u001b[0mitem\u001b[0m\u001b[0;34m(\u001b[0m\u001b[0mvals\u001b[0m\u001b[0;34m,\u001b[0m \u001b[0;34m*\u001b[0m\u001b[0margs\u001b[0m\u001b[0;34m,\u001b[0m \u001b[0;34m**\u001b[0m\u001b[0mkw\u001b[0m\u001b[0;34m)\u001b[0m\u001b[0;34m\u001b[0m\u001b[0;34m\u001b[0m\u001b[0m\n\u001b[0m\u001b[1;32m    615\u001b[0m \u001b[0;34m\u001b[0m\u001b[0m\n\u001b[1;32m    616\u001b[0m     \u001b[0;32mreturn\u001b[0m \u001b[0my\u001b[0m\u001b[0;34m\u001b[0m\u001b[0;34m\u001b[0m\u001b[0m\n",
      "\u001b[0;32m<ipython-input-6-9194220cc274>\u001b[0m in \u001b[0;36m<lambda>\u001b[0;34m(time)\u001b[0m\n\u001b[1;32m     11\u001b[0m \u001b[0;32mdef\u001b[0m \u001b[0mvillar\u001b[0m\u001b[0;34m(\u001b[0m\u001b[0mtime\u001b[0m\u001b[0;34m,\u001b[0m\u001b[0ma\u001b[0m\u001b[0;34m,\u001b[0m\u001b[0mbeta\u001b[0m\u001b[0;34m,\u001b[0m\u001b[0mt0\u001b[0m\u001b[0;34m,\u001b[0m\u001b[0mgamma\u001b[0m\u001b[0;34m,\u001b[0m\u001b[0mtfall\u001b[0m\u001b[0;34m,\u001b[0m\u001b[0mtrise\u001b[0m\u001b[0;34m)\u001b[0m\u001b[0;34m:\u001b[0m\u001b[0;34m\u001b[0m\u001b[0;34m\u001b[0m\u001b[0m\n\u001b[1;32m     12\u001b[0m     \u001b[0mt1\u001b[0m \u001b[0;34m=\u001b[0m \u001b[0mt0\u001b[0m \u001b[0;34m+\u001b[0m \u001b[0mgamma\u001b[0m\u001b[0;34m\u001b[0m\u001b[0;34m\u001b[0m\u001b[0m\n\u001b[0;32m---> 13\u001b[0;31m     \u001b[0mval\u001b[0m \u001b[0;34m=\u001b[0m \u001b[0mnp\u001b[0m\u001b[0;34m.\u001b[0m\u001b[0mpiecewise\u001b[0m\u001b[0;34m(\u001b[0m\u001b[0mtime\u001b[0m\u001b[0;34m,\u001b[0m \u001b[0;34m[\u001b[0m\u001b[0mtime\u001b[0m \u001b[0;34m<\u001b[0m \u001b[0mt1\u001b[0m\u001b[0;34m,\u001b[0m \u001b[0mtime\u001b[0m \u001b[0;34m>=\u001b[0m \u001b[0mt1\u001b[0m\u001b[0;34m]\u001b[0m\u001b[0;34m,\u001b[0m \u001b[0;34m[\u001b[0m\u001b[0;32mlambda\u001b[0m \u001b[0mtime\u001b[0m\u001b[0;34m:\u001b[0m \u001b[0mvillarupper\u001b[0m\u001b[0;34m(\u001b[0m\u001b[0mtime\u001b[0m\u001b[0;34m,\u001b[0m\u001b[0ma\u001b[0m\u001b[0;34m,\u001b[0m\u001b[0mbeta\u001b[0m\u001b[0;34m,\u001b[0m\u001b[0mt0\u001b[0m\u001b[0;34m,\u001b[0m\u001b[0mt1\u001b[0m\u001b[0;34m,\u001b[0m\u001b[0mtfall\u001b[0m\u001b[0;34m,\u001b[0m\u001b[0mtrise\u001b[0m\u001b[0;34m)\u001b[0m\u001b[0;34m,\u001b[0m \u001b[0;32mlambda\u001b[0m \u001b[0mtime\u001b[0m\u001b[0;34m:\u001b[0m \u001b[0mvillarlower\u001b[0m\u001b[0;34m(\u001b[0m\u001b[0mtime\u001b[0m\u001b[0;34m,\u001b[0m\u001b[0ma\u001b[0m\u001b[0;34m,\u001b[0m\u001b[0mbeta\u001b[0m\u001b[0;34m,\u001b[0m\u001b[0mt0\u001b[0m\u001b[0;34m,\u001b[0m\u001b[0mt1\u001b[0m\u001b[0;34m,\u001b[0m\u001b[0mtfall\u001b[0m\u001b[0;34m,\u001b[0m\u001b[0mtrise\u001b[0m\u001b[0;34m)\u001b[0m\u001b[0;34m]\u001b[0m\u001b[0;34m)\u001b[0m\u001b[0;34m\u001b[0m\u001b[0;34m\u001b[0m\u001b[0m\n\u001b[0m\u001b[1;32m     14\u001b[0m     \u001b[0;32mreturn\u001b[0m \u001b[0mval\u001b[0m\u001b[0;34m\u001b[0m\u001b[0;34m\u001b[0m\u001b[0m\n\u001b[1;32m     15\u001b[0m \u001b[0;34m\u001b[0m\u001b[0m\n",
      "\u001b[0;32m<ipython-input-6-9194220cc274>\u001b[0m in \u001b[0;36mvillarlower\u001b[0;34m(time, a, beta, t0, t1, tfall, trise)\u001b[0m\n\u001b[1;32m      6\u001b[0m \u001b[0;34m\u001b[0m\u001b[0m\n\u001b[1;32m      7\u001b[0m \u001b[0;32mdef\u001b[0m \u001b[0mvillarlower\u001b[0m\u001b[0;34m(\u001b[0m\u001b[0mtime\u001b[0m\u001b[0;34m,\u001b[0m\u001b[0ma\u001b[0m\u001b[0;34m,\u001b[0m\u001b[0mbeta\u001b[0m\u001b[0;34m,\u001b[0m\u001b[0mt0\u001b[0m\u001b[0;34m,\u001b[0m\u001b[0mt1\u001b[0m\u001b[0;34m,\u001b[0m\u001b[0mtfall\u001b[0m\u001b[0;34m,\u001b[0m\u001b[0mtrise\u001b[0m\u001b[0;34m)\u001b[0m\u001b[0;34m:\u001b[0m\u001b[0;34m\u001b[0m\u001b[0;34m\u001b[0m\u001b[0m\n\u001b[0;32m----> 8\u001b[0;31m     \u001b[0mval\u001b[0m \u001b[0;34m=\u001b[0m \u001b[0;34m(\u001b[0m\u001b[0;34m(\u001b[0m\u001b[0ma\u001b[0m\u001b[0;34m+\u001b[0m\u001b[0mbeta\u001b[0m\u001b[0;34m*\u001b[0m\u001b[0;34m(\u001b[0m\u001b[0mt1\u001b[0m\u001b[0;34m-\u001b[0m\u001b[0mt0\u001b[0m\u001b[0;34m)\u001b[0m\u001b[0;34m)\u001b[0m\u001b[0;34m*\u001b[0m\u001b[0mnp\u001b[0m\u001b[0;34m.\u001b[0m\u001b[0mexp\u001b[0m\u001b[0;34m(\u001b[0m\u001b[0;34m-\u001b[0m\u001b[0;34m(\u001b[0m\u001b[0mtime\u001b[0m\u001b[0;34m-\u001b[0m\u001b[0mt1\u001b[0m\u001b[0;34m)\u001b[0m\u001b[0;34m/\u001b[0m\u001b[0mtfall\u001b[0m\u001b[0;34m)\u001b[0m\u001b[0;34m)\u001b[0m\u001b[0;34m/\u001b[0m\u001b[0;34m(\u001b[0m\u001b[0;36m1\u001b[0m\u001b[0;34m+\u001b[0m\u001b[0mnp\u001b[0m\u001b[0;34m.\u001b[0m\u001b[0mexp\u001b[0m\u001b[0;34m(\u001b[0m\u001b[0;34m-\u001b[0m\u001b[0;34m(\u001b[0m\u001b[0mtime\u001b[0m\u001b[0;34m-\u001b[0m\u001b[0mt0\u001b[0m\u001b[0;34m)\u001b[0m\u001b[0;34m/\u001b[0m\u001b[0mtrise\u001b[0m\u001b[0;34m)\u001b[0m\u001b[0;34m)\u001b[0m\u001b[0;34m\u001b[0m\u001b[0;34m\u001b[0m\u001b[0m\n\u001b[0m\u001b[1;32m      9\u001b[0m     \u001b[0;32mreturn\u001b[0m \u001b[0mval\u001b[0m\u001b[0;34m\u001b[0m\u001b[0;34m\u001b[0m\u001b[0m\n\u001b[1;32m     10\u001b[0m \u001b[0;34m\u001b[0m\u001b[0m\n",
      "\u001b[0;31mKeyboardInterrupt\u001b[0m: "
     ]
    }
   ],
   "source": [
    "if not os.path.isdir(\"subset_saved_fits/\"):\n",
    "    os.mkdir(\"subset_saved_fits/\")\n",
    "\n",
    "for obsday in obsdaylist:\n",
    "    if not os.path.isdir(f\"subset_saved_fits/{obsday}_days/\"):\n",
    "        os.mkdir(f\"subset_saved_fits/{obsday}_days/\")\n",
    "    filels = glob.glob(f\"subset_csv_data/{obsday}_days/*.csv\")\n",
    "    print(f\"********** {obsday} DAYS **********\")\n",
    "    runfit(filels=filels, fit_scipy = fit_scipy_oldbazin, featurename=bazinfeatures,csvname=f\"{obsday}_days/oldbazin\")\n",
    "    runfit(filels=filels, fit_scipy = fit_scipy_bazin, featurename=bazinfeatures,csvname=f\"{obsday}_days/bazin\")\n",
    "    runfit(filels=filels, fit_scipy = fit_scipy_fred, featurename=fredfeatures,csvname=f\"{obsday}_days/fred\")    \n",
    "    runfit(filels=filels, fit_scipy = fit_scipy_karpenka, featurename=karpenkafeatures,csvname=f\"{obsday}_days/karpenka\")    \n",
    "    runfit(filels=filels, fit_scipy = fit_scipy_villar, featurename=villarfeatures,csvname=f\"{obsday}_days/villar\")    \n",
    "    runfit(filels=filels, fit_scipy = fit_scipy_alercev1, featurename=alercev1features,csvname=f\"{obsday}_days/alercev1\")    \n",
    "    runfit(filels=filels, fit_scipy = fit_scipy_alercev2, featurename=alercev2features,csvname=f\"{obsday}_days/alercev2\")    "
   ]
  }
 ],
 "metadata": {
  "kernelspec": {
   "display_name": "Python 3",
   "language": "python",
   "name": "python3"
  },
  "language_info": {
   "codemirror_mode": {
    "name": "ipython",
    "version": 3
   },
   "file_extension": ".py",
   "mimetype": "text/x-python",
   "name": "python",
   "nbconvert_exporter": "python",
   "pygments_lexer": "ipython3",
   "version": "3.8.5"
  }
 },
 "nbformat": 4,
 "nbformat_minor": 5
}
