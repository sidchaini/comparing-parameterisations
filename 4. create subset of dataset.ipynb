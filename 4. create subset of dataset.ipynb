{
 "cells": [
  {
   "cell_type": "code",
   "execution_count": 1,
   "id": "18714ac1-60a1-4cb6-bd4d-64e5d92c1875",
   "metadata": {},
   "outputs": [],
   "source": [
    "import numpy as np\n",
    "np.random.seed(42)\n",
    "import pandas as pd\n",
    "import glob\n",
    "from tqdm.notebook import tqdm\n",
    "import os"
   ]
  },
  {
   "cell_type": "code",
   "execution_count": 2,
   "id": "7dcd93c8-acfb-48c1-bfb9-f1051697a2ab",
   "metadata": {},
   "outputs": [],
   "source": [
    "filels = glob.glob(\"csv_data/*.csv\")"
   ]
  },
  {
   "cell_type": "code",
   "execution_count": 3,
   "id": "a8b96c13-f9b3-452a-8361-b1b449c9c718",
   "metadata": {},
   "outputs": [],
   "source": [
    "assert len(filels) == 480"
   ]
  },
  {
   "cell_type": "code",
   "execution_count": 4,
   "id": "0cd71994-4a71-41a0-9731-b9d46813f707",
   "metadata": {},
   "outputs": [],
   "source": [
    "obsdaydict = {}\n",
    "for i in range(3,16):\n",
    "    obsdaydict[i] = []"
   ]
  },
  {
   "cell_type": "code",
   "execution_count": 5,
   "id": "9857f365-43da-49fb-9145-fe32041ee36a",
   "metadata": {},
   "outputs": [
    {
     "data": {
      "application/vnd.jupyter.widget-view+json": {
       "model_id": "4dc6935eb04443358724a76288542f38",
       "version_major": 2,
       "version_minor": 0
      },
      "text/plain": [
       "  0%|          | 0/480 [00:00<?, ?it/s]"
      ]
     },
     "metadata": {},
     "output_type": "display_data"
    }
   ],
   "source": [
    "for file in tqdm(filels):\n",
    "    df = pd.read_csv(file)\n",
    "    df[\"mjd\"] = df[\"mjd\"] - df[\"mjd\"][0]\n",
    "    for j in range(len(df)):\n",
    "        m = df[df[\"mjd\"]<=j][\"band\"].value_counts().mean()\n",
    "        if m<3:\n",
    "            continue\n",
    "        obsdaydict[int(m)].append(j)\n",
    "        if m>=15:\n",
    "            break"
   ]
  },
  {
   "cell_type": "code",
   "execution_count": 6,
   "id": "33ab497c-04c9-4450-b359-d8e3c64067b1",
   "metadata": {},
   "outputs": [
    {
     "name": "stdout",
     "output_type": "stream",
     "text": [
      "For ~ 3 obs points in all 6 passbands, ~ 24 days of observations reqd.\n",
      "For ~ 4 obs points in all 6 passbands, ~ 37 days of observations reqd.\n",
      "For ~ 5 obs points in all 6 passbands, ~ 42 days of observations reqd.\n",
      "For ~ 6 obs points in all 6 passbands, ~ 64 days of observations reqd.\n",
      "For ~ 7 obs points in all 6 passbands, ~ 53 days of observations reqd.\n",
      "For ~ 8 obs points in all 6 passbands, ~ 59 days of observations reqd.\n",
      "For ~ 9 obs points in all 6 passbands, ~ 77 days of observations reqd.\n",
      "For ~ 10 obs points in all 6 passbands, ~ 85 days of observations reqd.\n",
      "For ~ 11 obs points in all 6 passbands, ~ 83 days of observations reqd.\n",
      "For ~ 12 obs points in all 6 passbands, ~ 95 days of observations reqd.\n",
      "For ~ 13 obs points in all 6 passbands, ~ 179 days of observations reqd.\n",
      "For ~ 14 obs points in all 6 passbands, ~ 108 days of observations reqd.\n",
      "For ~ 15 obs points in all 6 passbands, ~ 111 days of observations reqd.\n"
     ]
    }
   ],
   "source": [
    "kobs_days = {}\n",
    "for k in obsdaydict.keys():\n",
    "    kobs_days[k] = int(np.median(obsdaydict[k]))\n",
    "    print(f\"For ~ {k} obs points in all 6 passbands, ~ {kobs_days[k]} days of observations reqd.\")"
   ]
  },
  {
   "cell_type": "code",
   "execution_count": 8,
   "id": "34b21ccc-82b1-4beb-a07f-75ecfb685b0c",
   "metadata": {},
   "outputs": [],
   "source": [
    "if not os.path.isdir(\"subset_csv_data/\"):\n",
    "    os.mkdir(\"subset_csv_data/\")\n",
    "\n",
    "for k in obsdaydict.keys():\n",
    "    dirname = f\"subset_csv_data/{kobs_days[k]}_days\"\n",
    "    if not os.path.isdir(dirname):\n",
    "        os.mkdir(dirname)"
   ]
  },
  {
   "cell_type": "code",
   "execution_count": 9,
   "id": "a23abb1a-76f9-432d-9e0f-6cd179d65463",
   "metadata": {},
   "outputs": [
    {
     "data": {
      "application/vnd.jupyter.widget-view+json": {
       "model_id": "358eb72049194bff83f3c70bccd35a7f",
       "version_major": 2,
       "version_minor": 0
      },
      "text/plain": [
       "  0%|          | 0/480 [00:00<?, ?it/s]"
      ]
     },
     "metadata": {},
     "output_type": "display_data"
    }
   ],
   "source": [
    "for file in tqdm(filels):\n",
    "    df = pd.read_csv(file)\n",
    "    \n",
    "    for k in obsdaydict.keys():\n",
    "        smalldf = df[df[\"mjd\"] - df[\"mjd\"][0]<kobs_days[k]]\n",
    "        smalldf.to_csv(f\"subset_csv_data/{kobs_days[k]}_days/{file.split('/')[1].split('.')[0]}.csv\",index=False)"
   ]
  },
  {
   "cell_type": "code",
   "execution_count": null,
   "id": "deabdfb7-a8c9-4d72-bf2f-d38eb82f784f",
   "metadata": {},
   "outputs": [],
   "source": []
  }
 ],
 "metadata": {
  "kernelspec": {
   "display_name": "Python 3",
   "language": "python",
   "name": "python3"
  },
  "language_info": {
   "codemirror_mode": {
    "name": "ipython",
    "version": 3
   },
   "file_extension": ".py",
   "mimetype": "text/x-python",
   "name": "python",
   "nbconvert_exporter": "python",
   "pygments_lexer": "ipython3",
   "version": "3.8.5"
  }
 },
 "nbformat": 4,
 "nbformat_minor": 5
}
